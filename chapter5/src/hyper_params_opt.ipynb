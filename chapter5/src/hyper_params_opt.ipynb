{
 "cells": [
  {
   "cell_type": "code",
   "execution_count": 1,
   "metadata": {},
   "outputs": [],
   "source": [
    "import optuna\n",
    "import pandas as pd\n",
    "import numpy as np\n",
    "import lightgbm as lgb\n",
    "from sklearn.model_selection import train_test_split\n",
    "import matplotlib.pyplot as plt\n",
    "from sklearn.metrics import mean_squared_error, mean_absolute_error, r2_score\n",
    "import umap\n",
    "from sklearn.preprocessing import StandardScaler"
   ]
  },
  {
   "cell_type": "code",
   "execution_count": 2,
   "metadata": {},
   "outputs": [],
   "source": [
    "plt.rcParams[\"font.size\"] = 20\n",
    "plt.rcParams[\"axes.labelsize\"] = 20\n",
    "plt.rcParams[\"xtick.labelsize\"] = 20\n",
    "plt.rcParams[\"ytick.labelsize\"] = 20\n",
    "plt.rcParams[\"axes.titlesize\"] = 20\n",
    "plt.rcParams[\"font.family\"] = \"IPAexGothic\"  #'Times New Roman'"
   ]
  },
  {
   "cell_type": "code",
   "execution_count": 3,
   "metadata": {},
   "outputs": [
    {
     "data": {
      "text/html": [
       "<div>\n",
       "<style scoped>\n",
       "    .dataframe tbody tr th:only-of-type {\n",
       "        vertical-align: middle;\n",
       "    }\n",
       "\n",
       "    .dataframe tbody tr th {\n",
       "        vertical-align: top;\n",
       "    }\n",
       "\n",
       "    .dataframe thead th {\n",
       "        text-align: right;\n",
       "    }\n",
       "</style>\n",
       "<table border=\"1\" class=\"dataframe\">\n",
       "  <thead>\n",
       "    <tr style=\"text-align: right;\">\n",
       "      <th></th>\n",
       "      <th>ID</th>\n",
       "      <th>X</th>\n",
       "      <th>n</th>\n",
       "      <th>Fe (wt%)</th>\n",
       "      <th>Mn (wt%)</th>\n",
       "      <th>Si (wt%)</th>\n",
       "      <th>Al (wt%)</th>\n",
       "      <th>Mg (wt%)</th>\n",
       "      <th>Ti (wt%)</th>\n",
       "      <th>Cu (wt%)</th>\n",
       "      <th>Cr (wt%)</th>\n",
       "      <th>Zn (wt%)</th>\n",
       "      <th>2% proof stress (Mpa)</th>\n",
       "      <th>Tensile strength (Mpa)</th>\n",
       "      <th>Elongation (%)</th>\n",
       "    </tr>\n",
       "  </thead>\n",
       "  <tbody>\n",
       "    <tr>\n",
       "      <th>0</th>\n",
       "      <td>A 5005 P</td>\n",
       "      <td>1</td>\n",
       "      <td>2</td>\n",
       "      <td>0.35</td>\n",
       "      <td>0.1</td>\n",
       "      <td>0.15</td>\n",
       "      <td>98.33</td>\n",
       "      <td>0.8</td>\n",
       "      <td>0.0</td>\n",
       "      <td>0.1</td>\n",
       "      <td>0.05</td>\n",
       "      <td>0.125</td>\n",
       "      <td>95</td>\n",
       "      <td>125</td>\n",
       "      <td>2</td>\n",
       "    </tr>\n",
       "    <tr>\n",
       "      <th>1</th>\n",
       "      <td>A 5005 P</td>\n",
       "      <td>1</td>\n",
       "      <td>4</td>\n",
       "      <td>0.35</td>\n",
       "      <td>0.1</td>\n",
       "      <td>0.15</td>\n",
       "      <td>98.33</td>\n",
       "      <td>0.8</td>\n",
       "      <td>0.0</td>\n",
       "      <td>0.1</td>\n",
       "      <td>0.05</td>\n",
       "      <td>0.125</td>\n",
       "      <td>120</td>\n",
       "      <td>145</td>\n",
       "      <td>2</td>\n",
       "    </tr>\n",
       "    <tr>\n",
       "      <th>2</th>\n",
       "      <td>A 5005 P</td>\n",
       "      <td>1</td>\n",
       "      <td>6</td>\n",
       "      <td>0.35</td>\n",
       "      <td>0.1</td>\n",
       "      <td>0.15</td>\n",
       "      <td>98.33</td>\n",
       "      <td>0.8</td>\n",
       "      <td>0.0</td>\n",
       "      <td>0.1</td>\n",
       "      <td>0.05</td>\n",
       "      <td>0.125</td>\n",
       "      <td>145</td>\n",
       "      <td>165</td>\n",
       "      <td>2</td>\n",
       "    </tr>\n",
       "    <tr>\n",
       "      <th>3</th>\n",
       "      <td>A 5005 P</td>\n",
       "      <td>1</td>\n",
       "      <td>8</td>\n",
       "      <td>0.35</td>\n",
       "      <td>0.1</td>\n",
       "      <td>0.15</td>\n",
       "      <td>98.33</td>\n",
       "      <td>0.8</td>\n",
       "      <td>0.0</td>\n",
       "      <td>0.1</td>\n",
       "      <td>0.05</td>\n",
       "      <td>0.125</td>\n",
       "      <td>165</td>\n",
       "      <td>185</td>\n",
       "      <td>2</td>\n",
       "    </tr>\n",
       "    <tr>\n",
       "      <th>4</th>\n",
       "      <td>A 5005 P</td>\n",
       "      <td>2</td>\n",
       "      <td>2</td>\n",
       "      <td>0.35</td>\n",
       "      <td>0.1</td>\n",
       "      <td>0.15</td>\n",
       "      <td>98.33</td>\n",
       "      <td>0.8</td>\n",
       "      <td>0.0</td>\n",
       "      <td>0.1</td>\n",
       "      <td>0.05</td>\n",
       "      <td>0.125</td>\n",
       "      <td>85</td>\n",
       "      <td>120</td>\n",
       "      <td>4</td>\n",
       "    </tr>\n",
       "    <tr>\n",
       "      <th>...</th>\n",
       "      <td>...</td>\n",
       "      <td>...</td>\n",
       "      <td>...</td>\n",
       "      <td>...</td>\n",
       "      <td>...</td>\n",
       "      <td>...</td>\n",
       "      <td>...</td>\n",
       "      <td>...</td>\n",
       "      <td>...</td>\n",
       "      <td>...</td>\n",
       "      <td>...</td>\n",
       "      <td>...</td>\n",
       "      <td>...</td>\n",
       "      <td>...</td>\n",
       "      <td>...</td>\n",
       "    </tr>\n",
       "    <tr>\n",
       "      <th>110</th>\n",
       "      <td>A 5N01 P</td>\n",
       "      <td>1</td>\n",
       "      <td>4</td>\n",
       "      <td>0.13</td>\n",
       "      <td>0.1</td>\n",
       "      <td>0.08</td>\n",
       "      <td>99.19</td>\n",
       "      <td>0.4</td>\n",
       "      <td>0.0</td>\n",
       "      <td>0.1</td>\n",
       "      <td>0.00</td>\n",
       "      <td>0.015</td>\n",
       "      <td>115</td>\n",
       "      <td>125</td>\n",
       "      <td>3</td>\n",
       "    </tr>\n",
       "    <tr>\n",
       "      <th>111</th>\n",
       "      <td>A 5N01 P</td>\n",
       "      <td>1</td>\n",
       "      <td>6</td>\n",
       "      <td>0.13</td>\n",
       "      <td>0.1</td>\n",
       "      <td>0.08</td>\n",
       "      <td>99.19</td>\n",
       "      <td>0.4</td>\n",
       "      <td>0.0</td>\n",
       "      <td>0.1</td>\n",
       "      <td>0.00</td>\n",
       "      <td>0.015</td>\n",
       "      <td>135</td>\n",
       "      <td>145</td>\n",
       "      <td>2</td>\n",
       "    </tr>\n",
       "    <tr>\n",
       "      <th>112</th>\n",
       "      <td>A 5N01 P</td>\n",
       "      <td>3</td>\n",
       "      <td>2</td>\n",
       "      <td>0.13</td>\n",
       "      <td>0.1</td>\n",
       "      <td>0.08</td>\n",
       "      <td>99.19</td>\n",
       "      <td>0.4</td>\n",
       "      <td>0.0</td>\n",
       "      <td>0.1</td>\n",
       "      <td>0.00</td>\n",
       "      <td>0.015</td>\n",
       "      <td>85</td>\n",
       "      <td>120</td>\n",
       "      <td>4</td>\n",
       "    </tr>\n",
       "    <tr>\n",
       "      <th>113</th>\n",
       "      <td>A 5N01 P</td>\n",
       "      <td>3</td>\n",
       "      <td>4</td>\n",
       "      <td>0.13</td>\n",
       "      <td>0.1</td>\n",
       "      <td>0.08</td>\n",
       "      <td>99.19</td>\n",
       "      <td>0.4</td>\n",
       "      <td>0.0</td>\n",
       "      <td>0.1</td>\n",
       "      <td>0.00</td>\n",
       "      <td>0.015</td>\n",
       "      <td>105</td>\n",
       "      <td>140</td>\n",
       "      <td>3</td>\n",
       "    </tr>\n",
       "    <tr>\n",
       "      <th>114</th>\n",
       "      <td>A 5N01 P</td>\n",
       "      <td>3</td>\n",
       "      <td>6</td>\n",
       "      <td>0.13</td>\n",
       "      <td>0.1</td>\n",
       "      <td>0.08</td>\n",
       "      <td>99.19</td>\n",
       "      <td>0.4</td>\n",
       "      <td>0.0</td>\n",
       "      <td>0.1</td>\n",
       "      <td>0.00</td>\n",
       "      <td>0.015</td>\n",
       "      <td>125</td>\n",
       "      <td>160</td>\n",
       "      <td>2</td>\n",
       "    </tr>\n",
       "  </tbody>\n",
       "</table>\n",
       "<p>115 rows × 15 columns</p>\n",
       "</div>"
      ],
      "text/plain": [
       "           ID  X  n  Fe (wt%)  Mn (wt%)  Si (wt%)  Al (wt%)  Mg (wt%)  \\\n",
       "0    A 5005 P  1  2      0.35       0.1      0.15     98.33       0.8   \n",
       "1    A 5005 P  1  4      0.35       0.1      0.15     98.33       0.8   \n",
       "2    A 5005 P  1  6      0.35       0.1      0.15     98.33       0.8   \n",
       "3    A 5005 P  1  8      0.35       0.1      0.15     98.33       0.8   \n",
       "4    A 5005 P  2  2      0.35       0.1      0.15     98.33       0.8   \n",
       "..        ... .. ..       ...       ...       ...       ...       ...   \n",
       "110  A 5N01 P  1  4      0.13       0.1      0.08     99.19       0.4   \n",
       "111  A 5N01 P  1  6      0.13       0.1      0.08     99.19       0.4   \n",
       "112  A 5N01 P  3  2      0.13       0.1      0.08     99.19       0.4   \n",
       "113  A 5N01 P  3  4      0.13       0.1      0.08     99.19       0.4   \n",
       "114  A 5N01 P  3  6      0.13       0.1      0.08     99.19       0.4   \n",
       "\n",
       "     Ti (wt%)  Cu (wt%)  Cr (wt%)  Zn (wt%)  2% proof stress (Mpa)  \\\n",
       "0         0.0       0.1      0.05     0.125                     95   \n",
       "1         0.0       0.1      0.05     0.125                    120   \n",
       "2         0.0       0.1      0.05     0.125                    145   \n",
       "3         0.0       0.1      0.05     0.125                    165   \n",
       "4         0.0       0.1      0.05     0.125                     85   \n",
       "..        ...       ...       ...       ...                    ...   \n",
       "110       0.0       0.1      0.00     0.015                    115   \n",
       "111       0.0       0.1      0.00     0.015                    135   \n",
       "112       0.0       0.1      0.00     0.015                     85   \n",
       "113       0.0       0.1      0.00     0.015                    105   \n",
       "114       0.0       0.1      0.00     0.015                    125   \n",
       "\n",
       "     Tensile strength (Mpa)  Elongation (%)  \n",
       "0                       125               2  \n",
       "1                       145               2  \n",
       "2                       165               2  \n",
       "3                       185               2  \n",
       "4                       120               4  \n",
       "..                      ...             ...  \n",
       "110                     125               3  \n",
       "111                     145               2  \n",
       "112                     120               4  \n",
       "113                     140               3  \n",
       "114                     160               2  \n",
       "\n",
       "[115 rows x 15 columns]"
      ]
     },
     "execution_count": 3,
     "metadata": {},
     "output_type": "execute_result"
    }
   ],
   "source": [
    "data = pd.read_csv('../input/tsta_a_1791676_sm7407.csv')\n",
    "data"
   ]
  },
  {
   "cell_type": "code",
   "execution_count": 4,
   "metadata": {},
   "outputs": [],
   "source": [
    "params = {\n",
    "    \"objective\": \"regression\",\n",
    "    \"learning_rate\": 0.01,\n",
    "    \"reg_alpha\": 0.1,\n",
    "    \"reg_lambda\": 0.1,\n",
    "    \"random_state\":42,\n",
    "    \"max_depth\": 5,\n",
    "    \"n_estimators\": 1000, \n",
    "    \"colsample_bytree\": 0.7,\n",
    "}"
   ]
  },
  {
   "cell_type": "code",
   "execution_count": null,
   "metadata": {},
   "outputs": [],
   "source": [
    "# 説明変数と目的変数\n",
    "wt_columns = [col for col in data.columns if '(wt%)' in col]\n",
    "additional_features = ['X', 'n']\n",
    "all_features = wt_columns + additional_features\n",
    "X = data[all_features]\n",
    "y_elongation = data[\"Elongation (%)\"]\n",
    "y_proof_stress = data[\"2% proof stress (Mpa)\"]\n",
    "\n",
    "# トレーニングとテストデータに分割\n",
    "X_train, X_test, y_train_elongation, y_test_elongation = train_test_split(\n",
    "    X, y_elongation, test_size=0.2, random_state=42\n",
    ")\n",
    "_, _, y_train_proof_stress, y_test_proof_stress = train_test_split(\n",
    "    X, y_proof_stress, test_size=0.2, random_state=42\n",
    ")\n",
    "\n",
    "# 学習データ用LightGBMモデルのトレーニング\n",
    "model_elongation = lgb.LGBMRegressor(**params, verbose=-1)\n",
    "model_proof_stress = lgb.LGBMRegressor(**param, verbose=-1)\n",
    "\n",
    "model_elongation.fit(X_train, y_train_elongation)\n",
    "model_proof_stress.fit(X_train, y_train_proof_stress)\n",
    "\n",
    "# テストデータでの予測値\n",
    "y_pred_elongation = model_elongation.predict(X_test)\n",
    "y_pred_proof_stress = model_proof_stress.predict(X_test)"
   ]
  },
  {
   "cell_type": "code",
   "execution_count": 6,
   "metadata": {},
   "outputs": [],
   "source": [
    "# 指標計算関数\n",
    "def calculate_metrics(y_true, y_pred):\n",
    "    r2 = r2_score(y_true, y_pred)\n",
    "    rmse = mean_squared_error(y_true, y_pred, squared=False)\n",
    "    mae = mean_absolute_error(y_true, y_pred)\n",
    "    return r2, rmse, mae\n",
    "\n",
    "# Elongation (%) の評価指標\n",
    "r2_elongation, rmse_elongation, mae_elongation = calculate_metrics(y_test_elongation, y_pred_elongation)\n",
    "\n",
    "# 2% proof stress (Mpa) の評価指標\n",
    "r2_proof_stress, rmse_proof_stress, mae_proof_stress = calculate_metrics(y_test_proof_stress, y_pred_proof_stress)"
   ]
  },
  {
   "cell_type": "code",
   "execution_count": 7,
   "metadata": {},
   "outputs": [
    {
     "data": {
      "text/plain": [
       "Text(0.5, 1.0, 'Elongation (%) - Prediction vs Actual\\n')"
      ]
     },
     "execution_count": 7,
     "metadata": {},
     "output_type": "execute_result"
    },
    {
     "name": "stderr",
     "output_type": "stream",
     "text": [
      "findfont: Font family ['IPAexGothic'] not found. Falling back to DejaVu Sans.\n"
     ]
    },
    {
     "data": {
      "image/png": "[encoded data removed]",
      "text/plain": [
       "<Figure size 800x800 with 1 Axes>"
      ]
     },
     "metadata": {},
     "output_type": "display_data"
    }
   ],
   "source": [
    "## Elongation (%) のプロット\n",
    "plt.figure(figsize=(8, 8))\n",
    "plt.scatter(y_test_elongation, y_pred_elongation, alpha=0.7)\n",
    "plt.plot(\n",
    "    [y_test_elongation.min(), y_test_elongation.max()],\n",
    "    [y_test_elongation.min(), y_test_elongation.max()],\n",
    "    '--',\n",
    "    color=\"gray\",\n",
    "    label=\"truth\"\n",
    ")\n",
    "plt.text(\n",
    "        0.6, 0.3, f\"RMSE: {rmse_elongation:.2f}\", transform=plt.gca().transAxes\n",
    "    )\n",
    "plt.text(\n",
    "    0.6, 0.2, f\"MAE: {mae_elongation:.2f}\", transform=plt.gca().transAxes\n",
    ")\n",
    "plt.text(0.6, 0.1, f\"R2: {r2_elongation:.2f}\", transform=plt.gca().transAxes)\n",
    "plt.xlabel('Actual')\n",
    "plt.ylabel('Predicted')\n",
    "plt.title(f'Elongation (%) - Prediction vs Actual\\n')"
   ]
  },
  {
   "cell_type": "code",
   "execution_count": 8,
   "metadata": {},
   "outputs": [
    {
     "data": {
      "image/png": "[encoded data removed]",
      "text/plain": [
       "<Figure size 800x800 with 1 Axes>"
      ]
     },
     "metadata": {},
     "output_type": "display_data"
    }
   ],
   "source": [
    "# 2% proof stress (Mpa) のプロット\n",
    "plt.figure(figsize=(8, 8))\n",
    "plt.scatter(y_test_proof_stress, y_pred_proof_stress, alpha=0.7)\n",
    "plt.plot(\n",
    "    [y_test_proof_stress.min(), y_test_proof_stress.max()],\n",
    "    [y_test_proof_stress.min(), y_test_proof_stress.max()],\n",
    "    '--',\n",
    "    color=\"gray\",\n",
    "    label=\"truth\"\n",
    ")\n",
    "\n",
    "plt.text(\n",
    "        0.6, 0.3, f\"RMSE: {rmse_proof_stress:.2f}\", transform=plt.gca().transAxes\n",
    "    )\n",
    "plt.text(\n",
    "    0.6, 0.2, f\"MAE: {mae_proof_stress:.2f}\", transform=plt.gca().transAxes\n",
    ")\n",
    "plt.text(0.6, 0.1, f\"R2: {r2_proof_stress:.2f}\", transform=plt.gca().transAxes)\n",
    "\n",
    "plt.xlabel('Actual')\n",
    "plt.ylabel('Predicted')\n",
    "plt.title(f'2% proof stress (Mpa) - Prediction vs Actual\\n')\n",
    "\n",
    "plt.tight_layout()\n",
    "plt.show()"
   ]
  },
  {
   "cell_type": "code",
   "execution_count": null,
   "metadata": {},
   "outputs": [
    {
     "name": "stderr",
     "output_type": "stream",
     "text": [
      "[I 2024-12-05 12:48:55,666] A new study created in memory with name: no-name-b39750f4-62a0-46e2-9fc6-beda454d17eb\n"
     ]
    },
    {
     "name": "stdout",
     "output_type": "stream",
     "text": [
      "[LightGBM] [Warning] min_data_in_leaf is set=15, min_child_samples=20 will be ignored. Current value: min_data_in_leaf=15\n"
     ]
    },
    {
     "name": "stderr",
     "output_type": "stream",
     "text": [
      "[I 2024-12-05 12:48:56,282] Trial 0 finished with value: 1.865636313118617 and parameters: {'min_data_in_leaf': 15}. Best is trial 0 with value: 1.865636313118617.\n",
      "[I 2024-12-05 12:48:56,424] Trial 1 finished with value: 2.103559933633798 and parameters: {'min_data_in_leaf': 30}. Best is trial 0 with value: 1.865636313118617.\n"
     ]
    },
    {
     "name": "stdout",
     "output_type": "stream",
     "text": [
      "[LightGBM] [Warning] min_data_in_leaf is set=30, min_child_samples=20 will be ignored. Current value: min_data_in_leaf=30\n",
      "[LightGBM] [Warning] min_data_in_leaf is set=25, min_child_samples=20 will be ignored. Current value: min_data_in_leaf=25\n"
     ]
    },
    {
     "name": "stderr",
     "output_type": "stream",
     "text": [
      "[I 2024-12-05 12:48:56,602] Trial 2 finished with value: 1.9103847967166399 and parameters: {'min_data_in_leaf': 25}. Best is trial 0 with value: 1.865636313118617.\n",
      "[I 2024-12-05 12:48:56,711] Trial 3 finished with value: 1.9167016537342731 and parameters: {'min_data_in_leaf': 20}. Best is trial 0 with value: 1.865636313118617.\n"
     ]
    },
    {
     "name": "stdout",
     "output_type": "stream",
     "text": [
      "[LightGBM] [Warning] min_data_in_leaf is set=20, min_child_samples=20 will be ignored. Current value: min_data_in_leaf=20\n",
      "[LightGBM] [Warning] min_data_in_leaf is set=5, min_child_samples=20 will be ignored. Current value: min_data_in_leaf=5\n"
     ]
    },
    {
     "name": "stderr",
     "output_type": "stream",
     "text": [
      "[I 2024-12-05 12:48:57,080] Trial 4 finished with value: 0.979291123533478 and parameters: {'min_data_in_leaf': 5}. Best is trial 4 with value: 0.979291123533478.\n"
     ]
    },
    {
     "name": "stdout",
     "output_type": "stream",
     "text": [
      "[LightGBM] [Warning] min_data_in_leaf is set=5, min_child_samples=20 will be ignored. Current value: min_data_in_leaf=5\n"
     ]
    },
    {
     "name": "stderr",
     "output_type": "stream",
     "text": [
      "[I 2024-12-05 12:48:57,305] Trial 5 finished with value: 0.979291123533478 and parameters: {'min_data_in_leaf': 5}. Best is trial 4 with value: 0.979291123533478.\n"
     ]
    },
    {
     "name": "stdout",
     "output_type": "stream",
     "text": [
      "[LightGBM] [Warning] min_data_in_leaf is set=5, min_child_samples=20 will be ignored. Current value: min_data_in_leaf=5\n"
     ]
    },
    {
     "name": "stderr",
     "output_type": "stream",
     "text": [
      "[I 2024-12-05 12:48:57,519] Trial 6 finished with value: 0.979291123533478 and parameters: {'min_data_in_leaf': 5}. Best is trial 4 with value: 0.979291123533478.\n",
      "[I 2024-12-05 12:48:57,620] Trial 7 finished with value: 2.103559933633798 and parameters: {'min_data_in_leaf': 30}. Best is trial 4 with value: 0.979291123533478.\n"
     ]
    },
    {
     "name": "stdout",
     "output_type": "stream",
     "text": [
      "[LightGBM] [Warning] min_data_in_leaf is set=30, min_child_samples=20 will be ignored. Current value: min_data_in_leaf=30\n",
      "[LightGBM] [Warning] min_data_in_leaf is set=20, min_child_samples=20 will be ignored. Current value: min_data_in_leaf=20\n"
     ]
    },
    {
     "name": "stderr",
     "output_type": "stream",
     "text": [
      "[I 2024-12-05 12:48:57,726] Trial 8 finished with value: 1.9167016537342731 and parameters: {'min_data_in_leaf': 20}. Best is trial 4 with value: 0.979291123533478.\n",
      "[I 2024-12-05 12:48:57,822] Trial 9 finished with value: 1.9103847967166399 and parameters: {'min_data_in_leaf': 25}. Best is trial 4 with value: 0.979291123533478.\n"
     ]
    },
    {
     "name": "stdout",
     "output_type": "stream",
     "text": [
      "[LightGBM] [Warning] min_data_in_leaf is set=25, min_child_samples=20 will be ignored. Current value: min_data_in_leaf=25\n",
      "[LightGBM] [Warning] min_data_in_leaf is set=10, min_child_samples=20 will be ignored. Current value: min_data_in_leaf=10\n"
     ]
    },
    {
     "name": "stderr",
     "output_type": "stream",
     "text": [
      "[I 2024-12-05 12:48:58,017] Trial 10 finished with value: 2.0757070890148337 and parameters: {'min_data_in_leaf': 10}. Best is trial 4 with value: 0.979291123533478.\n"
     ]
    },
    {
     "name": "stdout",
     "output_type": "stream",
     "text": [
      "[LightGBM] [Warning] min_data_in_leaf is set=5, min_child_samples=20 will be ignored. Current value: min_data_in_leaf=5\n"
     ]
    },
    {
     "name": "stderr",
     "output_type": "stream",
     "text": [
      "[I 2024-12-05 12:48:58,789] Trial 11 finished with value: 0.979291123533478 and parameters: {'min_data_in_leaf': 5}. Best is trial 4 with value: 0.979291123533478.\n"
     ]
    },
    {
     "name": "stdout",
     "output_type": "stream",
     "text": [
      "[LightGBM] [Warning] min_data_in_leaf is set=10, min_child_samples=20 will be ignored. Current value: min_data_in_leaf=10\n"
     ]
    },
    {
     "name": "stderr",
     "output_type": "stream",
     "text": [
      "[I 2024-12-05 12:48:59,194] Trial 12 finished with value: 2.0757070890148337 and parameters: {'min_data_in_leaf': 10}. Best is trial 4 with value: 0.979291123533478.\n"
     ]
    },
    {
     "name": "stdout",
     "output_type": "stream",
     "text": [
      "[LightGBM] [Warning] min_data_in_leaf is set=10, min_child_samples=20 will be ignored. Current value: min_data_in_leaf=10\n"
     ]
    },
    {
     "name": "stderr",
     "output_type": "stream",
     "text": [
      "[I 2024-12-05 12:48:59,522] Trial 13 finished with value: 2.0757070890148337 and parameters: {'min_data_in_leaf': 10}. Best is trial 4 with value: 0.979291123533478.\n"
     ]
    },
    {
     "name": "stdout",
     "output_type": "stream",
     "text": [
      "[LightGBM] [Warning] min_data_in_leaf is set=5, min_child_samples=20 will be ignored. Current value: min_data_in_leaf=5\n"
     ]
    },
    {
     "name": "stderr",
     "output_type": "stream",
     "text": [
      "[I 2024-12-05 12:49:00,176] Trial 14 finished with value: 0.979291123533478 and parameters: {'min_data_in_leaf': 5}. Best is trial 4 with value: 0.979291123533478.\n"
     ]
    },
    {
     "name": "stdout",
     "output_type": "stream",
     "text": [
      "[LightGBM] [Warning] min_data_in_leaf is set=15, min_child_samples=20 will be ignored. Current value: min_data_in_leaf=15\n"
     ]
    },
    {
     "name": "stderr",
     "output_type": "stream",
     "text": [
      "[I 2024-12-05 12:49:00,595] Trial 15 finished with value: 1.865636313118617 and parameters: {'min_data_in_leaf': 15}. Best is trial 4 with value: 0.979291123533478.\n",
      "[I 2024-12-05 12:49:00,771] Trial 16 finished with value: 2.0757070890148337 and parameters: {'min_data_in_leaf': 10}. Best is trial 4 with value: 0.979291123533478.\n"
     ]
    },
    {
     "name": "stdout",
     "output_type": "stream",
     "text": [
      "[LightGBM] [Warning] min_data_in_leaf is set=10, min_child_samples=20 will be ignored. Current value: min_data_in_leaf=10\n",
      "[LightGBM] [Warning] min_data_in_leaf is set=5, min_child_samples=20 will be ignored. Current value: min_data_in_leaf=5\n"
     ]
    },
    {
     "name": "stderr",
     "output_type": "stream",
     "text": [
      "[I 2024-12-05 12:49:01,038] Trial 17 finished with value: 0.979291123533478 and parameters: {'min_data_in_leaf': 5}. Best is trial 4 with value: 0.979291123533478.\n",
      "[I 2024-12-05 12:49:01,191] Trial 18 finished with value: 1.865636313118617 and parameters: {'min_data_in_leaf': 15}. Best is trial 4 with value: 0.979291123533478.\n"
     ]
    },
    {
     "name": "stdout",
     "output_type": "stream",
     "text": [
      "[LightGBM] [Warning] min_data_in_leaf is set=15, min_child_samples=20 will be ignored. Current value: min_data_in_leaf=15\n",
      "[LightGBM] [Warning] min_data_in_leaf is set=5, min_child_samples=20 will be ignored. Current value: min_data_in_leaf=5\n"
     ]
    },
    {
     "name": "stderr",
     "output_type": "stream",
     "text": [
      "[I 2024-12-05 12:49:01,470] Trial 19 finished with value: 0.979291123533478 and parameters: {'min_data_in_leaf': 5}. Best is trial 4 with value: 0.979291123533478.\n"
     ]
    },
    {
     "name": "stdout",
     "output_type": "stream",
     "text": [
      "[LightGBM] [Warning] min_data_in_leaf is set=10, min_child_samples=20 will be ignored. Current value: min_data_in_leaf=10\n"
     ]
    },
    {
     "name": "stderr",
     "output_type": "stream",
     "text": [
      "[I 2024-12-05 12:49:01,726] Trial 20 finished with value: 2.0757070890148337 and parameters: {'min_data_in_leaf': 10}. Best is trial 4 with value: 0.979291123533478.\n"
     ]
    },
    {
     "name": "stdout",
     "output_type": "stream",
     "text": [
      "[LightGBM] [Warning] min_data_in_leaf is set=5, min_child_samples=20 will be ignored. Current value: min_data_in_leaf=5\n"
     ]
    },
    {
     "name": "stderr",
     "output_type": "stream",
     "text": [
      "[I 2024-12-05 12:49:01,999] Trial 21 finished with value: 0.979291123533478 and parameters: {'min_data_in_leaf': 5}. Best is trial 4 with value: 0.979291123533478.\n"
     ]
    },
    {
     "name": "stdout",
     "output_type": "stream",
     "text": [
      "[LightGBM] [Warning] min_data_in_leaf is set=5, min_child_samples=20 will be ignored. Current value: min_data_in_leaf=5\n"
     ]
    },
    {
     "name": "stderr",
     "output_type": "stream",
     "text": [
      "[I 2024-12-05 12:49:02,819] Trial 22 finished with value: 0.979291123533478 and parameters: {'min_data_in_leaf': 5}. Best is trial 4 with value: 0.979291123533478.\n"
     ]
    },
    {
     "name": "stdout",
     "output_type": "stream",
     "text": [
      "[LightGBM] [Warning] min_data_in_leaf is set=10, min_child_samples=20 will be ignored. Current value: min_data_in_leaf=10\n"
     ]
    },
    {
     "name": "stderr",
     "output_type": "stream",
     "text": [
      "[I 2024-12-05 12:49:03,087] Trial 23 finished with value: 2.0757070890148337 and parameters: {'min_data_in_leaf': 10}. Best is trial 4 with value: 0.979291123533478.\n"
     ]
    },
    {
     "name": "stdout",
     "output_type": "stream",
     "text": [
      "[LightGBM] [Warning] min_data_in_leaf is set=5, min_child_samples=20 will be ignored. Current value: min_data_in_leaf=5\n"
     ]
    },
    {
     "name": "stderr",
     "output_type": "stream",
     "text": [
      "[I 2024-12-05 12:49:03,411] Trial 24 finished with value: 0.979291123533478 and parameters: {'min_data_in_leaf': 5}. Best is trial 4 with value: 0.979291123533478.\n"
     ]
    },
    {
     "name": "stdout",
     "output_type": "stream",
     "text": [
      "[LightGBM] [Warning] min_data_in_leaf is set=5, min_child_samples=20 will be ignored. Current value: min_data_in_leaf=5\n"
     ]
    },
    {
     "name": "stderr",
     "output_type": "stream",
     "text": [
      "[I 2024-12-05 12:49:03,706] Trial 25 finished with value: 0.979291123533478 and parameters: {'min_data_in_leaf': 5}. Best is trial 4 with value: 0.979291123533478.\n"
     ]
    },
    {
     "name": "stdout",
     "output_type": "stream",
     "text": [
      "[LightGBM] [Warning] min_data_in_leaf is set=10, min_child_samples=20 will be ignored. Current value: min_data_in_leaf=10\n"
     ]
    },
    {
     "name": "stderr",
     "output_type": "stream",
     "text": [
      "[I 2024-12-05 12:49:04,068] Trial 26 finished with value: 2.0757070890148337 and parameters: {'min_data_in_leaf': 10}. Best is trial 4 with value: 0.979291123533478.\n",
      "[I 2024-12-05 12:49:04,233] Trial 27 finished with value: 1.865636313118617 and parameters: {'min_data_in_leaf': 15}. Best is trial 4 with value: 0.979291123533478.\n"
     ]
    },
    {
     "name": "stdout",
     "output_type": "stream",
     "text": [
      "[LightGBM] [Warning] min_data_in_leaf is set=15, min_child_samples=20 will be ignored. Current value: min_data_in_leaf=15\n",
      "[LightGBM] [Warning] min_data_in_leaf is set=5, min_child_samples=20 will be ignored. Current value: min_data_in_leaf=5\n"
     ]
    },
    {
     "name": "stderr",
     "output_type": "stream",
     "text": [
      "[I 2024-12-05 12:49:04,502] Trial 28 finished with value: 0.979291123533478 and parameters: {'min_data_in_leaf': 5}. Best is trial 4 with value: 0.979291123533478.\n",
      "[I 2024-12-05 12:49:04,651] Trial 29 finished with value: 1.865636313118617 and parameters: {'min_data_in_leaf': 15}. Best is trial 4 with value: 0.979291123533478.\n"
     ]
    },
    {
     "name": "stdout",
     "output_type": "stream",
     "text": [
      "[LightGBM] [Warning] min_data_in_leaf is set=15, min_child_samples=20 will be ignored. Current value: min_data_in_leaf=15\n",
      "[LightGBM] [Warning] min_data_in_leaf is set=10, min_child_samples=20 will be ignored. Current value: min_data_in_leaf=10\n"
     ]
    },
    {
     "name": "stderr",
     "output_type": "stream",
     "text": [
      "[I 2024-12-05 12:49:04,869] Trial 30 finished with value: 2.0757070890148337 and parameters: {'min_data_in_leaf': 10}. Best is trial 4 with value: 0.979291123533478.\n"
     ]
    },
    {
     "name": "stdout",
     "output_type": "stream",
     "text": [
      "[LightGBM] [Warning] min_data_in_leaf is set=5, min_child_samples=20 will be ignored. Current value: min_data_in_leaf=5\n"
     ]
    },
    {
     "name": "stderr",
     "output_type": "stream",
     "text": [
      "[I 2024-12-05 12:49:05,152] Trial 31 finished with value: 0.979291123533478 and parameters: {'min_data_in_leaf': 5}. Best is trial 4 with value: 0.979291123533478.\n"
     ]
    },
    {
     "name": "stdout",
     "output_type": "stream",
     "text": [
      "[LightGBM] [Warning] min_data_in_leaf is set=5, min_child_samples=20 will be ignored. Current value: min_data_in_leaf=5\n"
     ]
    },
    {
     "name": "stderr",
     "output_type": "stream",
     "text": [
      "[I 2024-12-05 12:49:05,643] Trial 32 finished with value: 0.979291123533478 and parameters: {'min_data_in_leaf': 5}. Best is trial 4 with value: 0.979291123533478.\n"
     ]
    },
    {
     "name": "stdout",
     "output_type": "stream",
     "text": [
      "[LightGBM] [Warning] min_data_in_leaf is set=5, min_child_samples=20 will be ignored. Current value: min_data_in_leaf=5\n"
     ]
    },
    {
     "name": "stderr",
     "output_type": "stream",
     "text": [
      "[I 2024-12-05 12:49:05,971] Trial 33 finished with value: 0.979291123533478 and parameters: {'min_data_in_leaf': 5}. Best is trial 4 with value: 0.979291123533478.\n",
      "[I 2024-12-05 12:49:06,168] Trial 34 finished with value: 2.0757070890148337 and parameters: {'min_data_in_leaf': 10}. Best is trial 4 with value: 0.979291123533478.\n"
     ]
    },
    {
     "name": "stdout",
     "output_type": "stream",
     "text": [
      "[LightGBM] [Warning] min_data_in_leaf is set=10, min_child_samples=20 will be ignored. Current value: min_data_in_leaf=10\n",
      "[LightGBM] [Warning] min_data_in_leaf is set=5, min_child_samples=20 will be ignored. Current value: min_data_in_leaf=5\n"
     ]
    },
    {
     "name": "stderr",
     "output_type": "stream",
     "text": [
      "[I 2024-12-05 12:49:07,094] Trial 35 finished with value: 0.979291123533478 and parameters: {'min_data_in_leaf': 5}. Best is trial 4 with value: 0.979291123533478.\n",
      "[I 2024-12-05 12:49:07,275] Trial 36 finished with value: 1.9103847967166399 and parameters: {'min_data_in_leaf': 25}. Best is trial 4 with value: 0.979291123533478.\n"
     ]
    },
    {
     "name": "stdout",
     "output_type": "stream",
     "text": [
      "[LightGBM] [Warning] min_data_in_leaf is set=25, min_child_samples=20 will be ignored. Current value: min_data_in_leaf=25\n",
      "[LightGBM] [Warning] min_data_in_leaf is set=20, min_child_samples=20 will be ignored. Current value: min_data_in_leaf=20\n"
     ]
    },
    {
     "name": "stderr",
     "output_type": "stream",
     "text": [
      "[I 2024-12-05 12:49:07,449] Trial 37 finished with value: 1.9167016537342731 and parameters: {'min_data_in_leaf': 20}. Best is trial 4 with value: 0.979291123533478.\n",
      "[I 2024-12-05 12:49:07,572] Trial 38 finished with value: 2.103559933633798 and parameters: {'min_data_in_leaf': 30}. Best is trial 4 with value: 0.979291123533478.\n"
     ]
    },
    {
     "name": "stdout",
     "output_type": "stream",
     "text": [
      "[LightGBM] [Warning] min_data_in_leaf is set=30, min_child_samples=20 will be ignored. Current value: min_data_in_leaf=30\n",
      "[LightGBM] [Warning] min_data_in_leaf is set=10, min_child_samples=20 will be ignored. Current value: min_data_in_leaf=10\n"
     ]
    },
    {
     "name": "stderr",
     "output_type": "stream",
     "text": [
      "[I 2024-12-05 12:49:07,812] Trial 39 finished with value: 2.0757070890148337 and parameters: {'min_data_in_leaf': 10}. Best is trial 4 with value: 0.979291123533478.\n"
     ]
    },
    {
     "name": "stdout",
     "output_type": "stream",
     "text": [
      "[LightGBM] [Warning] min_data_in_leaf is set=5, min_child_samples=20 will be ignored. Current value: min_data_in_leaf=5\n"
     ]
    },
    {
     "name": "stderr",
     "output_type": "stream",
     "text": [
      "[I 2024-12-05 12:49:08,118] Trial 40 finished with value: 0.979291123533478 and parameters: {'min_data_in_leaf': 5}. Best is trial 4 with value: 0.979291123533478.\n"
     ]
    },
    {
     "name": "stdout",
     "output_type": "stream",
     "text": [
      "[LightGBM] [Warning] min_data_in_leaf is set=5, min_child_samples=20 will be ignored. Current value: min_data_in_leaf=5\n"
     ]
    },
    {
     "name": "stderr",
     "output_type": "stream",
     "text": [
      "[I 2024-12-05 12:49:08,445] Trial 41 finished with value: 0.979291123533478 and parameters: {'min_data_in_leaf': 5}. Best is trial 4 with value: 0.979291123533478.\n"
     ]
    },
    {
     "name": "stdout",
     "output_type": "stream",
     "text": [
      "[LightGBM] [Warning] min_data_in_leaf is set=5, min_child_samples=20 will be ignored. Current value: min_data_in_leaf=5\n"
     ]
    },
    {
     "name": "stderr",
     "output_type": "stream",
     "text": [
      "[I 2024-12-05 12:49:08,743] Trial 42 finished with value: 0.979291123533478 and parameters: {'min_data_in_leaf': 5}. Best is trial 4 with value: 0.979291123533478.\n"
     ]
    },
    {
     "name": "stdout",
     "output_type": "stream",
     "text": [
      "[LightGBM] [Warning] min_data_in_leaf is set=5, min_child_samples=20 will be ignored. Current value: min_data_in_leaf=5\n"
     ]
    },
    {
     "name": "stderr",
     "output_type": "stream",
     "text": [
      "[I 2024-12-05 12:49:09,332] Trial 43 finished with value: 0.979291123533478 and parameters: {'min_data_in_leaf': 5}. Best is trial 4 with value: 0.979291123533478.\n",
      "[I 2024-12-05 12:49:09,542] Trial 44 finished with value: 2.0757070890148337 and parameters: {'min_data_in_leaf': 10}. Best is trial 4 with value: 0.979291123533478.\n"
     ]
    },
    {
     "name": "stdout",
     "output_type": "stream",
     "text": [
      "[LightGBM] [Warning] min_data_in_leaf is set=10, min_child_samples=20 will be ignored. Current value: min_data_in_leaf=10\n",
      "[LightGBM] [Warning] min_data_in_leaf is set=10, min_child_samples=20 will be ignored. Current value: min_data_in_leaf=10\n"
     ]
    },
    {
     "name": "stderr",
     "output_type": "stream",
     "text": [
      "[I 2024-12-05 12:49:09,769] Trial 45 finished with value: 2.0757070890148337 and parameters: {'min_data_in_leaf': 10}. Best is trial 4 with value: 0.979291123533478.\n"
     ]
    },
    {
     "name": "stdout",
     "output_type": "stream",
     "text": [
      "[LightGBM] [Warning] min_data_in_leaf is set=5, min_child_samples=20 will be ignored. Current value: min_data_in_leaf=5\n"
     ]
    },
    {
     "name": "stderr",
     "output_type": "stream",
     "text": [
      "[I 2024-12-05 12:49:10,715] Trial 46 finished with value: 0.979291123533478 and parameters: {'min_data_in_leaf': 5}. Best is trial 4 with value: 0.979291123533478.\n"
     ]
    },
    {
     "name": "stdout",
     "output_type": "stream",
     "text": [
      "[LightGBM] [Warning] min_data_in_leaf is set=5, min_child_samples=20 will be ignored. Current value: min_data_in_leaf=5\n"
     ]
    },
    {
     "name": "stderr",
     "output_type": "stream",
     "text": [
      "[I 2024-12-05 12:49:11,183] Trial 47 finished with value: 0.979291123533478 and parameters: {'min_data_in_leaf': 5}. Best is trial 4 with value: 0.979291123533478.\n"
     ]
    },
    {
     "name": "stdout",
     "output_type": "stream",
     "text": [
      "[LightGBM] [Warning] min_data_in_leaf is set=10, min_child_samples=20 will be ignored. Current value: min_data_in_leaf=10\n"
     ]
    },
    {
     "name": "stderr",
     "output_type": "stream",
     "text": [
      "[I 2024-12-05 12:49:11,633] Trial 48 finished with value: 2.0757070890148337 and parameters: {'min_data_in_leaf': 10}. Best is trial 4 with value: 0.979291123533478.\n"
     ]
    },
    {
     "name": "stdout",
     "output_type": "stream",
     "text": [
      "[LightGBM] [Warning] min_data_in_leaf is set=5, min_child_samples=20 will be ignored. Current value: min_data_in_leaf=5\n"
     ]
    },
    {
     "name": "stderr",
     "output_type": "stream",
     "text": [
      "[I 2024-12-05 12:49:11,937] Trial 49 finished with value: 0.979291123533478 and parameters: {'min_data_in_leaf': 5}. Best is trial 4 with value: 0.979291123533478.\n",
      "[I 2024-12-05 12:49:12,100] Trial 50 finished with value: 1.9167016537342731 and parameters: {'min_data_in_leaf': 20}. Best is trial 4 with value: 0.979291123533478.\n"
     ]
    },
    {
     "name": "stdout",
     "output_type": "stream",
     "text": [
      "[LightGBM] [Warning] min_data_in_leaf is set=20, min_child_samples=20 will be ignored. Current value: min_data_in_leaf=20\n",
      "[LightGBM] [Warning] min_data_in_leaf is set=5, min_child_samples=20 will be ignored. Current value: min_data_in_leaf=5\n"
     ]
    },
    {
     "name": "stderr",
     "output_type": "stream",
     "text": [
      "[I 2024-12-05 12:49:12,409] Trial 51 finished with value: 0.979291123533478 and parameters: {'min_data_in_leaf': 5}. Best is trial 4 with value: 0.979291123533478.\n"
     ]
    },
    {
     "name": "stdout",
     "output_type": "stream",
     "text": [
      "[LightGBM] [Warning] min_data_in_leaf is set=5, min_child_samples=20 will be ignored. Current value: min_data_in_leaf=5\n"
     ]
    },
    {
     "name": "stderr",
     "output_type": "stream",
     "text": [
      "[I 2024-12-05 12:49:12,719] Trial 52 finished with value: 0.979291123533478 and parameters: {'min_data_in_leaf': 5}. Best is trial 4 with value: 0.979291123533478.\n"
     ]
    },
    {
     "name": "stdout",
     "output_type": "stream",
     "text": [
      "[LightGBM] [Warning] min_data_in_leaf is set=5, min_child_samples=20 will be ignored. Current value: min_data_in_leaf=5\n"
     ]
    },
    {
     "name": "stderr",
     "output_type": "stream",
     "text": [
      "[I 2024-12-05 12:49:13,039] Trial 53 finished with value: 0.979291123533478 and parameters: {'min_data_in_leaf': 5}. Best is trial 4 with value: 0.979291123533478.\n",
      "[I 2024-12-05 12:49:13,245] Trial 54 finished with value: 2.0757070890148337 and parameters: {'min_data_in_leaf': 10}. Best is trial 4 with value: 0.979291123533478.\n"
     ]
    },
    {
     "name": "stdout",
     "output_type": "stream",
     "text": [
      "[LightGBM] [Warning] min_data_in_leaf is set=10, min_child_samples=20 will be ignored. Current value: min_data_in_leaf=10\n",
      "[LightGBM] [Warning] min_data_in_leaf is set=5, min_child_samples=20 will be ignored. Current value: min_data_in_leaf=5\n"
     ]
    },
    {
     "name": "stderr",
     "output_type": "stream",
     "text": [
      "[I 2024-12-05 12:49:13,890] Trial 55 finished with value: 0.979291123533478 and parameters: {'min_data_in_leaf': 5}. Best is trial 4 with value: 0.979291123533478.\n"
     ]
    },
    {
     "name": "stdout",
     "output_type": "stream",
     "text": [
      "[LightGBM] [Warning] min_data_in_leaf is set=5, min_child_samples=20 will be ignored. Current value: min_data_in_leaf=5\n"
     ]
    },
    {
     "name": "stderr",
     "output_type": "stream",
     "text": [
      "[I 2024-12-05 12:49:14,439] Trial 56 finished with value: 0.979291123533478 and parameters: {'min_data_in_leaf': 5}. Best is trial 4 with value: 0.979291123533478.\n"
     ]
    },
    {
     "name": "stdout",
     "output_type": "stream",
     "text": [
      "[LightGBM] [Warning] min_data_in_leaf is set=5, min_child_samples=20 will be ignored. Current value: min_data_in_leaf=5\n"
     ]
    },
    {
     "name": "stderr",
     "output_type": "stream",
     "text": [
      "[I 2024-12-05 12:49:15,231] Trial 57 finished with value: 0.979291123533478 and parameters: {'min_data_in_leaf': 5}. Best is trial 4 with value: 0.979291123533478.\n",
      "[I 2024-12-05 12:49:15,443] Trial 58 finished with value: 2.0757070890148337 and parameters: {'min_data_in_leaf': 10}. Best is trial 4 with value: 0.979291123533478.\n"
     ]
    },
    {
     "name": "stdout",
     "output_type": "stream",
     "text": [
      "[LightGBM] [Warning] min_data_in_leaf is set=10, min_child_samples=20 will be ignored. Current value: min_data_in_leaf=10\n"
     ]
    },
    {
     "name": "stderr",
     "output_type": "stream",
     "text": [
      "[I 2024-12-05 12:49:15,625] Trial 59 finished with value: 1.9103847967166399 and parameters: {'min_data_in_leaf': 25}. Best is trial 4 with value: 0.979291123533478.\n"
     ]
    },
    {
     "name": "stdout",
     "output_type": "stream",
     "text": [
      "[LightGBM] [Warning] min_data_in_leaf is set=25, min_child_samples=20 will be ignored. Current value: min_data_in_leaf=25\n",
      "[LightGBM] [Warning] min_data_in_leaf is set=10, min_child_samples=20 will be ignored. Current value: min_data_in_leaf=10\n"
     ]
    },
    {
     "name": "stderr",
     "output_type": "stream",
     "text": [
      "[I 2024-12-05 12:49:15,873] Trial 60 finished with value: 2.0757070890148337 and parameters: {'min_data_in_leaf': 10}. Best is trial 4 with value: 0.979291123533478.\n"
     ]
    },
    {
     "name": "stdout",
     "output_type": "stream",
     "text": [
      "[LightGBM] [Warning] min_data_in_leaf is set=5, min_child_samples=20 will be ignored. Current value: min_data_in_leaf=5\n"
     ]
    },
    {
     "name": "stderr",
     "output_type": "stream",
     "text": [
      "[I 2024-12-05 12:49:16,217] Trial 61 finished with value: 0.979291123533478 and parameters: {'min_data_in_leaf': 5}. Best is trial 4 with value: 0.979291123533478.\n"
     ]
    },
    {
     "name": "stdout",
     "output_type": "stream",
     "text": [
      "[LightGBM] [Warning] min_data_in_leaf is set=5, min_child_samples=20 will be ignored. Current value: min_data_in_leaf=5\n"
     ]
    },
    {
     "name": "stderr",
     "output_type": "stream",
     "text": [
      "[I 2024-12-05 12:49:16,726] Trial 62 finished with value: 0.979291123533478 and parameters: {'min_data_in_leaf': 5}. Best is trial 4 with value: 0.979291123533478.\n"
     ]
    },
    {
     "name": "stdout",
     "output_type": "stream",
     "text": [
      "[LightGBM] [Warning] min_data_in_leaf is set=5, min_child_samples=20 will be ignored. Current value: min_data_in_leaf=5\n"
     ]
    },
    {
     "name": "stderr",
     "output_type": "stream",
     "text": [
      "[I 2024-12-05 12:49:17,045] Trial 63 finished with value: 0.979291123533478 and parameters: {'min_data_in_leaf': 5}. Best is trial 4 with value: 0.979291123533478.\n"
     ]
    },
    {
     "name": "stdout",
     "output_type": "stream",
     "text": [
      "[LightGBM] [Warning] min_data_in_leaf is set=5, min_child_samples=20 will be ignored. Current value: min_data_in_leaf=5\n"
     ]
    },
    {
     "name": "stderr",
     "output_type": "stream",
     "text": [
      "[I 2024-12-05 12:49:17,413] Trial 64 finished with value: 0.979291123533478 and parameters: {'min_data_in_leaf': 5}. Best is trial 4 with value: 0.979291123533478.\n"
     ]
    },
    {
     "name": "stdout",
     "output_type": "stream",
     "text": [
      "[LightGBM] [Warning] min_data_in_leaf is set=5, min_child_samples=20 will be ignored. Current value: min_data_in_leaf=5\n"
     ]
    },
    {
     "name": "stderr",
     "output_type": "stream",
     "text": [
      "[I 2024-12-05 12:49:17,735] Trial 65 finished with value: 0.979291123533478 and parameters: {'min_data_in_leaf': 5}. Best is trial 4 with value: 0.979291123533478.\n",
      "[I 2024-12-05 12:49:17,934] Trial 66 finished with value: 2.0757070890148337 and parameters: {'min_data_in_leaf': 10}. Best is trial 4 with value: 0.979291123533478.\n"
     ]
    },
    {
     "name": "stdout",
     "output_type": "stream",
     "text": [
      "[LightGBM] [Warning] min_data_in_leaf is set=10, min_child_samples=20 will be ignored. Current value: min_data_in_leaf=10\n",
      "[LightGBM] [Warning] min_data_in_leaf is set=5, min_child_samples=20 will be ignored. Current value: min_data_in_leaf=5\n"
     ]
    },
    {
     "name": "stderr",
     "output_type": "stream",
     "text": [
      "[I 2024-12-05 12:49:18,529] Trial 67 finished with value: 0.979291123533478 and parameters: {'min_data_in_leaf': 5}. Best is trial 4 with value: 0.979291123533478.\n"
     ]
    },
    {
     "name": "stdout",
     "output_type": "stream",
     "text": [
      "[LightGBM] [Warning] min_data_in_leaf is set=5, min_child_samples=20 will be ignored. Current value: min_data_in_leaf=5\n"
     ]
    },
    {
     "name": "stderr",
     "output_type": "stream",
     "text": [
      "[I 2024-12-05 12:49:18,882] Trial 68 finished with value: 0.979291123533478 and parameters: {'min_data_in_leaf': 5}. Best is trial 4 with value: 0.979291123533478.\n"
     ]
    },
    {
     "name": "stdout",
     "output_type": "stream",
     "text": [
      "[LightGBM] [Warning] min_data_in_leaf is set=10, min_child_samples=20 will be ignored. Current value: min_data_in_leaf=10\n"
     ]
    },
    {
     "name": "stderr",
     "output_type": "stream",
     "text": [
      "[I 2024-12-05 12:49:19,168] Trial 69 finished with value: 2.0757070890148337 and parameters: {'min_data_in_leaf': 10}. Best is trial 4 with value: 0.979291123533478.\n",
      "[I 2024-12-05 12:49:19,347] Trial 70 finished with value: 1.865636313118617 and parameters: {'min_data_in_leaf': 15}. Best is trial 4 with value: 0.979291123533478.\n"
     ]
    },
    {
     "name": "stdout",
     "output_type": "stream",
     "text": [
      "[LightGBM] [Warning] min_data_in_leaf is set=15, min_child_samples=20 will be ignored. Current value: min_data_in_leaf=15\n",
      "[LightGBM] [Warning] min_data_in_leaf is set=5, min_child_samples=20 will be ignored. Current value: min_data_in_leaf=5\n"
     ]
    },
    {
     "name": "stderr",
     "output_type": "stream",
     "text": [
      "[I 2024-12-05 12:49:19,673] Trial 71 finished with value: 0.979291123533478 and parameters: {'min_data_in_leaf': 5}. Best is trial 4 with value: 0.979291123533478.\n"
     ]
    },
    {
     "name": "stdout",
     "output_type": "stream",
     "text": [
      "[LightGBM] [Warning] min_data_in_leaf is set=5, min_child_samples=20 will be ignored. Current value: min_data_in_leaf=5\n"
     ]
    },
    {
     "name": "stderr",
     "output_type": "stream",
     "text": [
      "[I 2024-12-05 12:49:19,977] Trial 72 finished with value: 0.979291123533478 and parameters: {'min_data_in_leaf': 5}. Best is trial 4 with value: 0.979291123533478.\n"
     ]
    },
    {
     "name": "stdout",
     "output_type": "stream",
     "text": [
      "[LightGBM] [Warning] min_data_in_leaf is set=5, min_child_samples=20 will be ignored. Current value: min_data_in_leaf=5\n"
     ]
    },
    {
     "name": "stderr",
     "output_type": "stream",
     "text": [
      "[I 2024-12-05 12:49:20,285] Trial 73 finished with value: 0.979291123533478 and parameters: {'min_data_in_leaf': 5}. Best is trial 4 with value: 0.979291123533478.\n"
     ]
    },
    {
     "name": "stdout",
     "output_type": "stream",
     "text": [
      "[LightGBM] [Warning] min_data_in_leaf is set=5, min_child_samples=20 will be ignored. Current value: min_data_in_leaf=5\n"
     ]
    },
    {
     "name": "stderr",
     "output_type": "stream",
     "text": [
      "[I 2024-12-05 12:49:20,619] Trial 74 finished with value: 0.979291123533478 and parameters: {'min_data_in_leaf': 5}. Best is trial 4 with value: 0.979291123533478.\n"
     ]
    },
    {
     "name": "stdout",
     "output_type": "stream",
     "text": [
      "[LightGBM] [Warning] min_data_in_leaf is set=5, min_child_samples=20 will be ignored. Current value: min_data_in_leaf=5\n"
     ]
    },
    {
     "name": "stderr",
     "output_type": "stream",
     "text": [
      "[I 2024-12-05 12:49:23,525] Trial 75 finished with value: 0.979291123533478 and parameters: {'min_data_in_leaf': 5}. Best is trial 4 with value: 0.979291123533478.\n"
     ]
    },
    {
     "name": "stdout",
     "output_type": "stream",
     "text": [
      "[LightGBM] [Warning] min_data_in_leaf is set=5, min_child_samples=20 will be ignored. Current value: min_data_in_leaf=5\n"
     ]
    },
    {
     "name": "stderr",
     "output_type": "stream",
     "text": [
      "[I 2024-12-05 12:49:24,038] Trial 76 finished with value: 0.979291123533478 and parameters: {'min_data_in_leaf': 5}. Best is trial 4 with value: 0.979291123533478.\n"
     ]
    },
    {
     "name": "stdout",
     "output_type": "stream",
     "text": [
      "[LightGBM] [Warning] min_data_in_leaf is set=10, min_child_samples=20 will be ignored. Current value: min_data_in_leaf=10\n"
     ]
    },
    {
     "name": "stderr",
     "output_type": "stream",
     "text": [
      "[I 2024-12-05 12:49:24,349] Trial 77 finished with value: 2.0757070890148337 and parameters: {'min_data_in_leaf': 10}. Best is trial 4 with value: 0.979291123533478.\n"
     ]
    },
    {
     "name": "stdout",
     "output_type": "stream",
     "text": [
      "[LightGBM] [Warning] min_data_in_leaf is set=5, min_child_samples=20 will be ignored. Current value: min_data_in_leaf=5\n"
     ]
    },
    {
     "name": "stderr",
     "output_type": "stream",
     "text": [
      "[I 2024-12-05 12:49:24,779] Trial 78 finished with value: 0.979291123533478 and parameters: {'min_data_in_leaf': 5}. Best is trial 4 with value: 0.979291123533478.\n"
     ]
    },
    {
     "name": "stdout",
     "output_type": "stream",
     "text": [
      "[LightGBM] [Warning] min_data_in_leaf is set=5, min_child_samples=20 will be ignored. Current value: min_data_in_leaf=5\n"
     ]
    },
    {
     "name": "stderr",
     "output_type": "stream",
     "text": [
      "[I 2024-12-05 12:49:25,178] Trial 79 finished with value: 0.979291123533478 and parameters: {'min_data_in_leaf': 5}. Best is trial 4 with value: 0.979291123533478.\n"
     ]
    },
    {
     "name": "stdout",
     "output_type": "stream",
     "text": [
      "[LightGBM] [Warning] min_data_in_leaf is set=5, min_child_samples=20 will be ignored. Current value: min_data_in_leaf=5\n"
     ]
    },
    {
     "name": "stderr",
     "output_type": "stream",
     "text": [
      "[I 2024-12-05 12:49:25,549] Trial 80 finished with value: 0.979291123533478 and parameters: {'min_data_in_leaf': 5}. Best is trial 4 with value: 0.979291123533478.\n"
     ]
    },
    {
     "name": "stdout",
     "output_type": "stream",
     "text": [
      "[LightGBM] [Warning] min_data_in_leaf is set=5, min_child_samples=20 will be ignored. Current value: min_data_in_leaf=5\n"
     ]
    },
    {
     "name": "stderr",
     "output_type": "stream",
     "text": [
      "[I 2024-12-05 12:49:25,907] Trial 81 finished with value: 0.979291123533478 and parameters: {'min_data_in_leaf': 5}. Best is trial 4 with value: 0.979291123533478.\n"
     ]
    },
    {
     "name": "stdout",
     "output_type": "stream",
     "text": [
      "[LightGBM] [Warning] min_data_in_leaf is set=5, min_child_samples=20 will be ignored. Current value: min_data_in_leaf=5\n"
     ]
    },
    {
     "name": "stderr",
     "output_type": "stream",
     "text": [
      "[I 2024-12-05 12:49:26,547] Trial 82 finished with value: 0.979291123533478 and parameters: {'min_data_in_leaf': 5}. Best is trial 4 with value: 0.979291123533478.\n"
     ]
    },
    {
     "name": "stdout",
     "output_type": "stream",
     "text": [
      "[LightGBM] [Warning] min_data_in_leaf is set=5, min_child_samples=20 will be ignored. Current value: min_data_in_leaf=5\n"
     ]
    },
    {
     "name": "stderr",
     "output_type": "stream",
     "text": [
      "[I 2024-12-05 12:49:27,131] Trial 83 finished with value: 0.979291123533478 and parameters: {'min_data_in_leaf': 5}. Best is trial 4 with value: 0.979291123533478.\n"
     ]
    },
    {
     "name": "stdout",
     "output_type": "stream",
     "text": [
      "[LightGBM] [Warning] min_data_in_leaf is set=5, min_child_samples=20 will be ignored. Current value: min_data_in_leaf=5\n"
     ]
    },
    {
     "name": "stderr",
     "output_type": "stream",
     "text": [
      "[I 2024-12-05 12:49:27,479] Trial 84 finished with value: 0.979291123533478 and parameters: {'min_data_in_leaf': 5}. Best is trial 4 with value: 0.979291123533478.\n"
     ]
    },
    {
     "name": "stdout",
     "output_type": "stream",
     "text": [
      "[LightGBM] [Warning] min_data_in_leaf is set=5, min_child_samples=20 will be ignored. Current value: min_data_in_leaf=5\n"
     ]
    },
    {
     "name": "stderr",
     "output_type": "stream",
     "text": [
      "[I 2024-12-05 12:49:27,854] Trial 85 finished with value: 0.979291123533478 and parameters: {'min_data_in_leaf': 5}. Best is trial 4 with value: 0.979291123533478.\n"
     ]
    },
    {
     "name": "stdout",
     "output_type": "stream",
     "text": [
      "[LightGBM] [Warning] min_data_in_leaf is set=10, min_child_samples=20 will be ignored. Current value: min_data_in_leaf=10\n"
     ]
    },
    {
     "name": "stderr",
     "output_type": "stream",
     "text": [
      "[I 2024-12-05 12:49:28,079] Trial 86 finished with value: 2.0757070890148337 and parameters: {'min_data_in_leaf': 10}. Best is trial 4 with value: 0.979291123533478.\n",
      "[I 2024-12-05 12:49:28,274] Trial 87 finished with value: 2.103559933633798 and parameters: {'min_data_in_leaf': 30}. Best is trial 4 with value: 0.979291123533478.\n"
     ]
    },
    {
     "name": "stdout",
     "output_type": "stream",
     "text": [
      "[LightGBM] [Warning] min_data_in_leaf is set=30, min_child_samples=20 will be ignored. Current value: min_data_in_leaf=30\n",
      "[LightGBM] [Warning] min_data_in_leaf is set=5, min_child_samples=20 will be ignored. Current value: min_data_in_leaf=5\n"
     ]
    },
    {
     "name": "stderr",
     "output_type": "stream",
     "text": [
      "[I 2024-12-05 12:49:28,638] Trial 88 finished with value: 0.979291123533478 and parameters: {'min_data_in_leaf': 5}. Best is trial 4 with value: 0.979291123533478.\n"
     ]
    },
    {
     "name": "stdout",
     "output_type": "stream",
     "text": [
      "[LightGBM] [Warning] min_data_in_leaf is set=5, min_child_samples=20 will be ignored. Current value: min_data_in_leaf=5\n"
     ]
    },
    {
     "name": "stderr",
     "output_type": "stream",
     "text": [
      "[I 2024-12-05 12:49:29,107] Trial 89 finished with value: 0.979291123533478 and parameters: {'min_data_in_leaf': 5}. Best is trial 4 with value: 0.979291123533478.\n"
     ]
    },
    {
     "name": "stdout",
     "output_type": "stream",
     "text": [
      "[LightGBM] [Warning] min_data_in_leaf is set=5, min_child_samples=20 will be ignored. Current value: min_data_in_leaf=5\n"
     ]
    },
    {
     "name": "stderr",
     "output_type": "stream",
     "text": [
      "[I 2024-12-05 12:49:30,107] Trial 90 finished with value: 0.979291123533478 and parameters: {'min_data_in_leaf': 5}. Best is trial 4 with value: 0.979291123533478.\n"
     ]
    },
    {
     "name": "stdout",
     "output_type": "stream",
     "text": [
      "[LightGBM] [Warning] min_data_in_leaf is set=5, min_child_samples=20 will be ignored. Current value: min_data_in_leaf=5\n"
     ]
    },
    {
     "name": "stderr",
     "output_type": "stream",
     "text": [
      "[I 2024-12-05 12:49:30,680] Trial 91 finished with value: 0.979291123533478 and parameters: {'min_data_in_leaf': 5}. Best is trial 4 with value: 0.979291123533478.\n"
     ]
    },
    {
     "name": "stdout",
     "output_type": "stream",
     "text": [
      "[LightGBM] [Warning] min_data_in_leaf is set=5, min_child_samples=20 will be ignored. Current value: min_data_in_leaf=5\n"
     ]
    },
    {
     "name": "stderr",
     "output_type": "stream",
     "text": [
      "[I 2024-12-05 12:49:31,051] Trial 92 finished with value: 0.979291123533478 and parameters: {'min_data_in_leaf': 5}. Best is trial 4 with value: 0.979291123533478.\n"
     ]
    },
    {
     "name": "stdout",
     "output_type": "stream",
     "text": [
      "[LightGBM] [Warning] min_data_in_leaf is set=5, min_child_samples=20 will be ignored. Current value: min_data_in_leaf=5\n"
     ]
    },
    {
     "name": "stderr",
     "output_type": "stream",
     "text": [
      "[I 2024-12-05 12:49:31,445] Trial 93 finished with value: 0.979291123533478 and parameters: {'min_data_in_leaf': 5}. Best is trial 4 with value: 0.979291123533478.\n"
     ]
    },
    {
     "name": "stdout",
     "output_type": "stream",
     "text": [
      "[LightGBM] [Warning] min_data_in_leaf is set=5, min_child_samples=20 will be ignored. Current value: min_data_in_leaf=5\n"
     ]
    },
    {
     "name": "stderr",
     "output_type": "stream",
     "text": [
      "[I 2024-12-05 12:49:31,867] Trial 94 finished with value: 0.979291123533478 and parameters: {'min_data_in_leaf': 5}. Best is trial 4 with value: 0.979291123533478.\n"
     ]
    },
    {
     "name": "stdout",
     "output_type": "stream",
     "text": [
      "[LightGBM] [Warning] min_data_in_leaf is set=10, min_child_samples=20 will be ignored. Current value: min_data_in_leaf=10\n"
     ]
    },
    {
     "name": "stderr",
     "output_type": "stream",
     "text": [
      "[I 2024-12-05 12:49:32,175] Trial 95 finished with value: 2.0757070890148337 and parameters: {'min_data_in_leaf': 10}. Best is trial 4 with value: 0.979291123533478.\n"
     ]
    },
    {
     "name": "stdout",
     "output_type": "stream",
     "text": [
      "[LightGBM] [Warning] min_data_in_leaf is set=5, min_child_samples=20 will be ignored. Current value: min_data_in_leaf=5\n"
     ]
    },
    {
     "name": "stderr",
     "output_type": "stream",
     "text": [
      "[I 2024-12-05 12:49:32,538] Trial 96 finished with value: 0.979291123533478 and parameters: {'min_data_in_leaf': 5}. Best is trial 4 with value: 0.979291123533478.\n"
     ]
    },
    {
     "name": "stdout",
     "output_type": "stream",
     "text": [
      "[LightGBM] [Warning] min_data_in_leaf is set=5, min_child_samples=20 will be ignored. Current value: min_data_in_leaf=5\n"
     ]
    },
    {
     "name": "stderr",
     "output_type": "stream",
     "text": [
      "[I 2024-12-05 12:49:33,494] Trial 97 finished with value: 0.979291123533478 and parameters: {'min_data_in_leaf': 5}. Best is trial 4 with value: 0.979291123533478.\n"
     ]
    },
    {
     "name": "stdout",
     "output_type": "stream",
     "text": [
      "[LightGBM] [Warning] min_data_in_leaf is set=5, min_child_samples=20 will be ignored. Current value: min_data_in_leaf=5\n"
     ]
    },
    {
     "name": "stderr",
     "output_type": "stream",
     "text": [
      "[I 2024-12-05 12:49:33,893] Trial 98 finished with value: 0.979291123533478 and parameters: {'min_data_in_leaf': 5}. Best is trial 4 with value: 0.979291123533478.\n"
     ]
    },
    {
     "name": "stdout",
     "output_type": "stream",
     "text": [
      "[LightGBM] [Warning] min_data_in_leaf is set=5, min_child_samples=20 will be ignored. Current value: min_data_in_leaf=5\n"
     ]
    },
    {
     "name": "stderr",
     "output_type": "stream",
     "text": [
      "[I 2024-12-05 12:49:34,454] Trial 99 finished with value: 0.979291123533478 and parameters: {'min_data_in_leaf': 5}. Best is trial 4 with value: 0.979291123533478.\n"
     ]
    },
    {
     "data": {
      "text/plain": [
       "{'min_data_in_leaf': 5}"
      ]
     },
     "execution_count": 13,
     "metadata": {},
     "output_type": "execute_result"
    }
   ],
   "source": [
    "# OptunaでElongation (%)のハイパーパラメータmin_data_in_leafをチューニング\n",
    "def objective(trial):\n",
    "    params = {\n",
    "        \"objective\": \"regression\",\n",
    "        \"learning_rate\": 0.01,\n",
    "        \"reg_alpha\": 0.1,\n",
    "        \"reg_lambda\": 0.1,\n",
    "        \"random_state\":42,\n",
    "        \"max_depth\": 5,\n",
    "        \"n_estimators\": 1000, \n",
    "        \"colsample_bytree\": 0.7,\n",
    "        \"min_data_in_leaf\": trial.suggest_int(\"min_data_in_leaf\", 5, 30, step=5),\n",
    "    }\n",
    "    model = lgb.LGBMRegressor(**params, verbose=-1)\n",
    "    model.fit(X_train, y_train_elongation)\n",
    "    y_pred = model.predict(X_test)\n",
    "    return mean_squared_error(y_test_elongation, y_pred, squared=False)\n",
    "\n",
    "sampler = optuna.samplers.TPESampler(seed=42)   \n",
    "study = optuna.create_study(direction=\"minimize\", sampler=sampler)\n",
    "study.optimize(objective, n_trials=100)\n",
    "\n",
    "# チューニング後のハイパーパラメータ\n",
    "best_params = study.best_params\n",
    "best_params"
   ]
  },
  {
   "cell_type": "code",
   "execution_count": 14,
   "metadata": {},
   "outputs": [],
   "source": [
    "params_opt = {\n",
    "    \"objective\": \"regression\",\n",
    "    \"learning_rate\": 0.01,\n",
    "    \"reg_alpha\": 0.1,\n",
    "    \"reg_lambda\": 0.1,\n",
    "    \"random_state\":42,\n",
    "    \"max_depth\": 5,\n",
    "    \"n_estimators\": 1000, \n",
    "    \"colsample_bytree\": 0.7,\n",
    "    'min_data_in_leaf': 5\n",
    "}"
   ]
  },
  {
   "cell_type": "code",
   "execution_count": 15,
   "metadata": {},
   "outputs": [
    {
     "name": "stdout",
     "output_type": "stream",
     "text": [
      "[LightGBM] [Warning] min_data_in_leaf is set=5, min_child_samples=20 will be ignored. Current value: min_data_in_leaf=5\n"
     ]
    }
   ],
   "source": [
    "model_elongation_opt = lgb.LGBMRegressor(**params_opt)\n",
    "\n",
    "model_elongation_opt.fit(X_train, y_train_elongation)\n",
    "\n",
    "y_pred_elongation_opt = model_elongation_opt.predict(X_test)\n",
    "\n",
    "r2_elongation_opt, rmse_elongation_opt, mae_elongation_opt = calculate_metrics(y_test_elongation, y_pred_elongation_opt)"
   ]
  },
  {
   "cell_type": "code",
   "execution_count": 16,
   "metadata": {},
   "outputs": [
    {
     "data": {
      "text/plain": [
       "Text(0.5, 1.0, 'Elongation (%) - Prediction_opt vs Actual\\n')"
      ]
     },
     "execution_count": 16,
     "metadata": {},
     "output_type": "execute_result"
    },
    {
     "data": {
      "image/png": "[encoded data removed]",
      "text/plain": [
       "<Figure size 800x800 with 1 Axes>"
      ]
     },
     "metadata": {},
     "output_type": "display_data"
    }
   ],
   "source": [
    "## Elongation (%)のハイパーパラメータmin_data_in_leafをチューニングした後のElongation (%) のプロット\n",
    "plt.figure(figsize=(8, 8))\n",
    "plt.scatter(y_test_elongation, y_pred_elongation_opt, alpha=0.7)\n",
    "plt.plot(\n",
    "    [y_test_elongation.min(), y_test_elongation.max()],\n",
    "    [y_test_elongation.min(), y_test_elongation.max()],\n",
    "    '--',\n",
    "    color=\"gray\",\n",
    "    label=\"truth\"\n",
    ")\n",
    "plt.text(\n",
    "        0.6, 0.3, f\"RMSE: {rmse_elongation_opt:.2f}\", transform=plt.gca().transAxes\n",
    "    )\n",
    "plt.text(\n",
    "    0.6, 0.2, f\"MAE: {mae_elongation_opt:.2f}\", transform=plt.gca().transAxes\n",
    ")\n",
    "plt.text(0.6, 0.1, f\"R2: {r2_elongation_opt:.2f}\", transform=plt.gca().transAxes)\n",
    "plt.xlabel('Actual')\n",
    "plt.ylabel('Predicted')\n",
    "plt.title(f'Elongation (%) - Prediction_opt vs Actual\\n')"
   ]
  }
 ],
 "metadata": {
  "kernelspec": {
   "display_name": "local",
   "language": "python",
   "name": "python3"
  },
  "language_info": {
   "codemirror_mode": {
    "name": "ipython",
    "version": 3
   },
   "file_extension": ".py",
   "mimetype": "text/x-python",
   "name": "python",
   "nbconvert_exporter": "python",
   "pygments_lexer": "ipython3",
   "version": "3.10.10"
  }
 },
 "nbformat": 4,
 "nbformat_minor": 2
}
