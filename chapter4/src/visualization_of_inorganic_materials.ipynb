{
  "cells": [
    {
      "cell_type": "markdown",
      "metadata": {
        "id": "view-in-github",
        "colab_type": "text"
      },
      "source": [
        "<a href=\"https://colab.research.google.com/github/mipypf/practical-mi-guide/blob/develop/chapter4/src/visualization_of_inorganic_materials.ipynb\" target=\"_parent\"><img src=\"https://colab.research.google.com/assets/colab-badge.svg\" alt=\"Open In Colab\"/></a>"
      ]
    },
    {
      "cell_type": "markdown",
      "metadata": {
        "id": "0m7zM9wZibfH"
      },
      "source": [
        "# 無機材料の可視化を行う"
      ]
    },
    {
      "cell_type": "markdown",
      "source": [
        "## Google Colabの準備"
      ],
      "metadata": {
        "id": "FdWg4Ihzio3M"
      }
    },
    {
      "cell_type": "code",
      "source": [
        "# Google Colabを利用する場合はTrue、そうでない場合はFalseとする\n",
        "colab = True"
      ],
      "metadata": {
        "id": "tG-D9AROitXm"
      },
      "execution_count": 2,
      "outputs": []
    },
    {
      "cell_type": "code",
      "source": [
        "# ファイル選択のボタンをクリックし、material_projects_api_cif_1000.zipをアップロード\n",
        "if colab:\n",
        "  from google.colab import files\n",
        "  uploaded = files.upload()"
      ],
      "metadata": {
        "id": "akFTpsn2i4ju",
        "outputId": "6e3105c7-a644-4a90-a9f9-2d55c9c5b2ac",
        "colab": {
          "base_uri": "https://localhost:8080/",
          "height": 95
        }
      },
      "execution_count": 3,
      "outputs": [
        {
          "output_type": "display_data",
          "data": {
            "text/plain": [
              "<IPython.core.display.HTML object>"
            ],
            "text/html": [
              "\n",
              "     <input type=\"file\" id=\"files-fc1aa5aa-85e8-476d-9341-da8e08781049\" name=\"files[]\" multiple disabled\n",
              "        style=\"border:none\" />\n",
              "     <output id=\"result-fc1aa5aa-85e8-476d-9341-da8e08781049\">\n",
              "      Upload widget is only available when the cell has been executed in the\n",
              "      current browser session. Please rerun this cell to enable.\n",
              "      </output>\n",
              "      <script>// Copyright 2017 Google LLC\n",
              "//\n",
              "// Licensed under the Apache License, Version 2.0 (the \"License\");\n",
              "// you may not use this file except in compliance with the License.\n",
              "// You may obtain a copy of the License at\n",
              "//\n",
              "//      http://www.apache.org/licenses/LICENSE-2.0\n",
              "//\n",
              "// Unless required by applicable law or agreed to in writing, software\n",
              "// distributed under the License is distributed on an \"AS IS\" BASIS,\n",
              "// WITHOUT WARRANTIES OR CONDITIONS OF ANY KIND, either express or implied.\n",
              "// See the License for the specific language governing permissions and\n",
              "// limitations under the License.\n",
              "\n",
              "/**\n",
              " * @fileoverview Helpers for google.colab Python module.\n",
              " */\n",
              "(function(scope) {\n",
              "function span(text, styleAttributes = {}) {\n",
              "  const element = document.createElement('span');\n",
              "  element.textContent = text;\n",
              "  for (const key of Object.keys(styleAttributes)) {\n",
              "    element.style[key] = styleAttributes[key];\n",
              "  }\n",
              "  return element;\n",
              "}\n",
              "\n",
              "// Max number of bytes which will be uploaded at a time.\n",
              "const MAX_PAYLOAD_SIZE = 100 * 1024;\n",
              "\n",
              "function _uploadFiles(inputId, outputId) {\n",
              "  const steps = uploadFilesStep(inputId, outputId);\n",
              "  const outputElement = document.getElementById(outputId);\n",
              "  // Cache steps on the outputElement to make it available for the next call\n",
              "  // to uploadFilesContinue from Python.\n",
              "  outputElement.steps = steps;\n",
              "\n",
              "  return _uploadFilesContinue(outputId);\n",
              "}\n",
              "\n",
              "// This is roughly an async generator (not supported in the browser yet),\n",
              "// where there are multiple asynchronous steps and the Python side is going\n",
              "// to poll for completion of each step.\n",
              "// This uses a Promise to block the python side on completion of each step,\n",
              "// then passes the result of the previous step as the input to the next step.\n",
              "function _uploadFilesContinue(outputId) {\n",
              "  const outputElement = document.getElementById(outputId);\n",
              "  const steps = outputElement.steps;\n",
              "\n",
              "  const next = steps.next(outputElement.lastPromiseValue);\n",
              "  return Promise.resolve(next.value.promise).then((value) => {\n",
              "    // Cache the last promise value to make it available to the next\n",
              "    // step of the generator.\n",
              "    outputElement.lastPromiseValue = value;\n",
              "    return next.value.response;\n",
              "  });\n",
              "}\n",
              "\n",
              "/**\n",
              " * Generator function which is called between each async step of the upload\n",
              " * process.\n",
              " * @param {string} inputId Element ID of the input file picker element.\n",
              " * @param {string} outputId Element ID of the output display.\n",
              " * @return {!Iterable<!Object>} Iterable of next steps.\n",
              " */\n",
              "function* uploadFilesStep(inputId, outputId) {\n",
              "  const inputElement = document.getElementById(inputId);\n",
              "  inputElement.disabled = false;\n",
              "\n",
              "  const outputElement = document.getElementById(outputId);\n",
              "  outputElement.innerHTML = '';\n",
              "\n",
              "  const pickedPromise = new Promise((resolve) => {\n",
              "    inputElement.addEventListener('change', (e) => {\n",
              "      resolve(e.target.files);\n",
              "    });\n",
              "  });\n",
              "\n",
              "  const cancel = document.createElement('button');\n",
              "  inputElement.parentElement.appendChild(cancel);\n",
              "  cancel.textContent = 'Cancel upload';\n",
              "  const cancelPromise = new Promise((resolve) => {\n",
              "    cancel.onclick = () => {\n",
              "      resolve(null);\n",
              "    };\n",
              "  });\n",
              "\n",
              "  // Wait for the user to pick the files.\n",
              "  const files = yield {\n",
              "    promise: Promise.race([pickedPromise, cancelPromise]),\n",
              "    response: {\n",
              "      action: 'starting',\n",
              "    }\n",
              "  };\n",
              "\n",
              "  cancel.remove();\n",
              "\n",
              "  // Disable the input element since further picks are not allowed.\n",
              "  inputElement.disabled = true;\n",
              "\n",
              "  if (!files) {\n",
              "    return {\n",
              "      response: {\n",
              "        action: 'complete',\n",
              "      }\n",
              "    };\n",
              "  }\n",
              "\n",
              "  for (const file of files) {\n",
              "    const li = document.createElement('li');\n",
              "    li.append(span(file.name, {fontWeight: 'bold'}));\n",
              "    li.append(span(\n",
              "        `(${file.type || 'n/a'}) - ${file.size} bytes, ` +\n",
              "        `last modified: ${\n",
              "            file.lastModifiedDate ? file.lastModifiedDate.toLocaleDateString() :\n",
              "                                    'n/a'} - `));\n",
              "    const percent = span('0% done');\n",
              "    li.appendChild(percent);\n",
              "\n",
              "    outputElement.appendChild(li);\n",
              "\n",
              "    const fileDataPromise = new Promise((resolve) => {\n",
              "      const reader = new FileReader();\n",
              "      reader.onload = (e) => {\n",
              "        resolve(e.target.result);\n",
              "      };\n",
              "      reader.readAsArrayBuffer(file);\n",
              "    });\n",
              "    // Wait for the data to be ready.\n",
              "    let fileData = yield {\n",
              "      promise: fileDataPromise,\n",
              "      response: {\n",
              "        action: 'continue',\n",
              "      }\n",
              "    };\n",
              "\n",
              "    // Use a chunked sending to avoid message size limits. See b/62115660.\n",
              "    let position = 0;\n",
              "    do {\n",
              "      const length = Math.min(fileData.byteLength - position, MAX_PAYLOAD_SIZE);\n",
              "      const chunk = new Uint8Array(fileData, position, length);\n",
              "      position += length;\n",
              "\n",
              "      const base64 = btoa(String.fromCharCode.apply(null, chunk));\n",
              "      yield {\n",
              "        response: {\n",
              "          action: 'append',\n",
              "          file: file.name,\n",
              "          data: base64,\n",
              "        },\n",
              "      };\n",
              "\n",
              "      let percentDone = fileData.byteLength === 0 ?\n",
              "          100 :\n",
              "          Math.round((position / fileData.byteLength) * 100);\n",
              "      percent.textContent = `${percentDone}% done`;\n",
              "\n",
              "    } while (position < fileData.byteLength);\n",
              "  }\n",
              "\n",
              "  // All done.\n",
              "  yield {\n",
              "    response: {\n",
              "      action: 'complete',\n",
              "    }\n",
              "  };\n",
              "}\n",
              "\n",
              "scope.google = scope.google || {};\n",
              "scope.google.colab = scope.google.colab || {};\n",
              "scope.google.colab._files = {\n",
              "  _uploadFiles,\n",
              "  _uploadFilesContinue,\n",
              "};\n",
              "})(self);\n",
              "</script> "
            ]
          },
          "metadata": {}
        },
        {
          "output_type": "stream",
          "name": "stdout",
          "text": [
            "Saving material_projects_api_cif_1000.zip to material_projects_api_cif_1000 (1).zip\n"
          ]
        }
      ]
    },
    {
      "cell_type": "code",
      "source": [
        "if colab:\n",
        "  INPUT_FILE_PATH = \"./\"\n",
        "  OUTPUT_FILE_PATH = \"./\"\n",
        "else:\n",
        "  INPUT_FILE_PATH = \"../input/\"\n",
        "  OUTPUT_FILE_PATH = \"../output/\""
      ],
      "metadata": {
        "id": "fk0xCJa8kl5T"
      },
      "execution_count": 4,
      "outputs": []
    },
    {
      "cell_type": "code",
      "source": [
        "# localで実行の場合はINPUT_FILE_PATH配下にmaterial_projects_api_cif_1000.zipを配置する\n",
        "import zipfile\n",
        "\n",
        "# ファイルを解凍する\n",
        "with zipfile.ZipFile(INPUT_FILE_PATH + \"material_projects_api_cif_1000.zip\", \"r\") as zip_ref:\n",
        "    zip_ref.extractall(\"./\")"
      ],
      "metadata": {
        "id": "mDa6ZIoUjm7W"
      },
      "execution_count": 5,
      "outputs": []
    },
    {
      "cell_type": "markdown",
      "metadata": {
        "id": "0suDeWJribfI"
      },
      "source": [
        "## ライブラリをインポート"
      ]
    },
    {
      "cell_type": "markdown",
      "source": [
        "### 必要に応じてpip installを実行（Google Colabで実行の場合は必須）"
      ],
      "metadata": {
        "id": "ifinbHYPlV_N"
      }
    },
    {
      "cell_type": "code",
      "source": [
        "! pip install crystal_toolkit==2023.11.3 #ライブラリのverによってはimportエラーが発生するため今回はverを固定\n",
        "! pip install pymatgen"
      ],
      "metadata": {
        "id": "IDURat7alaGX",
        "outputId": "0354302f-53f9-4721-f1cc-227041721b8b",
        "colab": {
          "base_uri": "https://localhost:8080/"
        }
      },
      "execution_count": 7,
      "outputs": [
        {
          "output_type": "stream",
          "name": "stdout",
          "text": [
            "Requirement already satisfied: crystal_toolkit==2023.11.3 in /usr/local/lib/python3.11/dist-packages (2023.11.3)\n",
            "Requirement already satisfied: crystaltoolkit-extension in /usr/local/lib/python3.11/dist-packages (from crystal_toolkit==2023.11.3) (0.6.0)\n",
            "Requirement already satisfied: dash-mp-components>=0.4.38 in /usr/local/lib/python3.11/dist-packages (from crystal_toolkit==2023.11.3) (0.4.47)\n",
            "Requirement already satisfied: dash>=2.11.0 in /usr/local/lib/python3.11/dist-packages (from crystal_toolkit==2023.11.3) (2.18.2)\n",
            "Requirement already satisfied: flask-caching in /usr/local/lib/python3.11/dist-packages (from crystal_toolkit==2023.11.3) (2.3.0)\n",
            "Requirement already satisfied: frozendict in /usr/local/lib/python3.11/dist-packages (from crystal_toolkit==2023.11.3) (2.4.6)\n",
            "Requirement already satisfied: pymatgen in /usr/local/lib/python3.11/dist-packages (from crystal_toolkit==2023.11.3) (2025.1.9)\n",
            "Requirement already satisfied: scikit-image in /usr/local/lib/python3.11/dist-packages (from crystal_toolkit==2023.11.3) (0.25.0)\n",
            "Requirement already satisfied: scikit-learn in /usr/local/lib/python3.11/dist-packages (from crystal_toolkit==2023.11.3) (1.6.0)\n",
            "Requirement already satisfied: shapely in /usr/local/lib/python3.11/dist-packages (from crystal_toolkit==2023.11.3) (2.0.6)\n",
            "Requirement already satisfied: webcolors in /usr/local/lib/python3.11/dist-packages (from crystal_toolkit==2023.11.3) (24.11.1)\n",
            "Requirement already satisfied: pydantic-settings in /usr/local/lib/python3.11/dist-packages (from crystal_toolkit==2023.11.3) (2.7.1)\n",
            "Requirement already satisfied: mp-api in /usr/local/lib/python3.11/dist-packages (from crystal_toolkit==2023.11.3) (0.45.1)\n",
            "Requirement already satisfied: Flask<3.1,>=1.0.4 in /usr/local/lib/python3.11/dist-packages (from dash>=2.11.0->crystal_toolkit==2023.11.3) (3.0.3)\n",
            "Requirement already satisfied: Werkzeug<3.1 in /usr/local/lib/python3.11/dist-packages (from dash>=2.11.0->crystal_toolkit==2023.11.3) (3.0.6)\n",
            "Requirement already satisfied: plotly>=5.0.0 in /usr/local/lib/python3.11/dist-packages (from dash>=2.11.0->crystal_toolkit==2023.11.3) (5.24.1)\n",
            "Requirement already satisfied: dash-html-components==2.0.0 in /usr/local/lib/python3.11/dist-packages (from dash>=2.11.0->crystal_toolkit==2023.11.3) (2.0.0)\n",
            "Requirement already satisfied: dash-core-components==2.0.0 in /usr/local/lib/python3.11/dist-packages (from dash>=2.11.0->crystal_toolkit==2023.11.3) (2.0.0)\n",
            "Requirement already satisfied: dash-table==5.0.0 in /usr/local/lib/python3.11/dist-packages (from dash>=2.11.0->crystal_toolkit==2023.11.3) (5.0.0)\n",
            "Requirement already satisfied: importlib-metadata in /usr/local/lib/python3.11/dist-packages (from dash>=2.11.0->crystal_toolkit==2023.11.3) (8.5.0)\n",
            "Requirement already satisfied: typing-extensions>=4.1.1 in /usr/local/lib/python3.11/dist-packages (from dash>=2.11.0->crystal_toolkit==2023.11.3) (4.12.2)\n",
            "Requirement already satisfied: requests in /usr/local/lib/python3.11/dist-packages (from dash>=2.11.0->crystal_toolkit==2023.11.3) (2.32.3)\n",
            "Requirement already satisfied: retrying in /usr/local/lib/python3.11/dist-packages (from dash>=2.11.0->crystal_toolkit==2023.11.3) (1.3.4)\n",
            "Requirement already satisfied: nest-asyncio in /usr/local/lib/python3.11/dist-packages (from dash>=2.11.0->crystal_toolkit==2023.11.3) (1.6.0)\n",
            "Requirement already satisfied: setuptools in /usr/local/lib/python3.11/dist-packages (from dash>=2.11.0->crystal_toolkit==2023.11.3) (75.1.0)\n",
            "Requirement already satisfied: jupyterlab==3.*,>=3.0.0rc13 in /usr/local/lib/python3.11/dist-packages (from crystaltoolkit-extension->crystal_toolkit==2023.11.3) (3.6.8)\n",
            "Requirement already satisfied: ipython in /usr/local/lib/python3.11/dist-packages (from jupyterlab==3.*,>=3.0.0rc13->crystaltoolkit-extension->crystal_toolkit==2023.11.3) (7.34.0)\n",
            "Requirement already satisfied: packaging in /usr/local/lib/python3.11/dist-packages (from jupyterlab==3.*,>=3.0.0rc13->crystaltoolkit-extension->crystal_toolkit==2023.11.3) (24.2)\n",
            "Requirement already satisfied: tornado>=6.1.0 in /usr/local/lib/python3.11/dist-packages (from jupyterlab==3.*,>=3.0.0rc13->crystaltoolkit-extension->crystal_toolkit==2023.11.3) (6.3.3)\n",
            "Requirement already satisfied: jupyter-core in /usr/local/lib/python3.11/dist-packages (from jupyterlab==3.*,>=3.0.0rc13->crystaltoolkit-extension->crystal_toolkit==2023.11.3) (5.7.2)\n",
            "Requirement already satisfied: jupyterlab-server~=2.19 in /usr/local/lib/python3.11/dist-packages (from jupyterlab==3.*,>=3.0.0rc13->crystaltoolkit-extension->crystal_toolkit==2023.11.3) (2.27.3)\n",
            "Requirement already satisfied: jupyter-server<3,>=1.16.0 in /usr/local/lib/python3.11/dist-packages (from jupyterlab==3.*,>=3.0.0rc13->crystaltoolkit-extension->crystal_toolkit==2023.11.3) (1.24.0)\n",
            "Requirement already satisfied: jupyter-ydoc~=0.2.4 in /usr/local/lib/python3.11/dist-packages (from jupyterlab==3.*,>=3.0.0rc13->crystaltoolkit-extension->crystal_toolkit==2023.11.3) (0.2.5)\n",
            "Requirement already satisfied: jupyter-server-ydoc~=0.8.0 in /usr/local/lib/python3.11/dist-packages (from jupyterlab==3.*,>=3.0.0rc13->crystaltoolkit-extension->crystal_toolkit==2023.11.3) (0.8.0)\n",
            "Requirement already satisfied: nbclassic in /usr/local/lib/python3.11/dist-packages (from jupyterlab==3.*,>=3.0.0rc13->crystaltoolkit-extension->crystal_toolkit==2023.11.3) (1.1.0)\n",
            "Requirement already satisfied: notebook<7 in /usr/local/lib/python3.11/dist-packages (from jupyterlab==3.*,>=3.0.0rc13->crystaltoolkit-extension->crystal_toolkit==2023.11.3) (6.5.7)\n",
            "Requirement already satisfied: jinja2>=2.1 in /usr/local/lib/python3.11/dist-packages (from jupyterlab==3.*,>=3.0.0rc13->crystaltoolkit-extension->crystal_toolkit==2023.11.3) (3.1.5)\n",
            "Requirement already satisfied: cachelib<0.10.0,>=0.9.0 in /usr/local/lib/python3.11/dist-packages (from flask-caching->crystal_toolkit==2023.11.3) (0.9.0)\n",
            "Requirement already satisfied: msgpack in /usr/local/lib/python3.11/dist-packages (from mp-api->crystal_toolkit==2023.11.3) (1.1.0)\n",
            "Requirement already satisfied: maggma>=0.57.1 in /usr/local/lib/python3.11/dist-packages (from mp-api->crystal_toolkit==2023.11.3) (0.71.1)\n",
            "Requirement already satisfied: monty>=2024.12.10 in /usr/local/lib/python3.11/dist-packages (from mp-api->crystal_toolkit==2023.11.3) (2025.1.9)\n",
            "Requirement already satisfied: emmet-core>=0.84.3rc6 in /usr/local/lib/python3.11/dist-packages (from mp-api->crystal_toolkit==2023.11.3) (0.84.6rc3)\n",
            "Requirement already satisfied: smart_open in /usr/local/lib/python3.11/dist-packages (from mp-api->crystal_toolkit==2023.11.3) (7.1.0)\n",
            "Requirement already satisfied: joblib>=1 in /usr/local/lib/python3.11/dist-packages (from pymatgen->crystal_toolkit==2023.11.3) (1.4.2)\n",
            "Requirement already satisfied: matplotlib>=3.8 in /usr/local/lib/python3.11/dist-packages (from pymatgen->crystal_toolkit==2023.11.3) (3.10.0)\n",
            "Requirement already satisfied: networkx>=2.7 in /usr/local/lib/python3.11/dist-packages (from pymatgen->crystal_toolkit==2023.11.3) (3.4.2)\n",
            "Requirement already satisfied: palettable>=3.3.3 in /usr/local/lib/python3.11/dist-packages (from pymatgen->crystal_toolkit==2023.11.3) (3.3.3)\n",
            "Requirement already satisfied: pandas>=2 in /usr/local/lib/python3.11/dist-packages (from pymatgen->crystal_toolkit==2023.11.3) (2.2.2)\n",
            "Requirement already satisfied: pybtex>=0.24.0 in /usr/local/lib/python3.11/dist-packages (from pymatgen->crystal_toolkit==2023.11.3) (0.24.0)\n",
            "Requirement already satisfied: ruamel.yaml>=0.17.0 in /usr/local/lib/python3.11/dist-packages (from pymatgen->crystal_toolkit==2023.11.3) (0.18.10)\n",
            "Requirement already satisfied: scipy>=1.13.0 in /usr/local/lib/python3.11/dist-packages (from pymatgen->crystal_toolkit==2023.11.3) (1.13.1)\n",
            "Requirement already satisfied: spglib>=2.5.0 in /usr/local/lib/python3.11/dist-packages (from pymatgen->crystal_toolkit==2023.11.3) (2.5.0)\n",
            "Requirement already satisfied: sympy>=1.3 in /usr/local/lib/python3.11/dist-packages (from pymatgen->crystal_toolkit==2023.11.3) (1.13.1)\n",
            "Requirement already satisfied: tabulate>=0.9 in /usr/local/lib/python3.11/dist-packages (from pymatgen->crystal_toolkit==2023.11.3) (0.9.0)\n",
            "Requirement already satisfied: tqdm>=4.60 in /usr/local/lib/python3.11/dist-packages (from pymatgen->crystal_toolkit==2023.11.3) (4.67.1)\n",
            "Requirement already satisfied: uncertainties>=3.1.4 in /usr/local/lib/python3.11/dist-packages (from pymatgen->crystal_toolkit==2023.11.3) (3.2.2)\n",
            "Requirement already satisfied: numpy<3,>=1.25.0 in /usr/local/lib/python3.11/dist-packages (from pymatgen->crystal_toolkit==2023.11.3) (1.26.4)\n",
            "Requirement already satisfied: pydantic>=2.7.0 in /usr/local/lib/python3.11/dist-packages (from pydantic-settings->crystal_toolkit==2023.11.3) (2.10.5)\n",
            "Requirement already satisfied: python-dotenv>=0.21.0 in /usr/local/lib/python3.11/dist-packages (from pydantic-settings->crystal_toolkit==2023.11.3) (1.0.1)\n",
            "Requirement already satisfied: pillow>=10.1 in /usr/local/lib/python3.11/dist-packages (from scikit-image->crystal_toolkit==2023.11.3) (11.1.0)\n",
            "Requirement already satisfied: imageio!=2.35.0,>=2.33 in /usr/local/lib/python3.11/dist-packages (from scikit-image->crystal_toolkit==2023.11.3) (2.36.1)\n",
            "Requirement already satisfied: tifffile>=2022.8.12 in /usr/local/lib/python3.11/dist-packages (from scikit-image->crystal_toolkit==2023.11.3) (2024.12.12)\n",
            "Requirement already satisfied: lazy-loader>=0.4 in /usr/local/lib/python3.11/dist-packages (from scikit-image->crystal_toolkit==2023.11.3) (0.4)\n",
            "Requirement already satisfied: threadpoolctl>=3.1.0 in /usr/local/lib/python3.11/dist-packages (from scikit-learn->crystal_toolkit==2023.11.3) (3.5.0)\n",
            "Requirement already satisfied: itsdangerous>=2.1.2 in /usr/local/lib/python3.11/dist-packages (from Flask<3.1,>=1.0.4->dash>=2.11.0->crystal_toolkit==2023.11.3) (2.2.0)\n",
            "Requirement already satisfied: click>=8.1.3 in /usr/local/lib/python3.11/dist-packages (from Flask<3.1,>=1.0.4->dash>=2.11.0->crystal_toolkit==2023.11.3) (8.1.8)\n",
            "Requirement already satisfied: blinker>=1.6.2 in /usr/local/lib/python3.11/dist-packages (from Flask<3.1,>=1.0.4->dash>=2.11.0->crystal_toolkit==2023.11.3) (1.9.0)\n",
            "Requirement already satisfied: pymongo>=4.2.0 in /usr/local/lib/python3.11/dist-packages (from maggma>=0.57.1->mp-api->crystal_toolkit==2023.11.3) (4.10.1)\n",
            "Requirement already satisfied: mongomock>=3.10.0 in /usr/local/lib/python3.11/dist-packages (from maggma>=0.57.1->mp-api->crystal_toolkit==2023.11.3) (4.3.0)\n",
            "Requirement already satisfied: pydash>=4.1.0 in /usr/local/lib/python3.11/dist-packages (from maggma>=0.57.1->mp-api->crystal_toolkit==2023.11.3) (8.0.5)\n",
            "Requirement already satisfied: jsonschema>=3.1.1 in /usr/local/lib/python3.11/dist-packages (from maggma>=0.57.1->mp-api->crystal_toolkit==2023.11.3) (4.23.0)\n",
            "Requirement already satisfied: jsonlines>=4.0.0 in /usr/local/lib/python3.11/dist-packages (from maggma>=0.57.1->mp-api->crystal_toolkit==2023.11.3) (4.0.0)\n",
            "Requirement already satisfied: aioitertools>=0.5.1 in /usr/local/lib/python3.11/dist-packages (from maggma>=0.57.1->mp-api->crystal_toolkit==2023.11.3) (0.12.0)\n",
            "Requirement already satisfied: pyzmq>=25.1.1 in /usr/local/lib/python3.11/dist-packages (from maggma>=0.57.1->mp-api->crystal_toolkit==2023.11.3) (26.2.0)\n",
            "Requirement already satisfied: dnspython>=1.16.0 in /usr/local/lib/python3.11/dist-packages (from maggma>=0.57.1->mp-api->crystal_toolkit==2023.11.3) (2.7.0)\n",
            "Requirement already satisfied: sshtunnel>=0.1.5 in /usr/local/lib/python3.11/dist-packages (from maggma>=0.57.1->mp-api->crystal_toolkit==2023.11.3) (0.4.0)\n",
            "Requirement already satisfied: orjson>=3.9.0 in /usr/local/lib/python3.11/dist-packages (from maggma>=0.57.1->mp-api->crystal_toolkit==2023.11.3) (3.10.14)\n",
            "Requirement already satisfied: boto3>=1.20.41 in /usr/local/lib/python3.11/dist-packages (from maggma>=0.57.1->mp-api->crystal_toolkit==2023.11.3) (1.36.2)\n",
            "Requirement already satisfied: python-dateutil>=2.8.2 in /usr/local/lib/python3.11/dist-packages (from maggma>=0.57.1->mp-api->crystal_toolkit==2023.11.3) (2.8.2)\n",
            "Requirement already satisfied: contourpy>=1.0.1 in /usr/local/lib/python3.11/dist-packages (from matplotlib>=3.8->pymatgen->crystal_toolkit==2023.11.3) (1.3.1)\n",
            "Requirement already satisfied: cycler>=0.10 in /usr/local/lib/python3.11/dist-packages (from matplotlib>=3.8->pymatgen->crystal_toolkit==2023.11.3) (0.12.1)\n",
            "Requirement already satisfied: fonttools>=4.22.0 in /usr/local/lib/python3.11/dist-packages (from matplotlib>=3.8->pymatgen->crystal_toolkit==2023.11.3) (4.55.3)\n",
            "Requirement already satisfied: kiwisolver>=1.3.1 in /usr/local/lib/python3.11/dist-packages (from matplotlib>=3.8->pymatgen->crystal_toolkit==2023.11.3) (1.4.8)\n",
            "Requirement already satisfied: pyparsing>=2.3.1 in /usr/local/lib/python3.11/dist-packages (from matplotlib>=3.8->pymatgen->crystal_toolkit==2023.11.3) (3.2.1)\n",
            "Requirement already satisfied: pytz>=2020.1 in /usr/local/lib/python3.11/dist-packages (from pandas>=2->pymatgen->crystal_toolkit==2023.11.3) (2024.2)\n",
            "Requirement already satisfied: tzdata>=2022.7 in /usr/local/lib/python3.11/dist-packages (from pandas>=2->pymatgen->crystal_toolkit==2023.11.3) (2024.2)\n",
            "Requirement already satisfied: tenacity>=6.2.0 in /usr/local/lib/python3.11/dist-packages (from plotly>=5.0.0->dash>=2.11.0->crystal_toolkit==2023.11.3) (9.0.0)\n",
            "Requirement already satisfied: PyYAML>=3.01 in /usr/local/lib/python3.11/dist-packages (from pybtex>=0.24.0->pymatgen->crystal_toolkit==2023.11.3) (6.0.2)\n",
            "Requirement already satisfied: latexcodec>=1.0.4 in /usr/local/lib/python3.11/dist-packages (from pybtex>=0.24.0->pymatgen->crystal_toolkit==2023.11.3) (3.0.0)\n",
            "Requirement already satisfied: six in /usr/local/lib/python3.11/dist-packages (from pybtex>=0.24.0->pymatgen->crystal_toolkit==2023.11.3) (1.17.0)\n",
            "Requirement already satisfied: annotated-types>=0.6.0 in /usr/local/lib/python3.11/dist-packages (from pydantic>=2.7.0->pydantic-settings->crystal_toolkit==2023.11.3) (0.7.0)\n",
            "Requirement already satisfied: pydantic-core==2.27.2 in /usr/local/lib/python3.11/dist-packages (from pydantic>=2.7.0->pydantic-settings->crystal_toolkit==2023.11.3) (2.27.2)\n",
            "Requirement already satisfied: charset-normalizer<4,>=2 in /usr/local/lib/python3.11/dist-packages (from requests->dash>=2.11.0->crystal_toolkit==2023.11.3) (3.4.1)\n",
            "Requirement already satisfied: idna<4,>=2.5 in /usr/local/lib/python3.11/dist-packages (from requests->dash>=2.11.0->crystal_toolkit==2023.11.3) (3.10)\n",
            "Requirement already satisfied: urllib3<3,>=1.21.1 in /usr/local/lib/python3.11/dist-packages (from requests->dash>=2.11.0->crystal_toolkit==2023.11.3) (2.3.0)\n",
            "Requirement already satisfied: certifi>=2017.4.17 in /usr/local/lib/python3.11/dist-packages (from requests->dash>=2.11.0->crystal_toolkit==2023.11.3) (2024.12.14)\n",
            "Requirement already satisfied: ruamel.yaml.clib>=0.2.7 in /usr/local/lib/python3.11/dist-packages (from ruamel.yaml>=0.17.0->pymatgen->crystal_toolkit==2023.11.3) (0.2.12)\n",
            "Requirement already satisfied: mpmath<1.4,>=1.1.0 in /usr/local/lib/python3.11/dist-packages (from sympy>=1.3->pymatgen->crystal_toolkit==2023.11.3) (1.3.0)\n",
            "Requirement already satisfied: MarkupSafe>=2.1.1 in /usr/local/lib/python3.11/dist-packages (from Werkzeug<3.1->dash>=2.11.0->crystal_toolkit==2023.11.3) (3.0.2)\n",
            "Requirement already satisfied: zipp>=3.20 in /usr/local/lib/python3.11/dist-packages (from importlib-metadata->dash>=2.11.0->crystal_toolkit==2023.11.3) (3.21.0)\n",
            "Requirement already satisfied: wrapt in /usr/local/lib/python3.11/dist-packages (from smart_open->mp-api->crystal_toolkit==2023.11.3) (1.17.0)\n",
            "Requirement already satisfied: botocore<1.37.0,>=1.36.2 in /usr/local/lib/python3.11/dist-packages (from boto3>=1.20.41->maggma>=0.57.1->mp-api->crystal_toolkit==2023.11.3) (1.36.2)\n",
            "Requirement already satisfied: jmespath<2.0.0,>=0.7.1 in /usr/local/lib/python3.11/dist-packages (from boto3>=1.20.41->maggma>=0.57.1->mp-api->crystal_toolkit==2023.11.3) (1.0.1)\n",
            "Requirement already satisfied: s3transfer<0.12.0,>=0.11.0 in /usr/local/lib/python3.11/dist-packages (from boto3>=1.20.41->maggma>=0.57.1->mp-api->crystal_toolkit==2023.11.3) (0.11.1)\n",
            "Requirement already satisfied: attrs>=19.2.0 in /usr/local/lib/python3.11/dist-packages (from jsonlines>=4.0.0->maggma>=0.57.1->mp-api->crystal_toolkit==2023.11.3) (24.3.0)\n",
            "Requirement already satisfied: jsonschema-specifications>=2023.03.6 in /usr/local/lib/python3.11/dist-packages (from jsonschema>=3.1.1->maggma>=0.57.1->mp-api->crystal_toolkit==2023.11.3) (2024.10.1)\n",
            "Requirement already satisfied: referencing>=0.28.4 in /usr/local/lib/python3.11/dist-packages (from jsonschema>=3.1.1->maggma>=0.57.1->mp-api->crystal_toolkit==2023.11.3) (0.35.1)\n",
            "Requirement already satisfied: rpds-py>=0.7.1 in /usr/local/lib/python3.11/dist-packages (from jsonschema>=3.1.1->maggma>=0.57.1->mp-api->crystal_toolkit==2023.11.3) (0.22.3)\n",
            "Requirement already satisfied: anyio<4,>=3.1.0 in /usr/local/lib/python3.11/dist-packages (from jupyter-server<3,>=1.16.0->jupyterlab==3.*,>=3.0.0rc13->crystaltoolkit-extension->crystal_toolkit==2023.11.3) (3.7.1)\n",
            "Requirement already satisfied: argon2-cffi in /usr/local/lib/python3.11/dist-packages (from jupyter-server<3,>=1.16.0->jupyterlab==3.*,>=3.0.0rc13->crystaltoolkit-extension->crystal_toolkit==2023.11.3) (23.1.0)\n",
            "Requirement already satisfied: jupyter-client>=6.1.12 in /usr/local/lib/python3.11/dist-packages (from jupyter-server<3,>=1.16.0->jupyterlab==3.*,>=3.0.0rc13->crystaltoolkit-extension->crystal_toolkit==2023.11.3) (6.1.12)\n",
            "Requirement already satisfied: nbconvert>=6.4.4 in /usr/local/lib/python3.11/dist-packages (from jupyter-server<3,>=1.16.0->jupyterlab==3.*,>=3.0.0rc13->crystaltoolkit-extension->crystal_toolkit==2023.11.3) (7.16.5)\n",
            "Requirement already satisfied: nbformat>=5.2.0 in /usr/local/lib/python3.11/dist-packages (from jupyter-server<3,>=1.16.0->jupyterlab==3.*,>=3.0.0rc13->crystaltoolkit-extension->crystal_toolkit==2023.11.3) (5.10.4)\n",
            "Requirement already satisfied: prometheus-client in /usr/local/lib/python3.11/dist-packages (from jupyter-server<3,>=1.16.0->jupyterlab==3.*,>=3.0.0rc13->crystaltoolkit-extension->crystal_toolkit==2023.11.3) (0.21.1)\n",
            "Requirement already satisfied: Send2Trash in /usr/local/lib/python3.11/dist-packages (from jupyter-server<3,>=1.16.0->jupyterlab==3.*,>=3.0.0rc13->crystaltoolkit-extension->crystal_toolkit==2023.11.3) (1.8.3)\n",
            "Requirement already satisfied: terminado>=0.8.3 in /usr/local/lib/python3.11/dist-packages (from jupyter-server<3,>=1.16.0->jupyterlab==3.*,>=3.0.0rc13->crystaltoolkit-extension->crystal_toolkit==2023.11.3) (0.18.1)\n",
            "Requirement already satisfied: traitlets>=5.1 in /usr/local/lib/python3.11/dist-packages (from jupyter-server<3,>=1.16.0->jupyterlab==3.*,>=3.0.0rc13->crystaltoolkit-extension->crystal_toolkit==2023.11.3) (5.7.1)\n",
            "Requirement already satisfied: websocket-client in /usr/local/lib/python3.11/dist-packages (from jupyter-server<3,>=1.16.0->jupyterlab==3.*,>=3.0.0rc13->crystaltoolkit-extension->crystal_toolkit==2023.11.3) (1.8.0)\n",
            "Requirement already satisfied: platformdirs>=2.5 in /usr/local/lib/python3.11/dist-packages (from jupyter-core->jupyterlab==3.*,>=3.0.0rc13->crystaltoolkit-extension->crystal_toolkit==2023.11.3) (4.3.6)\n",
            "Requirement already satisfied: jupyter-server-fileid<1,>=0.6.0 in /usr/local/lib/python3.11/dist-packages (from jupyter-server-ydoc~=0.8.0->jupyterlab==3.*,>=3.0.0rc13->crystaltoolkit-extension->crystal_toolkit==2023.11.3) (0.9.3)\n",
            "Requirement already satisfied: ypy-websocket<0.9.0,>=0.8.2 in /usr/local/lib/python3.11/dist-packages (from jupyter-server-ydoc~=0.8.0->jupyterlab==3.*,>=3.0.0rc13->crystaltoolkit-extension->crystal_toolkit==2023.11.3) (0.8.4)\n",
            "Requirement already satisfied: y-py<0.7.0,>=0.6.0 in /usr/local/lib/python3.11/dist-packages (from jupyter-ydoc~=0.2.4->jupyterlab==3.*,>=3.0.0rc13->crystaltoolkit-extension->crystal_toolkit==2023.11.3) (0.6.2)\n",
            "Requirement already satisfied: babel>=2.10 in /usr/local/lib/python3.11/dist-packages (from jupyterlab-server~=2.19->jupyterlab==3.*,>=3.0.0rc13->crystaltoolkit-extension->crystal_toolkit==2023.11.3) (2.16.0)\n",
            "Requirement already satisfied: json5>=0.9.0 in /usr/local/lib/python3.11/dist-packages (from jupyterlab-server~=2.19->jupyterlab==3.*,>=3.0.0rc13->crystaltoolkit-extension->crystal_toolkit==2023.11.3) (0.10.0)\n",
            "Requirement already satisfied: sentinels in /usr/local/lib/python3.11/dist-packages (from mongomock>=3.10.0->maggma>=0.57.1->mp-api->crystal_toolkit==2023.11.3) (1.0.0)\n",
            "Requirement already satisfied: ipython-genutils in /usr/local/lib/python3.11/dist-packages (from notebook<7->jupyterlab==3.*,>=3.0.0rc13->crystaltoolkit-extension->crystal_toolkit==2023.11.3) (0.2.0)\n",
            "Requirement already satisfied: ipykernel in /usr/local/lib/python3.11/dist-packages (from notebook<7->jupyterlab==3.*,>=3.0.0rc13->crystaltoolkit-extension->crystal_toolkit==2023.11.3) (5.5.6)\n",
            "Requirement already satisfied: notebook-shim>=0.2.3 in /usr/local/lib/python3.11/dist-packages (from nbclassic->jupyterlab==3.*,>=3.0.0rc13->crystaltoolkit-extension->crystal_toolkit==2023.11.3) (0.2.4)\n",
            "Requirement already satisfied: paramiko>=2.7.2 in /usr/local/lib/python3.11/dist-packages (from sshtunnel>=0.1.5->maggma>=0.57.1->mp-api->crystal_toolkit==2023.11.3) (3.5.0)\n",
            "Requirement already satisfied: jedi>=0.16 in /usr/local/lib/python3.11/dist-packages (from ipython->jupyterlab==3.*,>=3.0.0rc13->crystaltoolkit-extension->crystal_toolkit==2023.11.3) (0.19.2)\n",
            "Requirement already satisfied: decorator in /usr/local/lib/python3.11/dist-packages (from ipython->jupyterlab==3.*,>=3.0.0rc13->crystaltoolkit-extension->crystal_toolkit==2023.11.3) (4.4.2)\n",
            "Requirement already satisfied: pickleshare in /usr/local/lib/python3.11/dist-packages (from ipython->jupyterlab==3.*,>=3.0.0rc13->crystaltoolkit-extension->crystal_toolkit==2023.11.3) (0.7.5)\n",
            "Requirement already satisfied: prompt-toolkit!=3.0.0,!=3.0.1,<3.1.0,>=2.0.0 in /usr/local/lib/python3.11/dist-packages (from ipython->jupyterlab==3.*,>=3.0.0rc13->crystaltoolkit-extension->crystal_toolkit==2023.11.3) (3.0.48)\n",
            "Requirement already satisfied: pygments in /usr/local/lib/python3.11/dist-packages (from ipython->jupyterlab==3.*,>=3.0.0rc13->crystaltoolkit-extension->crystal_toolkit==2023.11.3) (2.18.0)\n",
            "Requirement already satisfied: backcall in /usr/local/lib/python3.11/dist-packages (from ipython->jupyterlab==3.*,>=3.0.0rc13->crystaltoolkit-extension->crystal_toolkit==2023.11.3) (0.2.0)\n",
            "Requirement already satisfied: matplotlib-inline in /usr/local/lib/python3.11/dist-packages (from ipython->jupyterlab==3.*,>=3.0.0rc13->crystaltoolkit-extension->crystal_toolkit==2023.11.3) (0.1.7)\n",
            "Requirement already satisfied: pexpect>4.3 in /usr/local/lib/python3.11/dist-packages (from ipython->jupyterlab==3.*,>=3.0.0rc13->crystaltoolkit-extension->crystal_toolkit==2023.11.3) (4.9.0)\n",
            "Requirement already satisfied: sniffio>=1.1 in /usr/local/lib/python3.11/dist-packages (from anyio<4,>=3.1.0->jupyter-server<3,>=1.16.0->jupyterlab==3.*,>=3.0.0rc13->crystaltoolkit-extension->crystal_toolkit==2023.11.3) (1.3.1)\n",
            "Requirement already satisfied: parso<0.9.0,>=0.8.4 in /usr/local/lib/python3.11/dist-packages (from jedi>=0.16->ipython->jupyterlab==3.*,>=3.0.0rc13->crystaltoolkit-extension->crystal_toolkit==2023.11.3) (0.8.4)\n",
            "Requirement already satisfied: jupyter-events>=0.5.0 in /usr/local/lib/python3.11/dist-packages (from jupyter-server-fileid<1,>=0.6.0->jupyter-server-ydoc~=0.8.0->jupyterlab==3.*,>=3.0.0rc13->crystaltoolkit-extension->crystal_toolkit==2023.11.3) (0.11.0)\n",
            "Requirement already satisfied: beautifulsoup4 in /usr/local/lib/python3.11/dist-packages (from nbconvert>=6.4.4->jupyter-server<3,>=1.16.0->jupyterlab==3.*,>=3.0.0rc13->crystaltoolkit-extension->crystal_toolkit==2023.11.3) (4.12.3)\n",
            "Requirement already satisfied: bleach!=5.0.0 in /usr/local/lib/python3.11/dist-packages (from bleach[css]!=5.0.0->nbconvert>=6.4.4->jupyter-server<3,>=1.16.0->jupyterlab==3.*,>=3.0.0rc13->crystaltoolkit-extension->crystal_toolkit==2023.11.3) (6.2.0)\n",
            "Requirement already satisfied: defusedxml in /usr/local/lib/python3.11/dist-packages (from nbconvert>=6.4.4->jupyter-server<3,>=1.16.0->jupyterlab==3.*,>=3.0.0rc13->crystaltoolkit-extension->crystal_toolkit==2023.11.3) (0.7.1)\n",
            "Requirement already satisfied: jupyterlab-pygments in /usr/local/lib/python3.11/dist-packages (from nbconvert>=6.4.4->jupyter-server<3,>=1.16.0->jupyterlab==3.*,>=3.0.0rc13->crystaltoolkit-extension->crystal_toolkit==2023.11.3) (0.3.0)\n",
            "Requirement already satisfied: mistune<4,>=2.0.3 in /usr/local/lib/python3.11/dist-packages (from nbconvert>=6.4.4->jupyter-server<3,>=1.16.0->jupyterlab==3.*,>=3.0.0rc13->crystaltoolkit-extension->crystal_toolkit==2023.11.3) (3.1.0)\n",
            "Requirement already satisfied: nbclient>=0.5.0 in /usr/local/lib/python3.11/dist-packages (from nbconvert>=6.4.4->jupyter-server<3,>=1.16.0->jupyterlab==3.*,>=3.0.0rc13->crystaltoolkit-extension->crystal_toolkit==2023.11.3) (0.10.2)\n",
            "Requirement already satisfied: pandocfilters>=1.4.1 in /usr/local/lib/python3.11/dist-packages (from nbconvert>=6.4.4->jupyter-server<3,>=1.16.0->jupyterlab==3.*,>=3.0.0rc13->crystaltoolkit-extension->crystal_toolkit==2023.11.3) (1.5.1)\n",
            "Requirement already satisfied: fastjsonschema>=2.15 in /usr/local/lib/python3.11/dist-packages (from nbformat>=5.2.0->jupyter-server<3,>=1.16.0->jupyterlab==3.*,>=3.0.0rc13->crystaltoolkit-extension->crystal_toolkit==2023.11.3) (2.21.1)\n",
            "Requirement already satisfied: bcrypt>=3.2 in /usr/local/lib/python3.11/dist-packages (from paramiko>=2.7.2->sshtunnel>=0.1.5->maggma>=0.57.1->mp-api->crystal_toolkit==2023.11.3) (4.2.1)\n",
            "Requirement already satisfied: cryptography>=3.3 in /usr/local/lib/python3.11/dist-packages (from paramiko>=2.7.2->sshtunnel>=0.1.5->maggma>=0.57.1->mp-api->crystal_toolkit==2023.11.3) (43.0.3)\n",
            "Requirement already satisfied: pynacl>=1.5 in /usr/local/lib/python3.11/dist-packages (from paramiko>=2.7.2->sshtunnel>=0.1.5->maggma>=0.57.1->mp-api->crystal_toolkit==2023.11.3) (1.5.0)\n",
            "Requirement already satisfied: ptyprocess>=0.5 in /usr/local/lib/python3.11/dist-packages (from pexpect>4.3->ipython->jupyterlab==3.*,>=3.0.0rc13->crystaltoolkit-extension->crystal_toolkit==2023.11.3) (0.7.0)\n",
            "Requirement already satisfied: wcwidth in /usr/local/lib/python3.11/dist-packages (from prompt-toolkit!=3.0.0,!=3.0.1,<3.1.0,>=2.0.0->ipython->jupyterlab==3.*,>=3.0.0rc13->crystaltoolkit-extension->crystal_toolkit==2023.11.3) (0.2.13)\n",
            "Requirement already satisfied: aiofiles<23,>=22.1.0 in /usr/local/lib/python3.11/dist-packages (from ypy-websocket<0.9.0,>=0.8.2->jupyter-server-ydoc~=0.8.0->jupyterlab==3.*,>=3.0.0rc13->crystaltoolkit-extension->crystal_toolkit==2023.11.3) (22.1.0)\n",
            "Requirement already satisfied: aiosqlite<1,>=0.17.0 in /usr/local/lib/python3.11/dist-packages (from ypy-websocket<0.9.0,>=0.8.2->jupyter-server-ydoc~=0.8.0->jupyterlab==3.*,>=3.0.0rc13->crystaltoolkit-extension->crystal_toolkit==2023.11.3) (0.20.0)\n",
            "Requirement already satisfied: argon2-cffi-bindings in /usr/local/lib/python3.11/dist-packages (from argon2-cffi->jupyter-server<3,>=1.16.0->jupyterlab==3.*,>=3.0.0rc13->crystaltoolkit-extension->crystal_toolkit==2023.11.3) (21.2.0)\n",
            "Requirement already satisfied: webencodings in /usr/local/lib/python3.11/dist-packages (from bleach!=5.0.0->bleach[css]!=5.0.0->nbconvert>=6.4.4->jupyter-server<3,>=1.16.0->jupyterlab==3.*,>=3.0.0rc13->crystaltoolkit-extension->crystal_toolkit==2023.11.3) (0.5.1)\n",
            "Requirement already satisfied: tinycss2<1.5,>=1.1.0 in /usr/local/lib/python3.11/dist-packages (from bleach[css]!=5.0.0->nbconvert>=6.4.4->jupyter-server<3,>=1.16.0->jupyterlab==3.*,>=3.0.0rc13->crystaltoolkit-extension->crystal_toolkit==2023.11.3) (1.4.0)\n",
            "Requirement already satisfied: cffi>=1.12 in /usr/local/lib/python3.11/dist-packages (from cryptography>=3.3->paramiko>=2.7.2->sshtunnel>=0.1.5->maggma>=0.57.1->mp-api->crystal_toolkit==2023.11.3) (1.17.1)\n",
            "Requirement already satisfied: python-json-logger>=2.0.4 in /usr/local/lib/python3.11/dist-packages (from jupyter-events>=0.5.0->jupyter-server-fileid<1,>=0.6.0->jupyter-server-ydoc~=0.8.0->jupyterlab==3.*,>=3.0.0rc13->crystaltoolkit-extension->crystal_toolkit==2023.11.3) (3.2.1)\n",
            "Requirement already satisfied: rfc3339-validator in /usr/local/lib/python3.11/dist-packages (from jupyter-events>=0.5.0->jupyter-server-fileid<1,>=0.6.0->jupyter-server-ydoc~=0.8.0->jupyterlab==3.*,>=3.0.0rc13->crystaltoolkit-extension->crystal_toolkit==2023.11.3) (0.1.4)\n",
            "Requirement already satisfied: rfc3986-validator>=0.1.1 in /usr/local/lib/python3.11/dist-packages (from jupyter-events>=0.5.0->jupyter-server-fileid<1,>=0.6.0->jupyter-server-ydoc~=0.8.0->jupyterlab==3.*,>=3.0.0rc13->crystaltoolkit-extension->crystal_toolkit==2023.11.3) (0.1.1)\n",
            "Requirement already satisfied: soupsieve>1.2 in /usr/local/lib/python3.11/dist-packages (from beautifulsoup4->nbconvert>=6.4.4->jupyter-server<3,>=1.16.0->jupyterlab==3.*,>=3.0.0rc13->crystaltoolkit-extension->crystal_toolkit==2023.11.3) (2.6)\n",
            "Requirement already satisfied: pycparser in /usr/local/lib/python3.11/dist-packages (from cffi>=1.12->cryptography>=3.3->paramiko>=2.7.2->sshtunnel>=0.1.5->maggma>=0.57.1->mp-api->crystal_toolkit==2023.11.3) (2.22)\n",
            "Requirement already satisfied: fqdn in /usr/local/lib/python3.11/dist-packages (from jsonschema[format-nongpl]>=4.18.0->jupyter-events>=0.5.0->jupyter-server-fileid<1,>=0.6.0->jupyter-server-ydoc~=0.8.0->jupyterlab==3.*,>=3.0.0rc13->crystaltoolkit-extension->crystal_toolkit==2023.11.3) (1.5.1)\n",
            "Requirement already satisfied: isoduration in /usr/local/lib/python3.11/dist-packages (from jsonschema[format-nongpl]>=4.18.0->jupyter-events>=0.5.0->jupyter-server-fileid<1,>=0.6.0->jupyter-server-ydoc~=0.8.0->jupyterlab==3.*,>=3.0.0rc13->crystaltoolkit-extension->crystal_toolkit==2023.11.3) (20.11.0)\n",
            "Requirement already satisfied: jsonpointer>1.13 in /usr/local/lib/python3.11/dist-packages (from jsonschema[format-nongpl]>=4.18.0->jupyter-events>=0.5.0->jupyter-server-fileid<1,>=0.6.0->jupyter-server-ydoc~=0.8.0->jupyterlab==3.*,>=3.0.0rc13->crystaltoolkit-extension->crystal_toolkit==2023.11.3) (3.0.0)\n",
            "Requirement already satisfied: uri-template in /usr/local/lib/python3.11/dist-packages (from jsonschema[format-nongpl]>=4.18.0->jupyter-events>=0.5.0->jupyter-server-fileid<1,>=0.6.0->jupyter-server-ydoc~=0.8.0->jupyterlab==3.*,>=3.0.0rc13->crystaltoolkit-extension->crystal_toolkit==2023.11.3) (1.3.0)\n",
            "Requirement already satisfied: arrow>=0.15.0 in /usr/local/lib/python3.11/dist-packages (from isoduration->jsonschema[format-nongpl]>=4.18.0->jupyter-events>=0.5.0->jupyter-server-fileid<1,>=0.6.0->jupyter-server-ydoc~=0.8.0->jupyterlab==3.*,>=3.0.0rc13->crystaltoolkit-extension->crystal_toolkit==2023.11.3) (1.3.0)\n",
            "Requirement already satisfied: types-python-dateutil>=2.8.10 in /usr/local/lib/python3.11/dist-packages (from arrow>=0.15.0->isoduration->jsonschema[format-nongpl]>=4.18.0->jupyter-events>=0.5.0->jupyter-server-fileid<1,>=0.6.0->jupyter-server-ydoc~=0.8.0->jupyterlab==3.*,>=3.0.0rc13->crystaltoolkit-extension->crystal_toolkit==2023.11.3) (2.9.0.20241206)\n",
            "Requirement already satisfied: pymatgen in /usr/local/lib/python3.11/dist-packages (2025.1.9)\n",
            "Requirement already satisfied: joblib>=1 in /usr/local/lib/python3.11/dist-packages (from pymatgen) (1.4.2)\n",
            "Requirement already satisfied: matplotlib>=3.8 in /usr/local/lib/python3.11/dist-packages (from pymatgen) (3.10.0)\n",
            "Requirement already satisfied: monty>=2025.1.9 in /usr/local/lib/python3.11/dist-packages (from pymatgen) (2025.1.9)\n",
            "Requirement already satisfied: networkx>=2.7 in /usr/local/lib/python3.11/dist-packages (from pymatgen) (3.4.2)\n",
            "Requirement already satisfied: palettable>=3.3.3 in /usr/local/lib/python3.11/dist-packages (from pymatgen) (3.3.3)\n",
            "Requirement already satisfied: pandas>=2 in /usr/local/lib/python3.11/dist-packages (from pymatgen) (2.2.2)\n",
            "Requirement already satisfied: plotly>=4.5.0 in /usr/local/lib/python3.11/dist-packages (from pymatgen) (5.24.1)\n",
            "Requirement already satisfied: pybtex>=0.24.0 in /usr/local/lib/python3.11/dist-packages (from pymatgen) (0.24.0)\n",
            "Requirement already satisfied: requests>=2.32 in /usr/local/lib/python3.11/dist-packages (from pymatgen) (2.32.3)\n",
            "Requirement already satisfied: ruamel.yaml>=0.17.0 in /usr/local/lib/python3.11/dist-packages (from pymatgen) (0.18.10)\n",
            "Requirement already satisfied: scipy>=1.13.0 in /usr/local/lib/python3.11/dist-packages (from pymatgen) (1.13.1)\n",
            "Requirement already satisfied: spglib>=2.5.0 in /usr/local/lib/python3.11/dist-packages (from pymatgen) (2.5.0)\n",
            "Requirement already satisfied: sympy>=1.3 in /usr/local/lib/python3.11/dist-packages (from pymatgen) (1.13.1)\n",
            "Requirement already satisfied: tabulate>=0.9 in /usr/local/lib/python3.11/dist-packages (from pymatgen) (0.9.0)\n",
            "Requirement already satisfied: tqdm>=4.60 in /usr/local/lib/python3.11/dist-packages (from pymatgen) (4.67.1)\n",
            "Requirement already satisfied: uncertainties>=3.1.4 in /usr/local/lib/python3.11/dist-packages (from pymatgen) (3.2.2)\n",
            "Requirement already satisfied: numpy<3,>=1.25.0 in /usr/local/lib/python3.11/dist-packages (from pymatgen) (1.26.4)\n",
            "Requirement already satisfied: contourpy>=1.0.1 in /usr/local/lib/python3.11/dist-packages (from matplotlib>=3.8->pymatgen) (1.3.1)\n",
            "Requirement already satisfied: cycler>=0.10 in /usr/local/lib/python3.11/dist-packages (from matplotlib>=3.8->pymatgen) (0.12.1)\n",
            "Requirement already satisfied: fonttools>=4.22.0 in /usr/local/lib/python3.11/dist-packages (from matplotlib>=3.8->pymatgen) (4.55.3)\n",
            "Requirement already satisfied: kiwisolver>=1.3.1 in /usr/local/lib/python3.11/dist-packages (from matplotlib>=3.8->pymatgen) (1.4.8)\n",
            "Requirement already satisfied: packaging>=20.0 in /usr/local/lib/python3.11/dist-packages (from matplotlib>=3.8->pymatgen) (24.2)\n",
            "Requirement already satisfied: pillow>=8 in /usr/local/lib/python3.11/dist-packages (from matplotlib>=3.8->pymatgen) (11.1.0)\n",
            "Requirement already satisfied: pyparsing>=2.3.1 in /usr/local/lib/python3.11/dist-packages (from matplotlib>=3.8->pymatgen) (3.2.1)\n",
            "Requirement already satisfied: python-dateutil>=2.7 in /usr/local/lib/python3.11/dist-packages (from matplotlib>=3.8->pymatgen) (2.8.2)\n",
            "Requirement already satisfied: pytz>=2020.1 in /usr/local/lib/python3.11/dist-packages (from pandas>=2->pymatgen) (2024.2)\n",
            "Requirement already satisfied: tzdata>=2022.7 in /usr/local/lib/python3.11/dist-packages (from pandas>=2->pymatgen) (2024.2)\n",
            "Requirement already satisfied: tenacity>=6.2.0 in /usr/local/lib/python3.11/dist-packages (from plotly>=4.5.0->pymatgen) (9.0.0)\n",
            "Requirement already satisfied: PyYAML>=3.01 in /usr/local/lib/python3.11/dist-packages (from pybtex>=0.24.0->pymatgen) (6.0.2)\n",
            "Requirement already satisfied: latexcodec>=1.0.4 in /usr/local/lib/python3.11/dist-packages (from pybtex>=0.24.0->pymatgen) (3.0.0)\n",
            "Requirement already satisfied: six in /usr/local/lib/python3.11/dist-packages (from pybtex>=0.24.0->pymatgen) (1.17.0)\n",
            "Requirement already satisfied: charset-normalizer<4,>=2 in /usr/local/lib/python3.11/dist-packages (from requests>=2.32->pymatgen) (3.4.1)\n",
            "Requirement already satisfied: idna<4,>=2.5 in /usr/local/lib/python3.11/dist-packages (from requests>=2.32->pymatgen) (3.10)\n",
            "Requirement already satisfied: urllib3<3,>=1.21.1 in /usr/local/lib/python3.11/dist-packages (from requests>=2.32->pymatgen) (2.3.0)\n",
            "Requirement already satisfied: certifi>=2017.4.17 in /usr/local/lib/python3.11/dist-packages (from requests>=2.32->pymatgen) (2024.12.14)\n",
            "Requirement already satisfied: ruamel.yaml.clib>=0.2.7 in /usr/local/lib/python3.11/dist-packages (from ruamel.yaml>=0.17.0->pymatgen) (0.2.12)\n",
            "Requirement already satisfied: mpmath<1.4,>=1.1.0 in /usr/local/lib/python3.11/dist-packages (from sympy>=1.3->pymatgen) (1.3.0)\n"
          ]
        }
      ]
    },
    {
      "cell_type": "code",
      "execution_count": 8,
      "metadata": {
        "id": "tc8m44YpibfI"
      },
      "outputs": [],
      "source": [
        "import gc\n",
        "import glob\n",
        "import os\n",
        "\n",
        "import pandas as pd\n",
        "from tqdm.notebook import tqdm\n",
        "\n",
        "tqdm.pandas()\n",
        "\n",
        "import warnings\n",
        "\n",
        "warnings.filterwarnings(\"ignore\")\n",
        "\n",
        "import matplotlib.pyplot as plt\n",
        "from crystal_toolkit.renderables import StructureGraph\n",
        "from pymatgen.analysis.local_env import MinimumDistanceNN\n",
        "from pymatgen.core import Structure"
      ]
    },
    {
      "cell_type": "markdown",
      "metadata": {
        "id": "lDHI-WuvibfJ"
      },
      "source": [
        "## material_projects_api_cif_1000に格納されているファイルを確認"
      ]
    },
    {
      "cell_type": "code",
      "execution_count": 9,
      "metadata": {
        "id": "0epga8_PibfJ",
        "outputId": "82829429-8ed9-4127-93f5-21b332791a53",
        "colab": {
          "base_uri": "https://localhost:8080/"
        }
      },
      "outputs": [
        {
          "output_type": "execute_result",
          "data": {
            "text/plain": [
              "1000"
            ]
          },
          "metadata": {},
          "execution_count": 9
        }
      ],
      "source": [
        "files = os.listdir(INPUT_FILE_PATH + \"material_projects_api_cif_1000\")\n",
        "len(files)"
      ]
    },
    {
      "cell_type": "markdown",
      "metadata": {
        "id": "EDvVg1JLibfJ"
      },
      "source": [
        "## 無機材料の可視化（今回はMgTi<sub>2</sub>O<sub>4</sub>のCIFを対象にしている）"
      ]
    },
    {
      "cell_type": "code",
      "execution_count": 12,
      "metadata": {
        "tags": [],
        "id": "gm42dHVKibfJ",
        "outputId": "aa8b4712-e046-4303-99ab-dc50ab8ac597",
        "colab": {
          "base_uri": "https://localhost:8080/",
          "height": 672
        }
      },
      "outputs": [
        {
          "output_type": "display_data",
          "data": {
            "text/plain": [
              "<IPython.core.display.Javascript object>"
            ],
            "application/javascript": [
              "(async (port, path, width, height, cache, element) => {\n",
              "    if (!google.colab.kernel.accessAllowed && !cache) {\n",
              "      return;\n",
              "    }\n",
              "    element.appendChild(document.createTextNode(''));\n",
              "    const url = await google.colab.kernel.proxyPort(port, {cache});\n",
              "    const iframe = document.createElement('iframe');\n",
              "    iframe.src = new URL(path, url).toString();\n",
              "    iframe.height = height;\n",
              "    iframe.width = width;\n",
              "    iframe.style.border = 0;\n",
              "    iframe.allow = [\n",
              "        'accelerometer',\n",
              "        'autoplay',\n",
              "        'camera',\n",
              "        'clipboard-read',\n",
              "        'clipboard-write',\n",
              "        'gyroscope',\n",
              "        'magnetometer',\n",
              "        'microphone',\n",
              "        'serial',\n",
              "        'usb',\n",
              "        'xr-spatial-tracking',\n",
              "    ].join('; ');\n",
              "    element.appendChild(iframe);\n",
              "  })(8884, \"/\", \"100%\", 650, false, window.element)"
            ]
          },
          "metadata": {}
        }
      ],
      "source": [
        "struct = Structure.from_file(\n",
        "    INPUT_FILE_PATH + \"material_projects_api_cif_1000/\" +\"cif_mp-1401213_MgTi2O4.cif\"\n",
        ")\n",
        "env = MinimumDistanceNN()\n",
        "graph = StructureGraph.with_local_env_strategy(struct, env)\n",
        "graph"
      ]
    }
  ],
  "metadata": {
    "kernelspec": {
      "display_name": "Python 3 (ipykernel) (Local)",
      "language": "python",
      "name": "python3"
    },
    "language_info": {
      "codemirror_mode": {
        "name": "ipython",
        "version": 3
      },
      "file_extension": ".py",
      "mimetype": "text/x-python",
      "name": "python",
      "nbconvert_exporter": "python",
      "pygments_lexer": "ipython3",
      "version": "3.10.13"
    },
    "colab": {
      "provenance": [],
      "include_colab_link": true
    }
  },
  "nbformat": 4,
  "nbformat_minor": 0
}