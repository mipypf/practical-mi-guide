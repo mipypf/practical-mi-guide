{
  "cells": [
    {
      "cell_type": "markdown",
      "metadata": {
        "id": "view-in-github",
        "colab_type": "text"
      },
      "source": [
        "<a href=\"https://colab.research.google.com/github/mipypf/practical-mi-guide/blob/develop/chapter4/src/visualization_of_inorganic_materials.ipynb\" target=\"_parent\"><img src=\"https://colab.research.google.com/assets/colab-badge.svg\" alt=\"Open In Colab\"/></a>"
      ]
    },
    {
      "cell_type": "markdown",
      "metadata": {
        "id": "0m7zM9wZibfH"
      },
      "source": [
        "# 無機材料の可視化を行う"
      ]
    },
    {
      "cell_type": "markdown",
      "source": [
        "## Google Colabの準備"
      ],
      "metadata": {
        "id": "FdWg4Ihzio3M"
      }
    },
    {
      "cell_type": "code",
      "source": [
        "# Google Colabを利用する場合はTrue、そうでない場合はFalseとする\n",
        "colab = True"
      ],
      "metadata": {
        "id": "tG-D9AROitXm"
      },
      "execution_count": 1,
      "outputs": []
    },
    {
      "cell_type": "code",
      "source": [
        "# Google Colabのファイルをクリックし、material_projects_api_cif_1000.zipをドラッグ＆ドロップしてアップロード\n",
        "if colab:\n",
        "  INPUT_FILE_PATH = \"./\"\n",
        "  OUTPUT_FILE_PATH = \"./\"\n",
        "else:\n",
        "  INPUT_FILE_PATH = \"../input/\"\n",
        "  OUTPUT_FILE_PATH = \"../output/\""
      ],
      "metadata": {
        "id": "fk0xCJa8kl5T"
      },
      "execution_count": 2,
      "outputs": []
    },
    {
      "cell_type": "code",
      "source": [
        "# localで実行の場合はINPUT_FILE_PATH配下にmaterial_projects_api_cif_1000.zipを配置する\n",
        "import zipfile\n",
        "\n",
        "# ファイルを解凍する\n",
        "with zipfile.ZipFile(INPUT_FILE_PATH + \"material_projects_api_cif_1000.zip\", \"r\") as zip_ref:\n",
        "    zip_ref.extractall(\"./\")"
      ],
      "metadata": {
        "id": "mDa6ZIoUjm7W"
      },
      "execution_count": 3,
      "outputs": []
    },
    {
      "cell_type": "markdown",
      "metadata": {
        "id": "0suDeWJribfI"
      },
      "source": [
        "## ライブラリをインポート"
      ]
    },
    {
      "cell_type": "markdown",
      "source": [
        "### 必要に応じてpip installを実行（Google Colabで実行の場合は必須）"
      ],
      "metadata": {
        "id": "ifinbHYPlV_N"
      }
    },
    {
      "cell_type": "code",
      "source": [
        "! pip install crystal_toolkit pymatgen==2024.4.13 notebook==6.5.5 # 執筆当時のGoogle Colabではnotebook=6.5.5が推奨されている"
      ],
      "metadata": {
        "id": "IDURat7alaGX",
        "outputId": "578a44a6-e903-471c-e5a1-1f8c947e9eb8",
        "colab": {
          "base_uri": "https://localhost:8080/"
        }
      },
      "execution_count": 4,
      "outputs": [
        {
          "output_type": "stream",
          "name": "stdout",
          "text": [
            "Collecting crystal_toolkit\n",
            "  Downloading crystal_toolkit-2024.10.22-py3-none-any.whl.metadata (18 kB)\n",
            "Collecting pymatgen==2024.4.13\n",
            "  Downloading pymatgen-2024.4.13-cp311-cp311-manylinux_2_17_x86_64.manylinux2014_x86_64.whl.metadata (13 kB)\n",
            "Requirement already satisfied: notebook==6.5.5 in /usr/local/lib/python3.11/dist-packages (6.5.5)\n",
            "Requirement already satisfied: matplotlib>=1.5 in /usr/local/lib/python3.11/dist-packages (from pymatgen==2024.4.13) (3.10.0)\n",
            "Collecting monty>=2024.2.2 (from pymatgen==2024.4.13)\n",
            "  Downloading monty-2025.1.9-py3-none-any.whl.metadata (3.6 kB)\n",
            "Requirement already satisfied: networkx>=2.2 in /usr/local/lib/python3.11/dist-packages (from pymatgen==2024.4.13) (3.4.2)\n",
            "Requirement already satisfied: numpy>=1.25.0 in /usr/local/lib/python3.11/dist-packages (from pymatgen==2024.4.13) (1.26.4)\n",
            "Collecting palettable>=3.1.1 (from pymatgen==2024.4.13)\n",
            "  Downloading palettable-3.3.3-py2.py3-none-any.whl.metadata (3.3 kB)\n",
            "Requirement already satisfied: pandas in /usr/local/lib/python3.11/dist-packages (from pymatgen==2024.4.13) (2.2.2)\n",
            "Requirement already satisfied: plotly>=4.5.0 in /usr/local/lib/python3.11/dist-packages (from pymatgen==2024.4.13) (5.24.1)\n",
            "Collecting pybtex (from pymatgen==2024.4.13)\n",
            "  Downloading pybtex-0.24.0-py2.py3-none-any.whl.metadata (2.0 kB)\n",
            "Requirement already satisfied: requests in /usr/local/lib/python3.11/dist-packages (from pymatgen==2024.4.13) (2.32.3)\n",
            "Collecting ruamel.yaml>=0.17.0 (from pymatgen==2024.4.13)\n",
            "  Downloading ruamel.yaml-0.18.10-py3-none-any.whl.metadata (23 kB)\n",
            "Requirement already satisfied: scipy>=1.5.0 in /usr/local/lib/python3.11/dist-packages (from pymatgen==2024.4.13) (1.13.1)\n",
            "Collecting spglib>=2.0.2 (from pymatgen==2024.4.13)\n",
            "  Downloading spglib-2.5.0-cp311-cp311-manylinux_2_17_x86_64.manylinux2014_x86_64.whl.metadata (4.2 kB)\n",
            "Requirement already satisfied: sympy in /usr/local/lib/python3.11/dist-packages (from pymatgen==2024.4.13) (1.13.1)\n",
            "Requirement already satisfied: tabulate in /usr/local/lib/python3.11/dist-packages (from pymatgen==2024.4.13) (0.9.0)\n",
            "Requirement already satisfied: tqdm in /usr/local/lib/python3.11/dist-packages (from pymatgen==2024.4.13) (4.67.1)\n",
            "Collecting uncertainties>=3.1.4 (from pymatgen==2024.4.13)\n",
            "  Downloading uncertainties-3.2.2-py3-none-any.whl.metadata (6.9 kB)\n",
            "Requirement already satisfied: joblib in /usr/local/lib/python3.11/dist-packages (from pymatgen==2024.4.13) (1.4.2)\n",
            "Requirement already satisfied: jinja2 in /usr/local/lib/python3.11/dist-packages (from notebook==6.5.5) (3.1.5)\n",
            "Requirement already satisfied: tornado>=6.1 in /usr/local/lib/python3.11/dist-packages (from notebook==6.5.5) (6.3.3)\n",
            "Requirement already satisfied: pyzmq<25,>=17 in /usr/local/lib/python3.11/dist-packages (from notebook==6.5.5) (24.0.1)\n",
            "Requirement already satisfied: argon2-cffi in /usr/local/lib/python3.11/dist-packages (from notebook==6.5.5) (23.1.0)\n",
            "Requirement already satisfied: traitlets>=4.2.1 in /usr/local/lib/python3.11/dist-packages (from notebook==6.5.5) (5.7.1)\n",
            "Requirement already satisfied: jupyter-core>=4.6.1 in /usr/local/lib/python3.11/dist-packages (from notebook==6.5.5) (5.7.2)\n",
            "Requirement already satisfied: jupyter-client<8,>=5.3.4 in /usr/local/lib/python3.11/dist-packages (from notebook==6.5.5) (6.1.12)\n",
            "Requirement already satisfied: ipython-genutils in /usr/local/lib/python3.11/dist-packages (from notebook==6.5.5) (0.2.0)\n",
            "Requirement already satisfied: nbformat in /usr/local/lib/python3.11/dist-packages (from notebook==6.5.5) (5.10.4)\n",
            "Requirement already satisfied: nbconvert>=5 in /usr/local/lib/python3.11/dist-packages (from notebook==6.5.5) (7.16.5)\n",
            "Requirement already satisfied: nest-asyncio>=1.5 in /usr/local/lib/python3.11/dist-packages (from notebook==6.5.5) (1.6.0)\n",
            "Requirement already satisfied: ipykernel in /usr/local/lib/python3.11/dist-packages (from notebook==6.5.5) (5.5.6)\n",
            "Requirement already satisfied: Send2Trash>=1.8.0 in /usr/local/lib/python3.11/dist-packages (from notebook==6.5.5) (1.8.3)\n",
            "Requirement already satisfied: terminado>=0.8.3 in /usr/local/lib/python3.11/dist-packages (from notebook==6.5.5) (0.18.1)\n",
            "Requirement already satisfied: prometheus-client in /usr/local/lib/python3.11/dist-packages (from notebook==6.5.5) (0.21.1)\n",
            "Requirement already satisfied: nbclassic>=0.4.7 in /usr/local/lib/python3.11/dist-packages (from notebook==6.5.5) (1.2.0)\n",
            "Collecting crystaltoolkit-extension (from crystal_toolkit)\n",
            "  Downloading crystaltoolkit-extension-0.6.0.tar.gz (2.9 MB)\n",
            "\u001b[2K     \u001b[90m━━━━━━━━━━━━━━━━━━━━━━━━━━━━━━━━━━━━━━━━\u001b[0m \u001b[32m2.9/2.9 MB\u001b[0m \u001b[31m30.6 MB/s\u001b[0m eta \u001b[36m0:00:00\u001b[0m\n",
            "\u001b[?25h  Installing build dependencies ... \u001b[?25l\u001b[?25hdone\n",
            "  Getting requirements to build wheel ... \u001b[?25l\u001b[?25hdone\n",
            "  Preparing metadata (pyproject.toml) ... \u001b[?25l\u001b[?25hdone\n",
            "Collecting dash-mp-components>=0.4.38 (from crystal_toolkit)\n",
            "  Downloading dash_mp_components-0.4.47.tar.gz (6.4 MB)\n",
            "\u001b[2K     \u001b[90m━━━━━━━━━━━━━━━━━━━━━━━━━━━━━━━━━━━━━━━━\u001b[0m \u001b[32m6.4/6.4 MB\u001b[0m \u001b[31m92.0 MB/s\u001b[0m eta \u001b[36m0:00:00\u001b[0m\n",
            "\u001b[?25h  Preparing metadata (setup.py) ... \u001b[?25l\u001b[?25hdone\n",
            "Collecting dash>=2.11.0 (from crystal_toolkit)\n",
            "  Downloading dash-2.18.2-py3-none-any.whl.metadata (10 kB)\n",
            "Collecting flask-caching (from crystal_toolkit)\n",
            "  Downloading Flask_Caching-2.3.0-py3-none-any.whl.metadata (2.2 kB)\n",
            "Requirement already satisfied: frozendict in /usr/local/lib/python3.11/dist-packages (from crystal_toolkit) (2.4.6)\n",
            "Collecting mp-api (from crystal_toolkit)\n",
            "  Downloading mp_api-0.45.1-py3-none-any.whl.metadata (2.3 kB)\n",
            "Collecting pydantic-settings (from crystal_toolkit)\n",
            "  Downloading pydantic_settings-2.7.1-py3-none-any.whl.metadata (3.5 kB)\n",
            "INFO: pip is looking at multiple versions of crystal-toolkit to determine which version is compatible with other requirements. This could take a while.\n",
            "Collecting crystal_toolkit\n",
            "  Downloading crystal_toolkit-2023.11.3-py3-none-any.whl.metadata (18 kB)\n",
            "Requirement already satisfied: scikit-image in /usr/local/lib/python3.11/dist-packages (from crystal_toolkit) (0.25.0)\n",
            "Requirement already satisfied: scikit-learn in /usr/local/lib/python3.11/dist-packages (from crystal_toolkit) (1.6.1)\n",
            "Requirement already satisfied: shapely in /usr/local/lib/python3.11/dist-packages (from crystal_toolkit) (2.0.6)\n",
            "Requirement already satisfied: webcolors in /usr/local/lib/python3.11/dist-packages (from crystal_toolkit) (24.11.1)\n",
            "Collecting Flask<3.1,>=1.0.4 (from dash>=2.11.0->crystal_toolkit)\n",
            "  Downloading flask-3.0.3-py3-none-any.whl.metadata (3.2 kB)\n",
            "Collecting Werkzeug<3.1 (from dash>=2.11.0->crystal_toolkit)\n",
            "  Downloading werkzeug-3.0.6-py3-none-any.whl.metadata (3.7 kB)\n",
            "Collecting dash-html-components==2.0.0 (from dash>=2.11.0->crystal_toolkit)\n",
            "  Downloading dash_html_components-2.0.0-py3-none-any.whl.metadata (3.8 kB)\n",
            "Collecting dash-core-components==2.0.0 (from dash>=2.11.0->crystal_toolkit)\n",
            "  Downloading dash_core_components-2.0.0-py3-none-any.whl.metadata (2.9 kB)\n",
            "Collecting dash-table==5.0.0 (from dash>=2.11.0->crystal_toolkit)\n",
            "  Downloading dash_table-5.0.0-py3-none-any.whl.metadata (2.4 kB)\n",
            "Requirement already satisfied: importlib-metadata in /usr/local/lib/python3.11/dist-packages (from dash>=2.11.0->crystal_toolkit) (8.6.1)\n",
            "Requirement already satisfied: typing-extensions>=4.1.1 in /usr/local/lib/python3.11/dist-packages (from dash>=2.11.0->crystal_toolkit) (4.12.2)\n",
            "Collecting retrying (from dash>=2.11.0->crystal_toolkit)\n",
            "  Downloading retrying-1.3.4-py3-none-any.whl.metadata (6.9 kB)\n",
            "Requirement already satisfied: setuptools in /usr/local/lib/python3.11/dist-packages (from dash>=2.11.0->crystal_toolkit) (75.1.0)\n",
            "Requirement already satisfied: python-dateutil>=2.1 in /usr/local/lib/python3.11/dist-packages (from jupyter-client<8,>=5.3.4->notebook==6.5.5) (2.8.2)\n",
            "Requirement already satisfied: platformdirs>=2.5 in /usr/local/lib/python3.11/dist-packages (from jupyter-core>=4.6.1->notebook==6.5.5) (4.3.6)\n",
            "Requirement already satisfied: contourpy>=1.0.1 in /usr/local/lib/python3.11/dist-packages (from matplotlib>=1.5->pymatgen==2024.4.13) (1.3.1)\n",
            "Requirement already satisfied: cycler>=0.10 in /usr/local/lib/python3.11/dist-packages (from matplotlib>=1.5->pymatgen==2024.4.13) (0.12.1)\n",
            "Requirement already satisfied: fonttools>=4.22.0 in /usr/local/lib/python3.11/dist-packages (from matplotlib>=1.5->pymatgen==2024.4.13) (4.55.6)\n",
            "Requirement already satisfied: kiwisolver>=1.3.1 in /usr/local/lib/python3.11/dist-packages (from matplotlib>=1.5->pymatgen==2024.4.13) (1.4.8)\n",
            "Requirement already satisfied: packaging>=20.0 in /usr/local/lib/python3.11/dist-packages (from matplotlib>=1.5->pymatgen==2024.4.13) (24.2)\n",
            "Requirement already satisfied: pillow>=8 in /usr/local/lib/python3.11/dist-packages (from matplotlib>=1.5->pymatgen==2024.4.13) (11.1.0)\n",
            "Requirement already satisfied: pyparsing>=2.3.1 in /usr/local/lib/python3.11/dist-packages (from matplotlib>=1.5->pymatgen==2024.4.13) (3.2.1)\n",
            "Requirement already satisfied: notebook-shim>=0.2.3 in /usr/local/lib/python3.11/dist-packages (from nbclassic>=0.4.7->notebook==6.5.5) (0.2.4)\n",
            "Requirement already satisfied: beautifulsoup4 in /usr/local/lib/python3.11/dist-packages (from nbconvert>=5->notebook==6.5.5) (4.12.3)\n",
            "Requirement already satisfied: bleach!=5.0.0 in /usr/local/lib/python3.11/dist-packages (from bleach[css]!=5.0.0->nbconvert>=5->notebook==6.5.5) (6.2.0)\n",
            "Requirement already satisfied: defusedxml in /usr/local/lib/python3.11/dist-packages (from nbconvert>=5->notebook==6.5.5) (0.7.1)\n",
            "Requirement already satisfied: jupyterlab-pygments in /usr/local/lib/python3.11/dist-packages (from nbconvert>=5->notebook==6.5.5) (0.3.0)\n",
            "Requirement already satisfied: markupsafe>=2.0 in /usr/local/lib/python3.11/dist-packages (from nbconvert>=5->notebook==6.5.5) (3.0.2)\n",
            "Requirement already satisfied: mistune<4,>=2.0.3 in /usr/local/lib/python3.11/dist-packages (from nbconvert>=5->notebook==6.5.5) (3.1.0)\n",
            "Requirement already satisfied: nbclient>=0.5.0 in /usr/local/lib/python3.11/dist-packages (from nbconvert>=5->notebook==6.5.5) (0.10.2)\n",
            "Requirement already satisfied: pandocfilters>=1.4.1 in /usr/local/lib/python3.11/dist-packages (from nbconvert>=5->notebook==6.5.5) (1.5.1)\n",
            "Requirement already satisfied: pygments>=2.4.1 in /usr/local/lib/python3.11/dist-packages (from nbconvert>=5->notebook==6.5.5) (2.18.0)\n",
            "Requirement already satisfied: fastjsonschema>=2.15 in /usr/local/lib/python3.11/dist-packages (from nbformat->notebook==6.5.5) (2.21.1)\n",
            "Requirement already satisfied: jsonschema>=2.6 in /usr/local/lib/python3.11/dist-packages (from nbformat->notebook==6.5.5) (4.23.0)\n",
            "Requirement already satisfied: tenacity>=6.2.0 in /usr/local/lib/python3.11/dist-packages (from plotly>=4.5.0->pymatgen==2024.4.13) (9.0.0)\n",
            "Collecting ruamel.yaml.clib>=0.2.7 (from ruamel.yaml>=0.17.0->pymatgen==2024.4.13)\n",
            "  Downloading ruamel.yaml.clib-0.2.12-cp311-cp311-manylinux_2_17_x86_64.manylinux2014_x86_64.whl.metadata (2.7 kB)\n",
            "Requirement already satisfied: ptyprocess in /usr/local/lib/python3.11/dist-packages (from terminado>=0.8.3->notebook==6.5.5) (0.7.0)\n",
            "Requirement already satisfied: argon2-cffi-bindings in /usr/local/lib/python3.11/dist-packages (from argon2-cffi->notebook==6.5.5) (21.2.0)\n",
            "Collecting jupyterlab==3.*,>=3.0.0rc13 (from crystaltoolkit-extension->crystal_toolkit)\n",
            "  Using cached jupyterlab-3.6.8-py3-none-any.whl.metadata (12 kB)\n",
            "Requirement already satisfied: ipython in /usr/local/lib/python3.11/dist-packages (from jupyterlab==3.*,>=3.0.0rc13->crystaltoolkit-extension->crystal_toolkit) (7.34.0)\n",
            "Collecting jupyterlab-server~=2.19 (from jupyterlab==3.*,>=3.0.0rc13->crystaltoolkit-extension->crystal_toolkit)\n",
            "  Using cached jupyterlab_server-2.27.3-py3-none-any.whl.metadata (5.9 kB)\n",
            "Requirement already satisfied: jupyter-server<3,>=1.16.0 in /usr/local/lib/python3.11/dist-packages (from jupyterlab==3.*,>=3.0.0rc13->crystaltoolkit-extension->crystal_toolkit) (1.24.0)\n",
            "Collecting jupyter-ydoc~=0.2.4 (from jupyterlab==3.*,>=3.0.0rc13->crystaltoolkit-extension->crystal_toolkit)\n",
            "  Using cached jupyter_ydoc-0.2.5-py3-none-any.whl.metadata (2.2 kB)\n",
            "Collecting jupyter-server-ydoc~=0.8.0 (from jupyterlab==3.*,>=3.0.0rc13->crystaltoolkit-extension->crystal_toolkit)\n",
            "  Using cached jupyter_server_ydoc-0.8.0-py3-none-any.whl.metadata (5.3 kB)\n",
            "Collecting cachelib<0.10.0,>=0.9.0 (from flask-caching->crystal_toolkit)\n",
            "  Downloading cachelib-0.9.0-py3-none-any.whl.metadata (1.9 kB)\n",
            "Requirement already satisfied: msgpack in /usr/local/lib/python3.11/dist-packages (from mp-api->crystal_toolkit) (1.1.0)\n",
            "Collecting maggma>=0.57.1 (from mp-api->crystal_toolkit)\n",
            "  Downloading maggma-0.71.2-py3-none-any.whl.metadata (11 kB)\n",
            "Collecting emmet-core>=0.84.3rc6 (from mp-api->crystal_toolkit)\n",
            "  Downloading emmet_core-0.84.6rc3-py3-none-any.whl.metadata (2.9 kB)\n",
            "Requirement already satisfied: smart_open in /usr/local/lib/python3.11/dist-packages (from mp-api->crystal_toolkit) (7.1.0)\n",
            "Requirement already satisfied: charset-normalizer<4,>=2 in /usr/local/lib/python3.11/dist-packages (from requests->pymatgen==2024.4.13) (3.4.1)\n",
            "Requirement already satisfied: idna<4,>=2.5 in /usr/local/lib/python3.11/dist-packages (from requests->pymatgen==2024.4.13) (3.10)\n",
            "Requirement already satisfied: urllib3<3,>=1.21.1 in /usr/local/lib/python3.11/dist-packages (from requests->pymatgen==2024.4.13) (2.3.0)\n",
            "Requirement already satisfied: certifi>=2017.4.17 in /usr/local/lib/python3.11/dist-packages (from requests->pymatgen==2024.4.13) (2024.12.14)\n",
            "Requirement already satisfied: pytz>=2020.1 in /usr/local/lib/python3.11/dist-packages (from pandas->pymatgen==2024.4.13) (2024.2)\n",
            "Requirement already satisfied: tzdata>=2022.7 in /usr/local/lib/python3.11/dist-packages (from pandas->pymatgen==2024.4.13) (2025.1)\n",
            "Requirement already satisfied: PyYAML>=3.01 in /usr/local/lib/python3.11/dist-packages (from pybtex->pymatgen==2024.4.13) (6.0.2)\n",
            "Collecting latexcodec>=1.0.4 (from pybtex->pymatgen==2024.4.13)\n",
            "  Downloading latexcodec-3.0.0-py3-none-any.whl.metadata (4.9 kB)\n",
            "Requirement already satisfied: six in /usr/local/lib/python3.11/dist-packages (from pybtex->pymatgen==2024.4.13) (1.17.0)\n",
            "Requirement already satisfied: pydantic>=2.7.0 in /usr/local/lib/python3.11/dist-packages (from pydantic-settings->crystal_toolkit) (2.10.6)\n",
            "Collecting python-dotenv>=0.21.0 (from pydantic-settings->crystal_toolkit)\n",
            "  Downloading python_dotenv-1.0.1-py3-none-any.whl.metadata (23 kB)\n",
            "Requirement already satisfied: imageio!=2.35.0,>=2.33 in /usr/local/lib/python3.11/dist-packages (from scikit-image->crystal_toolkit) (2.36.1)\n",
            "Requirement already satisfied: tifffile>=2022.8.12 in /usr/local/lib/python3.11/dist-packages (from scikit-image->crystal_toolkit) (2025.1.10)\n",
            "Requirement already satisfied: lazy-loader>=0.4 in /usr/local/lib/python3.11/dist-packages (from scikit-image->crystal_toolkit) (0.4)\n",
            "Requirement already satisfied: threadpoolctl>=3.1.0 in /usr/local/lib/python3.11/dist-packages (from scikit-learn->crystal_toolkit) (3.5.0)\n",
            "Requirement already satisfied: mpmath<1.4,>=1.1.0 in /usr/local/lib/python3.11/dist-packages (from sympy->pymatgen==2024.4.13) (1.3.0)\n",
            "Requirement already satisfied: webencodings in /usr/local/lib/python3.11/dist-packages (from bleach!=5.0.0->bleach[css]!=5.0.0->nbconvert>=5->notebook==6.5.5) (0.5.1)\n",
            "Requirement already satisfied: tinycss2<1.5,>=1.1.0 in /usr/local/lib/python3.11/dist-packages (from bleach[css]!=5.0.0->nbconvert>=5->notebook==6.5.5) (1.4.0)\n",
            "INFO: pip is looking at multiple versions of emmet-core to determine which version is compatible with other requirements. This could take a while.\n",
            "Collecting emmet-core>=0.84.3rc6 (from mp-api->crystal_toolkit)\n",
            "  Downloading emmet_core-0.84.6rc2-py3-none-any.whl.metadata (2.7 kB)\n",
            "  Downloading emmet_core-0.84.6rc1-py3-none-any.whl.metadata (2.7 kB)\n",
            "  Downloading emmet_core-0.84.6rc0-py3-none-any.whl.metadata (2.7 kB)\n",
            "  Downloading emmet_core-0.84.5-py3-none-any.whl.metadata (2.7 kB)\n",
            "  Downloading emmet_core-0.84.4-py3-none-any.whl.metadata (2.7 kB)\n",
            "  Downloading emmet_core-0.84.3-py3-none-any.whl.metadata (2.7 kB)\n",
            "  Downloading emmet_core-0.84.3rc6-py3-none-any.whl.metadata (2.7 kB)\n",
            "INFO: pip is still looking at multiple versions of emmet-core to determine which version is compatible with other requirements. This could take a while.\n",
            "Collecting mp-api (from crystal_toolkit)\n",
            "  Downloading mp_api-0.45.0-py3-none-any.whl.metadata (2.3 kB)\n",
            "INFO: This is taking longer than usual. You might need to provide the dependency resolver with stricter constraints to reduce runtime. See https://pip.pypa.io/warnings/backtracking for guidance. If you want to abort this run, press Ctrl + C.\n",
            "  Downloading mp_api-0.44.0-py3-none-any.whl.metadata (2.3 kB)\n",
            "  Downloading mp_api-0.43.0-py3-none-any.whl.metadata (2.3 kB)\n",
            "Collecting emmet-core>=0.78.0rc3 (from mp-api->crystal_toolkit)\n",
            "  Downloading emmet_core-0.84.3rc4-py3-none-any.whl.metadata (2.7 kB)\n",
            "  Downloading emmet_core-0.84.3rc3-py3-none-any.whl.metadata (2.7 kB)\n",
            "  Downloading emmet_core-0.84.3rc2-py3-none-any.whl.metadata (2.7 kB)\n",
            "  Downloading emmet_core-0.84.3rc0-py3-none-any.whl.metadata (2.7 kB)\n",
            "Requirement already satisfied: itsdangerous>=2.1.2 in /usr/local/lib/python3.11/dist-packages (from Flask<3.1,>=1.0.4->dash>=2.11.0->crystal_toolkit) (2.2.0)\n",
            "Requirement already satisfied: click>=8.1.3 in /usr/local/lib/python3.11/dist-packages (from Flask<3.1,>=1.0.4->dash>=2.11.0->crystal_toolkit) (8.1.8)\n",
            "Requirement already satisfied: blinker>=1.6.2 in /usr/local/lib/python3.11/dist-packages (from Flask<3.1,>=1.0.4->dash>=2.11.0->crystal_toolkit) (1.9.0)\n",
            "Collecting jedi>=0.16 (from ipython->jupyterlab==3.*,>=3.0.0rc13->crystaltoolkit-extension->crystal_toolkit)\n",
            "  Using cached jedi-0.19.2-py2.py3-none-any.whl.metadata (22 kB)\n",
            "Requirement already satisfied: decorator in /usr/local/lib/python3.11/dist-packages (from ipython->jupyterlab==3.*,>=3.0.0rc13->crystaltoolkit-extension->crystal_toolkit) (4.4.2)\n",
            "Requirement already satisfied: pickleshare in /usr/local/lib/python3.11/dist-packages (from ipython->jupyterlab==3.*,>=3.0.0rc13->crystaltoolkit-extension->crystal_toolkit) (0.7.5)\n",
            "Requirement already satisfied: prompt-toolkit!=3.0.0,!=3.0.1,<3.1.0,>=2.0.0 in /usr/local/lib/python3.11/dist-packages (from ipython->jupyterlab==3.*,>=3.0.0rc13->crystaltoolkit-extension->crystal_toolkit) (3.0.50)\n",
            "Requirement already satisfied: backcall in /usr/local/lib/python3.11/dist-packages (from ipython->jupyterlab==3.*,>=3.0.0rc13->crystaltoolkit-extension->crystal_toolkit) (0.2.0)\n",
            "Requirement already satisfied: matplotlib-inline in /usr/local/lib/python3.11/dist-packages (from ipython->jupyterlab==3.*,>=3.0.0rc13->crystaltoolkit-extension->crystal_toolkit) (0.1.7)\n",
            "Requirement already satisfied: pexpect>4.3 in /usr/local/lib/python3.11/dist-packages (from ipython->jupyterlab==3.*,>=3.0.0rc13->crystaltoolkit-extension->crystal_toolkit) (4.9.0)\n",
            "Requirement already satisfied: attrs>=22.2.0 in /usr/local/lib/python3.11/dist-packages (from jsonschema>=2.6->nbformat->notebook==6.5.5) (24.3.0)\n",
            "Requirement already satisfied: jsonschema-specifications>=2023.03.6 in /usr/local/lib/python3.11/dist-packages (from jsonschema>=2.6->nbformat->notebook==6.5.5) (2024.10.1)\n",
            "Requirement already satisfied: referencing>=0.28.4 in /usr/local/lib/python3.11/dist-packages (from jsonschema>=2.6->nbformat->notebook==6.5.5) (0.36.1)\n",
            "Requirement already satisfied: rpds-py>=0.7.1 in /usr/local/lib/python3.11/dist-packages (from jsonschema>=2.6->nbformat->notebook==6.5.5) (0.22.3)\n",
            "Collecting pymongo>=4.2.0 (from maggma>=0.57.1->mp-api->crystal_toolkit)\n",
            "  Downloading pymongo-10.10.10.10-cp311-cp311-manylinux_2_17_x86_64.manylinux2014_x86_64.whl.metadata (22 kB)\n",
            "Collecting mongomock>=3.10.0 (from maggma>=0.57.1->mp-api->crystal_toolkit)\n",
            "  Downloading mongomock-4.3.0-py2.py3-none-any.whl.metadata (12 kB)\n",
            "Collecting pydash>=4.1.0 (from maggma>=0.57.1->mp-api->crystal_toolkit)\n",
            "  Downloading pydash-8.0.5-py3-none-any.whl.metadata (4.5 kB)\n",
            "Collecting jsonlines>=4.0.0 (from maggma>=0.57.1->mp-api->crystal_toolkit)\n",
            "  Downloading jsonlines-4.0.0-py3-none-any.whl.metadata (1.6 kB)\n",
            "Collecting aioitertools>=0.5.1 (from maggma>=0.57.1->mp-api->crystal_toolkit)\n",
            "  Downloading aioitertools-0.12.0-py3-none-any.whl.metadata (3.8 kB)\n",
            "INFO: pip is looking at multiple versions of maggma to determine which version is compatible with other requirements. This could take a while.\n",
            "Collecting maggma>=0.57.1 (from mp-api->crystal_toolkit)\n",
            "  Downloading maggma-0.71.1-py3-none-any.whl.metadata (11 kB)\n",
            "  Downloading maggma-0.71.0-py3-none-any.whl.metadata (11 kB)\n",
            "  Downloading maggma-0.70.0-py3-none-any.whl.metadata (11 kB)\n",
            "  Downloading maggma-0.69.4-py3-none-any.whl.metadata (11 kB)\n",
            "  Downloading maggma-0.69.3-py3-none-any.whl.metadata (11 kB)\n",
            "  Downloading maggma-0.69.2-py3-none-any.whl.metadata (11 kB)\n",
            "  Downloading maggma-0.69.1-py3-none-any.whl.metadata (11 kB)\n",
            "INFO: pip is still looking at multiple versions of maggma to determine which version is compatible with other requirements. This could take a while.\n",
            "  Downloading maggma-0.69.0-py3-none-any.whl.metadata (11 kB)\n",
            "Collecting dnspython>=1.16.0 (from maggma>=0.57.1->mp-api->crystal_toolkit)\n",
            "  Downloading dnspython-2.7.0-py3-none-any.whl.metadata (5.8 kB)\n",
            "Collecting sshtunnel>=0.1.5 (from maggma>=0.57.1->mp-api->crystal_toolkit)\n",
            "  Downloading sshtunnel-0.4.0-py2.py3-none-any.whl.metadata (19 kB)\n",
            "Requirement already satisfied: orjson>=3.9.0 in /usr/local/lib/python3.11/dist-packages (from maggma>=0.57.1->mp-api->crystal_toolkit) (3.10.15)\n",
            "Collecting boto3>=1.20.41 (from maggma>=0.57.1->mp-api->crystal_toolkit)\n",
            "  Downloading boto3-1.36.8-py3-none-any.whl.metadata (6.6 kB)\n",
            "Requirement already satisfied: annotated-types>=0.6.0 in /usr/local/lib/python3.11/dist-packages (from pydantic>=2.7.0->pydantic-settings->crystal_toolkit) (0.7.0)\n",
            "Requirement already satisfied: pydantic-core==2.27.2 in /usr/local/lib/python3.11/dist-packages (from pydantic>=2.7.0->pydantic-settings->crystal_toolkit) (2.27.2)\n",
            "Requirement already satisfied: cffi>=1.0.1 in /usr/local/lib/python3.11/dist-packages (from argon2-cffi-bindings->argon2-cffi->notebook==6.5.5) (1.17.1)\n",
            "Requirement already satisfied: soupsieve>1.2 in /usr/local/lib/python3.11/dist-packages (from beautifulsoup4->nbconvert>=5->notebook==6.5.5) (2.6)\n",
            "Requirement already satisfied: zipp>=3.20 in /usr/local/lib/python3.11/dist-packages (from importlib-metadata->dash>=2.11.0->crystal_toolkit) (3.21.0)\n",
            "Requirement already satisfied: wrapt in /usr/local/lib/python3.11/dist-packages (from smart_open->mp-api->crystal_toolkit) (1.17.2)\n",
            "Collecting botocore<1.37.0,>=1.36.8 (from boto3>=1.20.41->maggma>=0.57.1->mp-api->crystal_toolkit)\n",
            "  Downloading botocore-1.36.8-py3-none-any.whl.metadata (5.7 kB)\n",
            "Collecting jmespath<2.0.0,>=0.7.1 (from boto3>=1.20.41->maggma>=0.57.1->mp-api->crystal_toolkit)\n",
            "  Downloading jmespath-1.0.1-py3-none-any.whl.metadata (7.6 kB)\n",
            "Collecting s3transfer<0.12.0,>=0.11.0 (from boto3>=1.20.41->maggma>=0.57.1->mp-api->crystal_toolkit)\n",
            "  Downloading s3transfer-0.11.2-py3-none-any.whl.metadata (1.7 kB)\n",
            "Requirement already satisfied: pycparser in /usr/local/lib/python3.11/dist-packages (from cffi>=1.0.1->argon2-cffi-bindings->argon2-cffi->notebook==6.5.5) (2.22)\n",
            "Requirement already satisfied: parso<0.9.0,>=0.8.4 in /usr/local/lib/python3.11/dist-packages (from jedi>=0.16->ipython->jupyterlab==3.*,>=3.0.0rc13->crystaltoolkit-extension->crystal_toolkit) (0.8.4)\n",
            "Requirement already satisfied: anyio<4,>=3.1.0 in /usr/local/lib/python3.11/dist-packages (from jupyter-server<3,>=1.16.0->jupyterlab==3.*,>=3.0.0rc13->crystaltoolkit-extension->crystal_toolkit) (3.7.1)\n",
            "Requirement already satisfied: websocket-client in /usr/local/lib/python3.11/dist-packages (from jupyter-server<3,>=1.16.0->jupyterlab==3.*,>=3.0.0rc13->crystaltoolkit-extension->crystal_toolkit) (1.8.0)\n",
            "Collecting jupyter-server-fileid<1,>=0.6.0 (from jupyter-server-ydoc~=0.8.0->jupyterlab==3.*,>=3.0.0rc13->crystaltoolkit-extension->crystal_toolkit)\n",
            "  Using cached jupyter_server_fileid-0.9.3-py3-none-any.whl.metadata (4.7 kB)\n",
            "Collecting ypy-websocket<0.9.0,>=0.8.2 (from jupyter-server-ydoc~=0.8.0->jupyterlab==3.*,>=3.0.0rc13->crystaltoolkit-extension->crystal_toolkit)\n",
            "  Using cached ypy_websocket-0.8.4-py3-none-any.whl.metadata (2.5 kB)\n",
            "Collecting y-py<0.7.0,>=0.6.0 (from jupyter-ydoc~=0.2.4->jupyterlab==3.*,>=3.0.0rc13->crystaltoolkit-extension->crystal_toolkit)\n",
            "  Using cached y_py-0.6.2-cp311-cp311-manylinux_2_17_x86_64.manylinux2014_x86_64.whl.metadata (5.6 kB)\n",
            "Requirement already satisfied: babel>=2.10 in /usr/local/lib/python3.11/dist-packages (from jupyterlab-server~=2.19->jupyterlab==3.*,>=3.0.0rc13->crystaltoolkit-extension->crystal_toolkit) (2.16.0)\n",
            "Collecting json5>=0.9.0 (from jupyterlab-server~=2.19->jupyterlab==3.*,>=3.0.0rc13->crystaltoolkit-extension->crystal_toolkit)\n",
            "  Using cached json5-0.10.0-py3-none-any.whl.metadata (34 kB)\n",
            "Collecting sentinels (from mongomock>=3.10.0->maggma>=0.57.1->mp-api->crystal_toolkit)\n",
            "  Downloading sentinels-1.0.0.tar.gz (4.1 kB)\n",
            "  Preparing metadata (setup.py) ... \u001b[?25l\u001b[?25hdone\n",
            "Requirement already satisfied: wcwidth in /usr/local/lib/python3.11/dist-packages (from prompt-toolkit!=3.0.0,!=3.0.1,<3.1.0,>=2.0.0->ipython->jupyterlab==3.*,>=3.0.0rc13->crystaltoolkit-extension->crystal_toolkit) (0.2.13)\n",
            "Collecting paramiko>=2.7.2 (from sshtunnel>=0.1.5->maggma>=0.57.1->mp-api->crystal_toolkit)\n",
            "  Downloading paramiko-3.5.0-py3-none-any.whl.metadata (4.4 kB)\n",
            "Requirement already satisfied: sniffio>=1.1 in /usr/local/lib/python3.11/dist-packages (from anyio<4,>=3.1.0->jupyter-server<3,>=1.16.0->jupyterlab==3.*,>=3.0.0rc13->crystaltoolkit-extension->crystal_toolkit) (1.3.1)\n",
            "Collecting jupyter-events>=0.5.0 (from jupyter-server-fileid<1,>=0.6.0->jupyter-server-ydoc~=0.8.0->jupyterlab==3.*,>=3.0.0rc13->crystaltoolkit-extension->crystal_toolkit)\n",
            "  Using cached jupyter_events-0.11.0-py3-none-any.whl.metadata (5.8 kB)\n",
            "Collecting bcrypt>=3.2 (from paramiko>=2.7.2->sshtunnel>=0.1.5->maggma>=0.57.1->mp-api->crystal_toolkit)\n",
            "  Downloading bcrypt-4.2.1-cp39-abi3-manylinux_2_28_x86_64.whl.metadata (9.8 kB)\n",
            "Requirement already satisfied: cryptography>=3.3 in /usr/local/lib/python3.11/dist-packages (from paramiko>=2.7.2->sshtunnel>=0.1.5->maggma>=0.57.1->mp-api->crystal_toolkit) (43.0.3)\n",
            "Collecting pynacl>=1.5 (from paramiko>=2.7.2->sshtunnel>=0.1.5->maggma>=0.57.1->mp-api->crystal_toolkit)\n",
            "  Downloading PyNaCl-1.5.0-cp36-abi3-manylinux_2_17_x86_64.manylinux2014_x86_64.manylinux_2_24_x86_64.whl.metadata (8.6 kB)\n",
            "Collecting aiofiles<23,>=22.1.0 (from ypy-websocket<0.9.0,>=0.8.2->jupyter-server-ydoc~=0.8.0->jupyterlab==3.*,>=3.0.0rc13->crystaltoolkit-extension->crystal_toolkit)\n",
            "  Using cached aiofiles-22.1.0-py3-none-any.whl.metadata (8.0 kB)\n",
            "Collecting aiosqlite<1,>=0.17.0 (from ypy-websocket<0.9.0,>=0.8.2->jupyter-server-ydoc~=0.8.0->jupyterlab==3.*,>=3.0.0rc13->crystaltoolkit-extension->crystal_toolkit)\n",
            "  Using cached aiosqlite-0.20.0-py3-none-any.whl.metadata (4.3 kB)\n",
            "Collecting python-json-logger>=2.0.4 (from jupyter-events>=0.5.0->jupyter-server-fileid<1,>=0.6.0->jupyter-server-ydoc~=0.8.0->jupyterlab==3.*,>=3.0.0rc13->crystaltoolkit-extension->crystal_toolkit)\n",
            "  Using cached python_json_logger-3.2.1-py3-none-any.whl.metadata (4.1 kB)\n",
            "Collecting rfc3339-validator (from jupyter-events>=0.5.0->jupyter-server-fileid<1,>=0.6.0->jupyter-server-ydoc~=0.8.0->jupyterlab==3.*,>=3.0.0rc13->crystaltoolkit-extension->crystal_toolkit)\n",
            "  Using cached rfc3339_validator-0.1.4-py2.py3-none-any.whl.metadata (1.5 kB)\n",
            "Collecting rfc3986-validator>=0.1.1 (from jupyter-events>=0.5.0->jupyter-server-fileid<1,>=0.6.0->jupyter-server-ydoc~=0.8.0->jupyterlab==3.*,>=3.0.0rc13->crystaltoolkit-extension->crystal_toolkit)\n",
            "  Using cached rfc3986_validator-0.1.1-py2.py3-none-any.whl.metadata (1.7 kB)\n",
            "Collecting fqdn (from jsonschema[format-nongpl]>=4.18.0->jupyter-events>=0.5.0->jupyter-server-fileid<1,>=0.6.0->jupyter-server-ydoc~=0.8.0->jupyterlab==3.*,>=3.0.0rc13->crystaltoolkit-extension->crystal_toolkit)\n",
            "  Using cached fqdn-1.5.1-py3-none-any.whl.metadata (1.4 kB)\n",
            "Collecting isoduration (from jsonschema[format-nongpl]>=4.18.0->jupyter-events>=0.5.0->jupyter-server-fileid<1,>=0.6.0->jupyter-server-ydoc~=0.8.0->jupyterlab==3.*,>=3.0.0rc13->crystaltoolkit-extension->crystal_toolkit)\n",
            "  Using cached isoduration-20.11.0-py3-none-any.whl.metadata (5.7 kB)\n",
            "Requirement already satisfied: jsonpointer>1.13 in /usr/local/lib/python3.11/dist-packages (from jsonschema[format-nongpl]>=4.18.0->jupyter-events>=0.5.0->jupyter-server-fileid<1,>=0.6.0->jupyter-server-ydoc~=0.8.0->jupyterlab==3.*,>=3.0.0rc13->crystaltoolkit-extension->crystal_toolkit) (3.0.0)\n",
            "Collecting uri-template (from jsonschema[format-nongpl]>=4.18.0->jupyter-events>=0.5.0->jupyter-server-fileid<1,>=0.6.0->jupyter-server-ydoc~=0.8.0->jupyterlab==3.*,>=3.0.0rc13->crystaltoolkit-extension->crystal_toolkit)\n",
            "  Using cached uri_template-1.3.0-py3-none-any.whl.metadata (8.8 kB)\n",
            "Collecting arrow>=0.15.0 (from isoduration->jsonschema[format-nongpl]>=4.18.0->jupyter-events>=0.5.0->jupyter-server-fileid<1,>=0.6.0->jupyter-server-ydoc~=0.8.0->jupyterlab==3.*,>=3.0.0rc13->crystaltoolkit-extension->crystal_toolkit)\n",
            "  Using cached arrow-1.3.0-py3-none-any.whl.metadata (7.5 kB)\n",
            "Collecting types-python-dateutil>=2.8.10 (from arrow>=0.15.0->isoduration->jsonschema[format-nongpl]>=4.18.0->jupyter-events>=0.5.0->jupyter-server-fileid<1,>=0.6.0->jupyter-server-ydoc~=0.8.0->jupyterlab==3.*,>=3.0.0rc13->crystaltoolkit-extension->crystal_toolkit)\n",
            "  Using cached types_python_dateutil-2.9.0.20241206-py3-none-any.whl.metadata (2.1 kB)\n",
            "Downloading pymatgen-2024.4.13-cp311-cp311-manylinux_2_17_x86_64.manylinux2014_x86_64.whl (10.2 MB)\n",
            "\u001b[2K   \u001b[90m━━━━━━━━━━━━━━━━━━━━━━━━━━━━━━━━━━━━━━━━\u001b[0m \u001b[32m10.2/10.2 MB\u001b[0m \u001b[31m80.0 MB/s\u001b[0m eta \u001b[36m0:00:00\u001b[0m\n",
            "\u001b[?25hDownloading crystal_toolkit-2023.11.3-py3-none-any.whl (15.9 MB)\n",
            "\u001b[2K   \u001b[90m━━━━━━━━━━━━━━━━━━━━━━━━━━━━━━━━━━━━━━━━\u001b[0m \u001b[32m15.9/15.9 MB\u001b[0m \u001b[31m28.9 MB/s\u001b[0m eta \u001b[36m0:00:00\u001b[0m\n",
            "\u001b[?25hDownloading dash-2.18.2-py3-none-any.whl (7.8 MB)\n",
            "\u001b[2K   \u001b[90m━━━━━━━━━━━━━━━━━━━━━━━━━━━━━━━━━━━━━━━━\u001b[0m \u001b[32m7.8/7.8 MB\u001b[0m \u001b[31m96.3 MB/s\u001b[0m eta \u001b[36m0:00:00\u001b[0m\n",
            "\u001b[?25hDownloading dash_core_components-2.0.0-py3-none-any.whl (3.8 kB)\n",
            "Downloading dash_html_components-2.0.0-py3-none-any.whl (4.1 kB)\n",
            "Downloading dash_table-5.0.0-py3-none-any.whl (3.9 kB)\n",
            "Downloading monty-2025.1.9-py3-none-any.whl (51 kB)\n",
            "\u001b[2K   \u001b[90m━━━━━━━━━━━━━━━━━━━━━━━━━━━━━━━━━━━━━━━━\u001b[0m \u001b[32m51.5/51.5 kB\u001b[0m \u001b[31m2.8 MB/s\u001b[0m eta \u001b[36m0:00:00\u001b[0m\n",
            "\u001b[?25hDownloading palettable-3.3.3-py2.py3-none-any.whl (332 kB)\n",
            "\u001b[2K   \u001b[90m━━━━━━━━━━━━━━━━━━━━━━━━━━━━━━━━━━━━━━━━\u001b[0m \u001b[32m332.3/332.3 kB\u001b[0m \u001b[31m20.6 MB/s\u001b[0m eta \u001b[36m0:00:00\u001b[0m\n",
            "\u001b[?25hDownloading ruamel.yaml-0.18.10-py3-none-any.whl (117 kB)\n",
            "\u001b[2K   \u001b[90m━━━━━━━━━━━━━━━━━━━━━━━━━━━━━━━━━━━━━━━━\u001b[0m \u001b[32m117.7/117.7 kB\u001b[0m \u001b[31m8.8 MB/s\u001b[0m eta \u001b[36m0:00:00\u001b[0m\n",
            "\u001b[?25hDownloading spglib-2.5.0-cp311-cp311-manylinux_2_17_x86_64.manylinux2014_x86_64.whl (1.1 MB)\n",
            "\u001b[2K   \u001b[90m━━━━━━━━━━━━━━━━━━━━━━━━━━━━━━━━━━━━━━━━\u001b[0m \u001b[32m1.1/1.1 MB\u001b[0m \u001b[31m51.9 MB/s\u001b[0m eta \u001b[36m0:00:00\u001b[0m\n",
            "\u001b[?25hDownloading uncertainties-3.2.2-py3-none-any.whl (58 kB)\n",
            "\u001b[2K   \u001b[90m━━━━━━━━━━━━━━━━━━━━━━━━━━━━━━━━━━━━━━━━\u001b[0m \u001b[32m58.3/58.3 kB\u001b[0m \u001b[31m4.0 MB/s\u001b[0m eta \u001b[36m0:00:00\u001b[0m\n",
            "\u001b[?25hUsing cached jupyterlab-3.6.8-py3-none-any.whl (8.9 MB)\n",
            "Downloading Flask_Caching-2.3.0-py3-none-any.whl (28 kB)\n",
            "Downloading mp_api-0.43.0-py3-none-any.whl (97 kB)\n",
            "\u001b[2K   \u001b[90m━━━━━━━━━━━━━━━━━━━━━━━━━━━━━━━━━━━━━━━━\u001b[0m \u001b[32m97.3/97.3 kB\u001b[0m \u001b[31m8.0 MB/s\u001b[0m eta \u001b[36m0:00:00\u001b[0m\n",
            "\u001b[?25hDownloading emmet_core-0.84.3rc0-py3-none-any.whl (203 kB)\n",
            "\u001b[2K   \u001b[90m━━━━━━━━━━━━━━━━━━━━━━━━━━━━━━━━━━━━━━━━\u001b[0m \u001b[32m203.4/203.4 kB\u001b[0m \u001b[31m12.4 MB/s\u001b[0m eta \u001b[36m0:00:00\u001b[0m\n",
            "\u001b[?25hDownloading pybtex-0.24.0-py2.py3-none-any.whl (561 kB)\n",
            "\u001b[2K   \u001b[90m━━━━━━━━━━━━━━━━━━━━━━━━━━━━━━━━━━━━━━━━\u001b[0m \u001b[32m561.4/561.4 kB\u001b[0m \u001b[31m31.0 MB/s\u001b[0m eta \u001b[36m0:00:00\u001b[0m\n",
            "\u001b[?25hDownloading pydantic_settings-2.7.1-py3-none-any.whl (29 kB)\n",
            "Downloading cachelib-0.9.0-py3-none-any.whl (15 kB)\n",
            "Downloading flask-3.0.3-py3-none-any.whl (101 kB)\n",
            "\u001b[2K   \u001b[90m━━━━━━━━━━━━━━━━━━━━━━━━━━━━━━━━━━━━━━━━\u001b[0m \u001b[32m101.7/101.7 kB\u001b[0m \u001b[31m6.6 MB/s\u001b[0m eta \u001b[36m0:00:00\u001b[0m\n",
            "\u001b[?25hDownloading latexcodec-3.0.0-py3-none-any.whl (18 kB)\n",
            "Downloading maggma-0.69.0-py3-none-any.whl (121 kB)\n",
            "\u001b[2K   \u001b[90m━━━━━━━━━━━━━━━━━━━━━━━━━━━━━━━━━━━━━━━━\u001b[0m \u001b[32m121.8/121.8 kB\u001b[0m \u001b[31m8.9 MB/s\u001b[0m eta \u001b[36m0:00:00\u001b[0m\n",
            "\u001b[?25hDownloading python_dotenv-1.0.1-py3-none-any.whl (19 kB)\n",
            "Downloading ruamel.yaml.clib-0.2.12-cp311-cp311-manylinux_2_17_x86_64.manylinux2014_x86_64.whl (739 kB)\n",
            "\u001b[2K   \u001b[90m━━━━━━━━━━━━━━━━━━━━━━━━━━━━━━━━━━━━━━━━\u001b[0m \u001b[32m739.1/739.1 kB\u001b[0m \u001b[31m42.6 MB/s\u001b[0m eta \u001b[36m0:00:00\u001b[0m\n",
            "\u001b[?25hDownloading werkzeug-3.0.6-py3-none-any.whl (227 kB)\n",
            "\u001b[2K   \u001b[90m━━━━━━━━━━━━━━━━━━━━━━━━━━━━━━━━━━━━━━━━\u001b[0m \u001b[32m228.0/228.0 kB\u001b[0m \u001b[31m16.0 MB/s\u001b[0m eta \u001b[36m0:00:00\u001b[0m\n",
            "\u001b[?25hDownloading retrying-1.3.4-py3-none-any.whl (11 kB)\n",
            "Downloading aioitertools-0.12.0-py3-none-any.whl (24 kB)\n",
            "Downloading boto3-1.36.8-py3-none-any.whl (139 kB)\n",
            "\u001b[2K   \u001b[90m━━━━━━━━━━━━━━━━━━━━━━━━━━━━━━━━━━━━━━━━\u001b[0m \u001b[32m139.2/139.2 kB\u001b[0m \u001b[31m10.2 MB/s\u001b[0m eta \u001b[36m0:00:00\u001b[0m\n",
            "\u001b[?25hDownloading dnspython-2.7.0-py3-none-any.whl (313 kB)\n",
            "\u001b[2K   \u001b[90m━━━━━━━━━━━━━━━━━━━━━━━━━━━━━━━━━━━━━━━━\u001b[0m \u001b[32m313.6/313.6 kB\u001b[0m \u001b[31m22.2 MB/s\u001b[0m eta \u001b[36m0:00:00\u001b[0m\n",
            "\u001b[?25hUsing cached jedi-0.19.2-py2.py3-none-any.whl (1.6 MB)\n",
            "Downloading jsonlines-4.0.0-py3-none-any.whl (8.7 kB)\n",
            "Using cached jupyter_server_ydoc-0.8.0-py3-none-any.whl (11 kB)\n",
            "Using cached jupyter_ydoc-0.2.5-py3-none-any.whl (6.2 kB)\n",
            "Using cached jupyterlab_server-2.27.3-py3-none-any.whl (59 kB)\n",
            "Downloading mongomock-4.3.0-py2.py3-none-any.whl (64 kB)\n",
            "\u001b[2K   \u001b[90m━━━━━━━━━━━━━━━━━━━━━━━━━━━━━━━━━━━━━━━━\u001b[0m \u001b[32m64.9/64.9 kB\u001b[0m \u001b[31m4.9 MB/s\u001b[0m eta \u001b[36m0:00:00\u001b[0m\n",
            "\u001b[?25hDownloading pydash-8.0.5-py3-none-any.whl (102 kB)\n",
            "\u001b[2K   \u001b[90m━━━━━━━━━━━━━━━━━━━━━━━━━━━━━━━━━━━━━━━━\u001b[0m \u001b[32m102.1/102.1 kB\u001b[0m \u001b[31m7.8 MB/s\u001b[0m eta \u001b[36m0:00:00\u001b[0m\n",
            "\u001b[?25hDownloading pymongo-10.10.10.10-cp311-cp311-manylinux_2_17_x86_64.manylinux2014_x86_64.whl (1.4 MB)\n",
            "\u001b[2K   \u001b[90m━━━━━━━━━━━━━━━━━━━━━━━━━━━━━━━━━━━━━━━━\u001b[0m \u001b[32m1.4/1.4 MB\u001b[0m \u001b[31m54.7 MB/s\u001b[0m eta \u001b[36m0:00:00\u001b[0m\n",
            "\u001b[?25hDownloading sshtunnel-0.4.0-py2.py3-none-any.whl (24 kB)\n",
            "Downloading botocore-1.36.8-py3-none-any.whl (13.3 MB)\n",
            "\u001b[2K   \u001b[90m━━━━━━━━━━━━━━━━━━━━━━━━━━━━━━━━━━━━━━━━\u001b[0m \u001b[32m13.3/13.3 MB\u001b[0m \u001b[31m85.5 MB/s\u001b[0m eta \u001b[36m0:00:00\u001b[0m\n",
            "\u001b[?25hDownloading jmespath-1.0.1-py3-none-any.whl (20 kB)\n",
            "Using cached json5-0.10.0-py3-none-any.whl (34 kB)\n",
            "Using cached jupyter_server_fileid-0.9.3-py3-none-any.whl (16 kB)\n",
            "Downloading paramiko-3.5.0-py3-none-any.whl (227 kB)\n",
            "\u001b[2K   \u001b[90m━━━━━━━━━━━━━━━━━━━━━━━━━━━━━━━━━━━━━━━━\u001b[0m \u001b[32m227.1/227.1 kB\u001b[0m \u001b[31m14.2 MB/s\u001b[0m eta \u001b[36m0:00:00\u001b[0m\n",
            "\u001b[?25hDownloading s3transfer-0.11.2-py3-none-any.whl (84 kB)\n",
            "\u001b[2K   \u001b[90m━━━━━━━━━━━━━━━━━━━━━━━━━━━━━━━━━━━━━━━━\u001b[0m \u001b[32m84.2/84.2 kB\u001b[0m \u001b[31m4.8 MB/s\u001b[0m eta \u001b[36m0:00:00\u001b[0m\n",
            "\u001b[?25hUsing cached y_py-0.6.2-cp311-cp311-manylinux_2_17_x86_64.manylinux2014_x86_64.whl (1.7 MB)\n",
            "Using cached ypy_websocket-0.8.4-py3-none-any.whl (10 kB)\n",
            "Using cached aiofiles-22.1.0-py3-none-any.whl (14 kB)\n",
            "Using cached aiosqlite-0.20.0-py3-none-any.whl (15 kB)\n",
            "Downloading bcrypt-4.2.1-cp39-abi3-manylinux_2_28_x86_64.whl (278 kB)\n",
            "\u001b[2K   \u001b[90m━━━━━━━━━━━━━━━━━━━━━━━━━━━━━━━━━━━━━━━━\u001b[0m \u001b[32m278.6/278.6 kB\u001b[0m \u001b[31m19.4 MB/s\u001b[0m eta \u001b[36m0:00:00\u001b[0m\n",
            "\u001b[?25hUsing cached jupyter_events-0.11.0-py3-none-any.whl (19 kB)\n",
            "Downloading PyNaCl-1.5.0-cp36-abi3-manylinux_2_17_x86_64.manylinux2014_x86_64.manylinux_2_24_x86_64.whl (856 kB)\n",
            "\u001b[2K   \u001b[90m━━━━━━━━━━━━━━━━━━━━━━━━━━━━━━━━━━━━━━━━\u001b[0m \u001b[32m856.7/856.7 kB\u001b[0m \u001b[31m43.9 MB/s\u001b[0m eta \u001b[36m0:00:00\u001b[0m\n",
            "\u001b[?25hUsing cached python_json_logger-3.2.1-py3-none-any.whl (14 kB)\n",
            "Using cached rfc3986_validator-0.1.1-py2.py3-none-any.whl (4.2 kB)\n",
            "Using cached rfc3339_validator-0.1.4-py2.py3-none-any.whl (3.5 kB)\n",
            "Using cached fqdn-1.5.1-py3-none-any.whl (9.1 kB)\n",
            "Using cached isoduration-20.11.0-py3-none-any.whl (11 kB)\n",
            "Using cached uri_template-1.3.0-py3-none-any.whl (11 kB)\n",
            "Using cached arrow-1.3.0-py3-none-any.whl (66 kB)\n",
            "Using cached types_python_dateutil-2.9.0.20241206-py3-none-any.whl (14 kB)\n",
            "Building wheels for collected packages: dash-mp-components, crystaltoolkit-extension, sentinels\n",
            "  Building wheel for dash-mp-components (setup.py) ... \u001b[?25l\u001b[?25hdone\n",
            "  Created wheel for dash-mp-components: filename=dash_mp_components-0.4.47-py3-none-any.whl size=6438047 sha256=b8e4156b3a2d1448630b7bf528abcf8579ef1014b5af826512bb08aac35e95e8\n",
            "  Stored in directory: /root/.cache/pip/wheels/88/f1/f6/bc8bd7a34452d9a34dfbfa19bf5e26655eb25e932812c5495c\n",
            "  Building wheel for crystaltoolkit-extension (pyproject.toml) ... \u001b[?25l\u001b[?25hdone\n",
            "  Created wheel for crystaltoolkit-extension: filename=crystaltoolkit_extension-0.6.0-py3-none-any.whl size=5424205 sha256=1f644225a2b60cdd3c9eaaedde59d018912b1d37d67008d6f37d4ce7d15a88d0\n",
            "  Stored in directory: /root/.cache/pip/wheels/f7/22/7f/8bc8a5087afadcc8005548348fe4df2bacd927a66968471a72\n",
            "  Building wheel for sentinels (setup.py) ... \u001b[?25l\u001b[?25hdone\n",
            "  Created wheel for sentinels: filename=sentinels-1.0.0-py3-none-any.whl size=3172 sha256=95f74a29b1b2a54fa1907eaacab2c557bb2118e6f575f8dc419af18af48d7dcf\n",
            "  Stored in directory: /root/.cache/pip/wheels/39/e6/05/d0ca91a2c6be3e4b2a6b4e721fe778f9186b9a383ea05300e8\n",
            "Successfully built dash-mp-components crystaltoolkit-extension sentinels\n",
            "Installing collected packages: y-py, sentinels, dash-table, dash-mp-components, dash-html-components, dash-core-components, Werkzeug, uri-template, uncertainties, types-python-dateutil, spglib, ruamel.yaml.clib, rfc3986-validator, rfc3339-validator, retrying, python-json-logger, python-dotenv, pydash, palettable, mongomock, latexcodec, jupyter-ydoc, jsonlines, json5, jmespath, jedi, fqdn, dnspython, cachelib, bcrypt, aiosqlite, aioitertools, aiofiles, ypy-websocket, ruamel.yaml, pynacl, pymongo, pybtex, Flask, botocore, arrow, s3transfer, pydantic-settings, paramiko, monty, isoduration, flask-caching, dash, sshtunnel, pymatgen, boto3, maggma, jupyter-events, emmet-core, mp-api, jupyterlab-server, jupyter-server-fileid, jupyter-server-ydoc, jupyterlab, crystaltoolkit-extension, crystal_toolkit\n",
            "  Attempting uninstall: Werkzeug\n",
            "    Found existing installation: Werkzeug 3.1.3\n",
            "    Uninstalling Werkzeug-3.1.3:\n",
            "      Successfully uninstalled Werkzeug-3.1.3\n",
            "  Attempting uninstall: Flask\n",
            "    Found existing installation: Flask 3.1.0\n",
            "    Uninstalling Flask-3.1.0:\n",
            "      Successfully uninstalled Flask-3.1.0\n",
            "Successfully installed Flask-3.0.3 Werkzeug-3.0.6 aiofiles-22.1.0 aioitertools-0.12.0 aiosqlite-0.20.0 arrow-1.3.0 bcrypt-4.2.1 boto3-1.36.8 botocore-1.36.8 cachelib-0.9.0 crystal_toolkit-2023.11.3 crystaltoolkit-extension-0.6.0 dash-2.18.2 dash-core-components-2.0.0 dash-html-components-2.0.0 dash-mp-components-0.4.47 dash-table-5.0.0 dnspython-2.7.0 emmet-core-0.84.3rc0 flask-caching-2.3.0 fqdn-1.5.1 isoduration-20.11.0 jedi-0.19.2 jmespath-1.0.1 json5-0.10.0 jsonlines-4.0.0 jupyter-events-0.11.0 jupyter-server-fileid-0.9.3 jupyter-server-ydoc-0.8.0 jupyter-ydoc-0.2.5 jupyterlab-3.6.8 jupyterlab-server-2.27.3 latexcodec-3.0.0 maggma-0.69.0 mongomock-4.3.0 monty-2025.1.9 mp-api-0.43.0 palettable-3.3.3 paramiko-3.5.0 pybtex-0.24.0 pydantic-settings-2.7.1 pydash-8.0.5 pymatgen-2024.4.13 pymongo-10.10.10.10 pynacl-1.5.0 python-dotenv-1.0.1 python-json-logger-3.2.1 retrying-1.3.4 rfc3339-validator-0.1.4 rfc3986-validator-0.1.1 ruamel.yaml-0.18.10 ruamel.yaml.clib-0.2.12 s3transfer-0.11.2 sentinels-1.0.0 spglib-2.5.0 sshtunnel-0.4.0 types-python-dateutil-2.9.0.20241206 uncertainties-3.2.2 uri-template-1.3.0 y-py-0.6.2 ypy-websocket-0.8.4\n"
          ]
        }
      ]
    },
    {
      "cell_type": "code",
      "execution_count": 5,
      "metadata": {
        "id": "tc8m44YpibfI"
      },
      "outputs": [],
      "source": [
        "import gc\n",
        "import glob\n",
        "import os\n",
        "\n",
        "import pandas as pd\n",
        "from tqdm.notebook import tqdm\n",
        "\n",
        "tqdm.pandas()\n",
        "\n",
        "import warnings\n",
        "\n",
        "warnings.filterwarnings(\"ignore\")\n",
        "\n",
        "import matplotlib.pyplot as plt\n",
        "from crystal_toolkit.renderables import StructureGraph\n",
        "from pymatgen.analysis.local_env import MinimumDistanceNN\n",
        "from pymatgen.core import Structure"
      ]
    },
    {
      "cell_type": "markdown",
      "metadata": {
        "id": "lDHI-WuvibfJ"
      },
      "source": [
        "## material_projects_api_cif_1000に格納されているファイルを確認"
      ]
    },
    {
      "cell_type": "code",
      "execution_count": 6,
      "metadata": {
        "id": "0epga8_PibfJ",
        "outputId": "ecd8ba17-ef3d-43db-bcda-1716394c77c9",
        "colab": {
          "base_uri": "https://localhost:8080/"
        }
      },
      "outputs": [
        {
          "output_type": "execute_result",
          "data": {
            "text/plain": [
              "1000"
            ]
          },
          "metadata": {},
          "execution_count": 6
        }
      ],
      "source": [
        "files = os.listdir(INPUT_FILE_PATH + \"material_projects_api_cif_1000\")\n",
        "len(files)"
      ]
    },
    {
      "cell_type": "markdown",
      "metadata": {
        "id": "EDvVg1JLibfJ"
      },
      "source": [
        "## 無機材料の可視化（今回はMgTi<sub>2</sub>O<sub>4</sub>のCIFを対象にしている）"
      ]
    },
    {
      "cell_type": "code",
      "execution_count": 7,
      "metadata": {
        "tags": [],
        "id": "gm42dHVKibfJ",
        "outputId": "3f4f85c5-2765-4988-c0eb-10d4004e2e73",
        "colab": {
          "base_uri": "https://localhost:8080/",
          "height": 672
        }
      },
      "outputs": [
        {
          "output_type": "display_data",
          "data": {
            "text/plain": [
              "<IPython.core.display.Javascript object>"
            ],
            "application/javascript": [
              "(async (port, path, width, height, cache, element) => {\n",
              "    if (!google.colab.kernel.accessAllowed && !cache) {\n",
              "      return;\n",
              "    }\n",
              "    element.appendChild(document.createTextNode(''));\n",
              "    const url = await google.colab.kernel.proxyPort(port, {cache});\n",
              "    const iframe = document.createElement('iframe');\n",
              "    iframe.src = new URL(path, url).toString();\n",
              "    iframe.height = height;\n",
              "    iframe.width = width;\n",
              "    iframe.style.border = 0;\n",
              "    iframe.allow = [\n",
              "        'accelerometer',\n",
              "        'autoplay',\n",
              "        'camera',\n",
              "        'clipboard-read',\n",
              "        'clipboard-write',\n",
              "        'gyroscope',\n",
              "        'magnetometer',\n",
              "        'microphone',\n",
              "        'serial',\n",
              "        'usb',\n",
              "        'xr-spatial-tracking',\n",
              "    ].join('; ');\n",
              "    element.appendChild(iframe);\n",
              "  })(8884, \"/\", \"100%\", 650, false, window.element)"
            ]
          },
          "metadata": {}
        }
      ],
      "source": [
        "struct = Structure.from_file(\n",
        "    INPUT_FILE_PATH + \"material_projects_api_cif_1000/\" +\"cif_mp-1401213_MgTi2O4.cif\"\n",
        ")\n",
        "env = MinimumDistanceNN()\n",
        "graph = StructureGraph.with_local_env_strategy(struct, env)\n",
        "graph"
      ]
    },
    {
      "cell_type": "markdown",
      "source": [
        "## 実行環境のライブラリverを保存"
      ],
      "metadata": {
        "id": "FW3-KGJ9p_xg"
      }
    },
    {
      "cell_type": "code",
      "source": [
        "# Pythonのverを確認\n",
        "!python3 -V"
      ],
      "metadata": {
        "id": "VeuHngLVqDtK",
        "outputId": "aa6b33e0-8b7d-44ce-d4b3-7a499776ffe1",
        "colab": {
          "base_uri": "https://localhost:8080/"
        }
      },
      "execution_count": 8,
      "outputs": [
        {
          "output_type": "stream",
          "name": "stdout",
          "text": [
            "Python 3.11.11\n"
          ]
        }
      ]
    },
    {
      "cell_type": "code",
      "source": [
        "!pip freeze > requirements_visualization_of_inorganic.txt"
      ],
      "metadata": {
        "id": "diMtNEf6qDyZ"
      },
      "execution_count": 9,
      "outputs": []
    },
    {
      "cell_type": "code",
      "source": [
        "from google.colab import files\n",
        "\n",
        "files.download('requirements_visualization_of_inorganic.txt')"
      ],
      "metadata": {
        "id": "6TquAScfqD5D",
        "outputId": "e12578b7-cf4d-421d-d3f4-6ca77c56b741",
        "colab": {
          "base_uri": "https://localhost:8080/",
          "height": 17
        }
      },
      "execution_count": 10,
      "outputs": [
        {
          "output_type": "display_data",
          "data": {
            "text/plain": [
              "<IPython.core.display.Javascript object>"
            ],
            "application/javascript": [
              "\n",
              "    async function download(id, filename, size) {\n",
              "      if (!google.colab.kernel.accessAllowed) {\n",
              "        return;\n",
              "      }\n",
              "      const div = document.createElement('div');\n",
              "      const label = document.createElement('label');\n",
              "      label.textContent = `Downloading \"${filename}\": `;\n",
              "      div.appendChild(label);\n",
              "      const progress = document.createElement('progress');\n",
              "      progress.max = size;\n",
              "      div.appendChild(progress);\n",
              "      document.body.appendChild(div);\n",
              "\n",
              "      const buffers = [];\n",
              "      let downloaded = 0;\n",
              "\n",
              "      const channel = await google.colab.kernel.comms.open(id);\n",
              "      // Send a message to notify the kernel that we're ready.\n",
              "      channel.send({})\n",
              "\n",
              "      for await (const message of channel.messages) {\n",
              "        // Send a message to notify the kernel that we're ready.\n",
              "        channel.send({})\n",
              "        if (message.buffers) {\n",
              "          for (const buffer of message.buffers) {\n",
              "            buffers.push(buffer);\n",
              "            downloaded += buffer.byteLength;\n",
              "            progress.value = downloaded;\n",
              "          }\n",
              "        }\n",
              "      }\n",
              "      const blob = new Blob(buffers, {type: 'application/binary'});\n",
              "      const a = document.createElement('a');\n",
              "      a.href = window.URL.createObjectURL(blob);\n",
              "      a.download = filename;\n",
              "      div.appendChild(a);\n",
              "      a.click();\n",
              "      div.remove();\n",
              "    }\n",
              "  "
            ]
          },
          "metadata": {}
        },
        {
          "output_type": "display_data",
          "data": {
            "text/plain": [
              "<IPython.core.display.Javascript object>"
            ],
            "application/javascript": [
              "download(\"download_566b3df9-1d6d-4853-9591-0a028d05d192\", \"requirements_visualization_of_inorganic.txt\", 12439)"
            ]
          },
          "metadata": {}
        }
      ]
    }
  ],
  "metadata": {
    "kernelspec": {
      "display_name": "Python 3 (ipykernel) (Local)",
      "language": "python",
      "name": "python3"
    },
    "language_info": {
      "codemirror_mode": {
        "name": "ipython",
        "version": 3
      },
      "file_extension": ".py",
      "mimetype": "text/x-python",
      "name": "python",
      "nbconvert_exporter": "python",
      "pygments_lexer": "ipython3",
      "version": "3.10.13"
    },
    "colab": {
      "provenance": [],
      "include_colab_link": true
    }
  },
  "nbformat": 4,
  "nbformat_minor": 0
}