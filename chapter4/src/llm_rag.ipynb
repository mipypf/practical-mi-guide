{
  "cells": [
    {
      "cell_type": "markdown",
      "metadata": {
        "id": "view-in-github",
        "colab_type": "text"
      },
      "source": [
        "<a href=\"https://colab.research.google.com/github/mipypf/practical-mi-guide/blob/develop/chapter4/src/llm_rag.ipynb\" target=\"_parent\"><img src=\"https://colab.research.google.com/assets/colab-badge.svg\" alt=\"Open In Colab\"/></a>"
      ]
    },
    {
      "cell_type": "markdown",
      "metadata": {
        "id": "FIcNd28499ZI"
      },
      "source": [
        "# RAGによるLLMへの知識付与"
      ]
    },
    {
      "cell_type": "markdown",
      "source": [
        "## Google colabを使用の場合、ランタイムのタブから「ランタイムのタイプを変更」→ハードウェアアクセラレータと進み、T4 GPUを選択"
      ],
      "metadata": {
        "id": "PHTq_htV-NjO"
      }
    },
    {
      "cell_type": "code",
      "source": [
        "# 以下のコマンドでGPUが使用可能かを確認\n",
        "! nvidia-smi"
      ],
      "metadata": {
        "id": "9oB-SqzT-QzY",
        "outputId": "b8d52332-0418-4536-d17f-3d6649da0eb3",
        "colab": {
          "base_uri": "https://localhost:8080/"
        }
      },
      "execution_count": 22,
      "outputs": [
        {
          "output_type": "stream",
          "name": "stdout",
          "text": [
            "Fri Feb  7 07:09:36 2025       \n",
            "+-----------------------------------------------------------------------------------------+\n",
            "| NVIDIA-SMI 550.54.15              Driver Version: 550.54.15      CUDA Version: 12.4     |\n",
            "|-----------------------------------------+------------------------+----------------------+\n",
            "| GPU  Name                 Persistence-M | Bus-Id          Disp.A | Volatile Uncorr. ECC |\n",
            "| Fan  Temp   Perf          Pwr:Usage/Cap |           Memory-Usage | GPU-Util  Compute M. |\n",
            "|                                         |                        |               MIG M. |\n",
            "|=========================================+========================+======================|\n",
            "|   0  Tesla T4                       Off |   00000000:00:04.0 Off |                    0 |\n",
            "| N/A   58C    P0             30W /   70W |    5774MiB /  15360MiB |      0%      Default |\n",
            "|                                         |                        |                  N/A |\n",
            "+-----------------------------------------+------------------------+----------------------+\n",
            "                                                                                         \n",
            "+-----------------------------------------------------------------------------------------+\n",
            "| Processes:                                                                              |\n",
            "|  GPU   GI   CI        PID   Type   Process name                              GPU Memory |\n",
            "|        ID   ID                                                               Usage      |\n",
            "|=========================================================================================|\n",
            "+-----------------------------------------------------------------------------------------+\n"
          ]
        }
      ]
    },
    {
      "cell_type": "markdown",
      "source": [
        "## Google Colabの準備"
      ],
      "metadata": {
        "id": "I9ZV5dG0-c9B"
      }
    },
    {
      "cell_type": "code",
      "source": [
        "# Google Colabを利用する場合はTrue、そうでない場合はFalseとする\n",
        "colab = True"
      ],
      "metadata": {
        "id": "TFVmb2LO-f9F"
      },
      "execution_count": 23,
      "outputs": []
    },
    {
      "cell_type": "code",
      "source": [
        "# Google Colabのファイルをクリックし、MIハンドブック_はじめに.pdfをドラッグ＆ドロップしてアップロード\n",
        "if colab:\n",
        "  INPUT_FILE_PATH = \"./\"\n",
        "  OUTPUT_FILE_PATH = \"./\"\n",
        "else:\n",
        "  INPUT_FILE_PATH = \"../input/\"\n",
        "  OUTPUT_FILE_PATH = \"../output/\""
      ],
      "metadata": {
        "id": "5FCROZ1g-gEM"
      },
      "execution_count": 24,
      "outputs": []
    },
    {
      "cell_type": "markdown",
      "metadata": {
        "id": "mOEfCbBo99ZL"
      },
      "source": [
        "## ライブラリをインポート"
      ]
    },
    {
      "cell_type": "code",
      "source": [
        "!pip install faiss-cpu #執筆当時のGoogle Colabではfaiss-gpuのpip installではERRORが発生する\n",
        "!pip install pypdf==4.1.0\n",
        "!pip install fugashi #\"tohoku-nlp/bert-base-japanese-char\"の駆動に必要\n",
        "!pip install ipadic #\"tohoku-nlp/bert-base-japanese-char\"の駆動に必要\n",
        "!pip install unidic_lite #\"tohoku-nlp/bert-base-japanese-char\"の駆動に必要"
      ],
      "metadata": {
        "id": "SiTT-Ql7_B-A",
        "outputId": "0cac457c-0116-4176-e3e3-22e552392aa9",
        "colab": {
          "base_uri": "https://localhost:8080/"
        }
      },
      "execution_count": 25,
      "outputs": [
        {
          "output_type": "stream",
          "name": "stdout",
          "text": [
            "Requirement already satisfied: faiss-cpu in /usr/local/lib/python3.11/dist-packages (1.10.0)\n",
            "Requirement already satisfied: numpy<3.0,>=1.25.0 in /usr/local/lib/python3.11/dist-packages (from faiss-cpu) (1.26.4)\n",
            "Requirement already satisfied: packaging in /usr/local/lib/python3.11/dist-packages (from faiss-cpu) (24.2)\n",
            "Requirement already satisfied: pypdf==4.1.0 in /usr/local/lib/python3.11/dist-packages (4.1.0)\n",
            "Requirement already satisfied: fugashi in /usr/local/lib/python3.11/dist-packages (1.4.0)\n",
            "Requirement already satisfied: ipadic in /usr/local/lib/python3.11/dist-packages (1.0.0)\n",
            "Requirement already satisfied: unidic_lite in /usr/local/lib/python3.11/dist-packages (1.0.8)\n"
          ]
        }
      ]
    },
    {
      "cell_type": "code",
      "execution_count": 26,
      "metadata": {
        "id": "L1O5bIVk99ZL"
      },
      "outputs": [],
      "source": [
        "import warnings\n",
        "\n",
        "warnings.filterwarnings(\"ignore\")\n",
        "\n",
        "import re\n",
        "\n",
        "import faiss\n",
        "import numpy as np\n",
        "import torch\n",
        "from IPython.display import Markdown\n",
        "from pypdf import PdfReader\n",
        "from sentence_transformers import SentenceTransformer\n",
        "from transformers import AutoModelForCausalLM, AutoTokenizer, pipeline"
      ]
    },
    {
      "cell_type": "markdown",
      "metadata": {
        "id": "DQDxVSVi99ZM"
      },
      "source": [
        "## データを読み込み文章を一定のまとまり（チャンク）に分割し、前処理を実施"
      ]
    },
    {
      "cell_type": "code",
      "execution_count": 27,
      "metadata": {
        "id": "ZTBbx6kp99ZM"
      },
      "outputs": [],
      "source": [
        "# PDFを読み込む関数\n",
        "def load_pdf(file_path):\n",
        "    reader = PdfReader(file_path)\n",
        "    text = \"\"\n",
        "    for page in reader.pages:\n",
        "        text += page.extract_text()\n",
        "    return text\n",
        "\n",
        "\n",
        "# テキストをチャンクに分割する関数\n",
        "def split_text(text, chunk_size=400):\n",
        "    chunks = [text[i : i + chunk_size] for i in range(0, len(text), chunk_size)]\n",
        "    return chunks\n",
        "\n",
        "\n",
        "# PDFから抽出したテキストから改行コードを削除する関数\n",
        "def clean_text(text):\n",
        "    return text.replace(\"\\n\", \"\").strip()"
      ]
    },
    {
      "cell_type": "code",
      "execution_count": 28,
      "metadata": {
        "id": "3vKXQ6ld99ZM"
      },
      "outputs": [],
      "source": [
        "# PDFファイルをロードしてチャンクに分割\n",
        "file_path = INPUT_FILE_PATH + \"MIハンドブック_はじめに.pdf\"\n",
        "text = load_pdf(file_path)\n",
        "cleaned_text = clean_text(text)\n",
        "documents = split_text(cleaned_text)"
      ]
    },
    {
      "cell_type": "code",
      "execution_count": 29,
      "metadata": {
        "id": "rHOopoCE99ZM",
        "outputId": "25c5d7ca-5557-4adc-d9b7-917247da7e7c",
        "colab": {
          "base_uri": "https://localhost:8080/"
        }
      },
      "outputs": [
        {
          "output_type": "execute_result",
          "data": {
            "text/plain": [
              "['はじめに   良い材料を早くつくりたいので、 マテリアルズ・インフォマティクス（MI）を活用して”いる”。このような 声はもう珍しくありません。   MIブームに端を発して、大学・企業 ともにMIの活用検討 が始められて 既にある程度の期間が経過しました。すでに MIに取り組んでいる 大学・企業 からはMI活用の成果が多く報告されており、 MIは期待に応えられるということが共通理解 になりつつあります。 MIとは？有効なものなのか？が 大勢を占めていた 数年前とは隔世の感があります。   本書を手に取っていただいた 方は、材料開発者 として、あるいは 材料開発を支援するデータ分析者として「 MI を活用して材料開発 を加速したい。 」という気持ちだと考えています。      著者の高原と福岡は多くの民間企業 などに対して MI 活用の支援をさせて頂いています。 学生時代 には二人とも材料工',\n",
              " '学 を専攻し、それぞれ 別メーカーでMIを活用した材料開発業務 を経て、現在はコンサルティング・データ 分析・講演・教育・ データ活用システム の提供といった 様々な立場・内容 で活動を行っています。    MIの普及に伴い、様々な書籍やセミナー が発刊・実施 されています。しかしそれは、 MIとは？という 概論か、整形されたデータに対して分析アルゴリズムを適用するものが 主と感じています。   材料開発 の実務の中で MI を活用するには、さらに 踏み込んだ情報が必要です。  例えば、データの整形方法。 MIに限らず機械学習・ データ分析の入門書では分析可能 な形に整形されたデータから分析がスタート します。 一方で、MI が普及していない 材料開発 の現場では、データ分析フレンドリー な形でデータが蓄積されていません。そのため、その データを分析可能 にする手順が分からずMIの活用を断',\n",
              " '念してしまうことがあります。   次にデータや分析結果 の見方という観点。本書執筆 の時点では、AIにデータを丸ごと投げ込み、出てきた結果をそのまま 実験すればより 良い材料が出来るということは、ほとんどの 場合ありません。 手持ちのデータのどのような点に着目し、データ分析を適用するか。 出てきた分析結果 をどのように 材料開発の加速に役立てていくか。こういった ノウハウ が必要になります。    著者らは、様々な材料系（有機材料、無機材料、 コンポジット 材料、 ・・・  etc） ・データ 形式（テーブルデータ、 画像データ、テキストデータ、材料構造 データ、 ・・・ etc）を扱うMIプロジェクト の実施経験 の中で、開発する材料を問わず共通的に有用なノウハウ を蓄積してきました。 本書籍では、その 内容をお伝えできればと 思います。      本書では、MIとは？からはじまり、 材',\n",
              " '料開発 の実務でよくある 未整形のデータから分析するまでの 流れと、分析結果 の材料開発 への役立て方、そして読者の方が今後さらに分析力を向上させるための 指針を示します。   こうした 内容をまとめ、 材料開発 の中で MI を活用するときのお 供となることを目指して、本書を “ハンドブック ”と名付けています。   MIの知識ゼロから自分の材料開発 データに適用できるように MIの力を身につけてほしいと 考えています。     【本書の対象読者】   本書は、次のような 読者を対象にしています。     ・これから MIとは何かを学びたい人  ・機械学習 やMIに入門してみたが、 実際に自分の材料開発 に適用できておらず悩んでいる 人    このような 読者が、MIの知識ゼロから自分の材料開発 データに適用できるようになり、 入門以後 のスキルアップ の道筋に目星がつくようになるまでを',\n",
              " ' 目指しています。ただし、 本書はプログラミング の入門書ではないため、 コードを書籍の中で丁寧に追って解説することはしません。また、 機械学習 アルゴリズム 等の数式についてもほとんど 触れません。 プログラミング が分からずとも、 数学が苦手でも MI とはなにか？ 何をしているのかの 雰囲気がつかめることを 優先しているためです。 本書で示す分析例を実行できる分析コードとしてPythonで作成したものを GitHub上に公開しています。 コード中に補足解説 も行っているため、 興味がある方は次のリンクにアクセス して内容を確認して下さい。ただし、 Github上では、コードを動作させることができないため、 入出力の確認のみとなります。   コードを実際に動かしてみたい 方は GitHub 上に公開している リンクから Google Colab にアクセス いただき Google Co',\n",
              " 'lab 上で動作を試みてください。また、Github上では、コードの出力結果 が一部確認 できません。こちらの コードについても Google Colab で内容を確認してください。 Google Colab の使い方はGitHub上に記載しています。      GitHub Link: https://github.com/mipypf/practical -mi-guide']"
            ]
          },
          "metadata": {},
          "execution_count": 29
        }
      ],
      "source": [
        "documents"
      ]
    },
    {
      "cell_type": "markdown",
      "metadata": {
        "id": "hxRqyC4x99ZN"
      },
      "source": [
        "## Transformer系列のモデルを用いたベクトル化を行う"
      ]
    },
    {
      "cell_type": "code",
      "execution_count": 30,
      "metadata": {
        "id": "XwROdz7e99ZN",
        "outputId": "e7e67ce1-8b41-4556-ee24-327fb55df55b",
        "colab": {
          "base_uri": "https://localhost:8080/"
        }
      },
      "outputs": [
        {
          "output_type": "stream",
          "name": "stderr",
          "text": [
            "WARNING:sentence_transformers.SentenceTransformer:No sentence-transformers model found with name tohoku-nlp/bert-base-japanese-char. Creating a new one with mean pooling.\n"
          ]
        }
      ],
      "source": [
        "# SentenceTransformerを使用して埋め込みを生成\n",
        "embedding_model = SentenceTransformer(\"tohoku-nlp/bert-base-japanese-char\")\n",
        "embeddings = embedding_model.encode(documents, convert_to_tensor=False)"
      ]
    },
    {
      "cell_type": "code",
      "execution_count": 31,
      "metadata": {
        "id": "1Z-mcibO99ZN",
        "outputId": "71b830f6-0cd0-4ac1-a8f5-ac1b15dce395",
        "colab": {
          "base_uri": "https://localhost:8080/"
        }
      },
      "outputs": [
        {
          "output_type": "execute_result",
          "data": {
            "text/plain": [
              "array([[-0.03047474, -0.02585311,  0.08110178, ...,  0.11155611,\n",
              "         0.03575248,  0.07502937],\n",
              "       [-0.01095174, -0.07489808, -0.0031864 , ...,  0.10563548,\n",
              "        -0.02885757,  0.12586543],\n",
              "       [-0.02559055, -0.05745022,  0.17086999, ...,  0.07885666,\n",
              "        -0.08108613,  0.03250976],\n",
              "       [ 0.04616659, -0.06611266,  0.08924499, ...,  0.11290875,\n",
              "         0.02767573, -0.02722615],\n",
              "       [ 0.03609647, -0.116508  ,  0.07292653, ...,  0.10481993,\n",
              "        -0.01766475,  0.12581478],\n",
              "       [ 0.0936287 , -0.02034189, -0.06240779, ...,  0.05990342,\n",
              "         0.05203226, -0.04525827]], dtype=float32)"
            ]
          },
          "metadata": {},
          "execution_count": 31
        }
      ],
      "source": [
        "embeddings"
      ]
    },
    {
      "cell_type": "markdown",
      "metadata": {
        "id": "1QKkCXXj99ZN"
      },
      "source": [
        "## 検索ができるようにベクトル化したテキストデータにインデックスを付与"
      ]
    },
    {
      "cell_type": "code",
      "execution_count": 32,
      "metadata": {
        "id": "eSbhXEph99ZO"
      },
      "outputs": [],
      "source": [
        "# FAISSインデックスを作成\n",
        "d = embeddings[0].shape[0]  # 埋め込みの次元\n",
        "index = faiss.IndexFlatL2(d)\n",
        "index.add(np.array(embeddings))"
      ]
    },
    {
      "cell_type": "markdown",
      "metadata": {
        "id": "qLK95uFR99ZO"
      },
      "source": [
        "## LLMを読み込む"
      ]
    },
    {
      "cell_type": "markdown",
      "source": [
        "### HuggingFaceでの作業\n",
        " - https://huggingface.co/google/gemma-2-2b-jpn-it にアクセスしてログインし、ライセンス認証を行う。（Singn up未の場合は、登録から行う。）\n",
        " - HuggingFaceのトークンをhttps://huggingface.co/settings/tokens から取得\n",
        " - Google Colabのシークレット（鍵マークのアイコン）をクリックして開き、「+ 新しいシークレットを追加」からHF_TOKENという名前を付けて、値の欄に取得したトークンを入力\n",
        " - ノートブックからのアクセスを有効にする"
      ],
      "metadata": {
        "id": "oOEa9r9ZDGOP"
      }
    },
    {
      "cell_type": "code",
      "source": [
        "from google.colab import userdata\n",
        "\n",
        "from huggingface_hub import login\n",
        "login(token=userdata.get('HF_TOKEN'))"
      ],
      "metadata": {
        "id": "rAGlNsMTFrIX"
      },
      "execution_count": 33,
      "outputs": []
    },
    {
      "cell_type": "code",
      "execution_count": 34,
      "metadata": {
        "id": "gaDkRy_f99ZO",
        "outputId": "ba0914f1-d05e-49d9-c1eb-3e57f5d96407",
        "colab": {
          "base_uri": "https://localhost:8080/",
          "height": 49,
          "referenced_widgets": [
            "609057fc29724ab9b54c9c45760e206f",
            "811c762d7ff94839af34a10c82637a10",
            "8d76ea47c88b424a94d21d98b6c5b58d",
            "6811a475e9914a0b87436d74c7e0caec",
            "381ae8ce1aa846788dae31f71c607d48",
            "650380f10f374bc999350e0f464c0288",
            "e972372d625b4ebcac73eca8b6a4539f",
            "7197e293327340c590cc3d1257c729e3",
            "b8cef668943043c4a6706048ecd6831d",
            "72b29b36bd504af3911bfbe0dd391913",
            "4e65a24fe8484765b8133a5087a6bdf0"
          ]
        }
      },
      "outputs": [
        {
          "output_type": "display_data",
          "data": {
            "text/plain": [
              "Loading checkpoint shards:   0%|          | 0/2 [00:00<?, ?it/s]"
            ],
            "application/vnd.jupyter.widget-view+json": {
              "version_major": 2,
              "version_minor": 0,
              "model_id": "609057fc29724ab9b54c9c45760e206f"
            }
          },
          "metadata": {}
        }
      ],
      "source": [
        "tokenizer = AutoTokenizer.from_pretrained(\"google/gemma-2-2b-jpn-it\")\n",
        "model = AutoModelForCausalLM.from_pretrained(\n",
        "    \"google/gemma-2-2b-jpn-it\",\n",
        "    device_map=\"auto\",\n",
        "    torch_dtype=torch.bfloat16,\n",
        ")"
      ]
    },
    {
      "cell_type": "markdown",
      "metadata": {
        "id": "naMU6-uZ99ZO"
      },
      "source": [
        "## テキスト生成のための設定"
      ]
    },
    {
      "cell_type": "code",
      "execution_count": 35,
      "metadata": {
        "id": "1Of_oUkK99ZO",
        "outputId": "55887cd8-3f9d-4741-e8f9-904efa7027cc",
        "colab": {
          "base_uri": "https://localhost:8080/"
        }
      },
      "outputs": [
        {
          "output_type": "stream",
          "name": "stderr",
          "text": [
            "Device set to use cuda:0\n"
          ]
        }
      ],
      "source": [
        "# テキスト生成パイプラインを設定\n",
        "text_gen_pipeline = pipeline(\"text-generation\", model=model, tokenizer=tokenizer)"
      ]
    },
    {
      "cell_type": "code",
      "execution_count": 36,
      "metadata": {
        "id": "L2-OCOsw99ZO"
      },
      "outputs": [],
      "source": [
        "def ask_question(question):\n",
        "    # 質問を埋め込みに変換\n",
        "    question_embedding = embedding_model.encode([question], convert_to_tensor=False)\n",
        "\n",
        "    # FAISSで最も近いチャンクを検索\n",
        "    _, indices = index.search(np.array(question_embedding), k=1)\n",
        "    retrieved_text = documents[indices[0][0]]\n",
        "\n",
        "    # 質問と関連情報、回答の間に改行を追加\n",
        "    input_text = f\"質問: {question}\\n\\n関連情報: {retrieved_text}\\n\\n回答: \"\n",
        "\n",
        "    # パイプラインを使用して回答を生成\n",
        "    outputs = text_gen_pipeline(input_text, max_new_tokens=256)\n",
        "\n",
        "    # リストから文字列を取得\n",
        "    assistant_response = outputs[0][\"generated_text\"].strip()\n",
        "\n",
        "    return assistant_response"
      ]
    },
    {
      "cell_type": "markdown",
      "metadata": {
        "id": "ZNiozQ7I99ZO"
      },
      "source": [
        "## RAGを使用せず知識付与を行わない状態でLLMに質問する"
      ]
    },
    {
      "cell_type": "code",
      "execution_count": 37,
      "metadata": {
        "id": "p5Hv5mVB99ZO",
        "outputId": "e94ad223-daca-4ed7-a402-7c4f50f572c6",
        "colab": {
          "base_uri": "https://localhost:8080/"
        }
      },
      "outputs": [
        {
          "output_type": "stream",
          "name": "stdout",
          "text": [
            "MIとは何ですか？\n",
            "\n",
            "「**AI**」の略称で、人工知能の技術です。\n",
            "\n",
            "**AIとは？**\n",
            "\n",
            "* **人間のような思考・判断能力を持つコンピュータ**\n",
            "* **学習・分析・予測・行動**を自動化できる能力を持つ\n",
            "\n",
            "**AIの活用例**\n",
            "\n",
            "* **自動運転車**\n",
            "* **医療診断**\n",
            "* **顧客対応**\n",
            "* **商品推薦**\n",
            "* **翻訳**\n",
            "* **画像認識**\n"
          ]
        }
      ],
      "source": [
        "question = \"MIとは何ですか？\"\n",
        "\n",
        "outputs = text_gen_pipeline(question, max_new_tokens=256)\n",
        "response = outputs[0][\"generated_text\"].strip()\n",
        "print(response)"
      ]
    },
    {
      "cell_type": "code",
      "execution_count": 38,
      "metadata": {
        "id": "AhYK7p3Z99ZO",
        "outputId": "99a71cf0-8be0-40df-af8c-8d88b5127287",
        "colab": {
          "base_uri": "https://localhost:8080/",
          "height": 267
        }
      },
      "outputs": [
        {
          "output_type": "display_data",
          "data": {
            "text/plain": [
              "<IPython.core.display.Markdown object>"
            ],
            "text/markdown": "MIとは何ですか？\n\n「**AI**」の略称で、人工知能の技術です。\n\n**AIとは？**\n\n* **人間のような思考・判断能力を持つコンピュータ**\n* **学習・分析・予測・行動**を自動化できる能力を持つ\n\n**AIの活用例**\n\n* **自動運転車**\n* **医療診断**\n* **顧客対応**\n* **商品推薦**\n* **翻訳**\n* **画像認識**"
          },
          "metadata": {}
        }
      ],
      "source": [
        "display(Markdown(response))"
      ]
    },
    {
      "cell_type": "markdown",
      "metadata": {
        "id": "YdJbQTBz99ZO"
      },
      "source": [
        "## RAGを使用して知識付与を行った状態でLLMに質問する"
      ]
    },
    {
      "cell_type": "code",
      "execution_count": 39,
      "metadata": {
        "id": "hi3G1CyN99ZP",
        "outputId": "6eb95abd-8817-41b8-cc49-0ad6b84ad5f1",
        "colab": {
          "base_uri": "https://localhost:8080/"
        }
      },
      "outputs": [
        {
          "output_type": "stream",
          "name": "stdout",
          "text": [
            "質問: MIとは何ですか？\n",
            "\n",
            "関連情報: はじめに   良い材料を早くつくりたいので、 マテリアルズ・インフォマティクス（MI）を活用して”いる”。このような 声はもう珍しくありません。   MIブームに端を発して、大学・企業 ともにMIの活用検討 が始められて 既にある程度の期間が経過しました。すでに MIに取り組んでいる 大学・企業 からはMI活用の成果が多く報告されており、 MIは期待に応えられるということが共通理解 になりつつあります。 MIとは？有効なものなのか？が 大勢を占めていた 数年前とは隔世の感があります。   本書を手に取っていただいた 方は、材料開発者 として、あるいは 材料開発を支援するデータ分析者として「 MI を活用して材料開発 を加速したい。 」という気持ちだと考えています。      著者の高原と福岡は多くの民間企業 などに対して MI 活用の支援をさせて頂いています。 学生時代 には二人とも材料工\n",
            "\n",
            "回答: \n",
            "\n",
            "MI（Materials Informatics）とは、材料の特性や性能を分析し、設計・開発を効率化するための、材料科学とデータ分析の融合技術です。\n",
            "\n",
            "\n",
            "**簡単に言うと:**\n",
            "\n",
            "* 材料のデータを集めて分析し、より良い材料の開発を支援する技術です。\n",
            "* 材料の特性や性能を数値化し、設計段階で最適な材料を選択できるようになります。\n",
            "\n",
            "\n",
            "**MIのメリット:**\n",
            "\n",
            "* **材料開発のスピードアップ:**  大量のデータから、最適な材料を見つけることができます。\n",
            "* **コスト削減:**  設計段階で失敗を減らし、無駄な材料や工程を削減できます。\n",
            "* **材料の性能向上:**  データ分析によって、材料の性能を向上させるための設計が可能になります。\n"
          ]
        }
      ],
      "source": [
        "print(ask_question(question))"
      ]
    },
    {
      "cell_type": "code",
      "execution_count": 40,
      "metadata": {
        "tags": [],
        "id": "V9wrYs9T99ZP",
        "outputId": "5605beb4-fc0a-4164-e75d-3ff4ba4671dc",
        "colab": {
          "base_uri": "https://localhost:8080/",
          "height": 349
        }
      },
      "outputs": [
        {
          "output_type": "display_data",
          "data": {
            "text/plain": [
              "<IPython.core.display.Markdown object>"
            ],
            "text/markdown": "質問: MIとは何ですか？\n\n関連情報: はじめに   良い材料を早くつくりたいので、 マテリアルズ・インフォマティクス（MI）を活用して”いる”。このような 声はもう珍しくありません。   MIブームに端を発して、大学・企業 ともにMIの活用検討 が始められて 既にある程度の期間が経過しました。すでに MIに取り組んでいる 大学・企業 からはMI活用の成果が多く報告されており、 MIは期待に応えられるということが共通理解 になりつつあります。 MIとは？有効なものなのか？が 大勢を占めていた 数年前とは隔世の感があります。   本書を手に取っていただいた 方は、材料開発者 として、あるいは 材料開発を支援するデータ分析者として「 MI を活用して材料開発 を加速したい。 」という気持ちだと考えています。      著者の高原と福岡は多くの民間企業 などに対して MI 活用の支援をさせて頂いています。 学生時代 には二人とも材料工\n\n回答: \n\nMI（Materials Informatics）とは、材料の特性や性能を分析し、設計・開発を効率化するための、材料科学とデータ分析の融合技術です。\n\n\n**簡単に言うと:**\n\n* 材料のデータを集めて分析し、より良い材料の開発を支援する技術です。\n* 材料の特性や性能を数値化し、設計段階で最適な材料を選択できるようになります。\n\n\n**MIのメリット:**\n\n* **材料開発のスピードアップ:**  大量のデータから、最適な材料を見つけることができます。\n* **コスト削減:**  設計段階で失敗を減らし、無駄な材料や工程を削減できます。\n* **材料の性能向上:**  データ分析によって、材料の性能を向上させるための設計が可能になります。"
          },
          "metadata": {}
        }
      ],
      "source": [
        "display(Markdown(ask_question(question)))"
      ]
    },
    {
      "cell_type": "markdown",
      "source": [
        "## 実行環境のライブラリverを保存"
      ],
      "metadata": {
        "id": "pPeZZZvhH9wq"
      }
    },
    {
      "cell_type": "code",
      "source": [
        "!pip freeze > requirements_llm_rag.txt"
      ],
      "metadata": {
        "id": "lgIHpjPhHH52"
      },
      "execution_count": 41,
      "outputs": []
    },
    {
      "cell_type": "code",
      "source": [
        "from google.colab import files\n",
        "\n",
        "files.download('requirements_llm_rag.txt')"
      ],
      "metadata": {
        "id": "FdN6lJVJHUJ2",
        "outputId": "2bf83307-c628-4463-8d74-2a58e6665e35",
        "colab": {
          "base_uri": "https://localhost:8080/",
          "height": 17
        }
      },
      "execution_count": 42,
      "outputs": [
        {
          "output_type": "display_data",
          "data": {
            "text/plain": [
              "<IPython.core.display.Javascript object>"
            ],
            "application/javascript": [
              "\n",
              "    async function download(id, filename, size) {\n",
              "      if (!google.colab.kernel.accessAllowed) {\n",
              "        return;\n",
              "      }\n",
              "      const div = document.createElement('div');\n",
              "      const label = document.createElement('label');\n",
              "      label.textContent = `Downloading \"${filename}\": `;\n",
              "      div.appendChild(label);\n",
              "      const progress = document.createElement('progress');\n",
              "      progress.max = size;\n",
              "      div.appendChild(progress);\n",
              "      document.body.appendChild(div);\n",
              "\n",
              "      const buffers = [];\n",
              "      let downloaded = 0;\n",
              "\n",
              "      const channel = await google.colab.kernel.comms.open(id);\n",
              "      // Send a message to notify the kernel that we're ready.\n",
              "      channel.send({})\n",
              "\n",
              "      for await (const message of channel.messages) {\n",
              "        // Send a message to notify the kernel that we're ready.\n",
              "        channel.send({})\n",
              "        if (message.buffers) {\n",
              "          for (const buffer of message.buffers) {\n",
              "            buffers.push(buffer);\n",
              "            downloaded += buffer.byteLength;\n",
              "            progress.value = downloaded;\n",
              "          }\n",
              "        }\n",
              "      }\n",
              "      const blob = new Blob(buffers, {type: 'application/binary'});\n",
              "      const a = document.createElement('a');\n",
              "      a.href = window.URL.createObjectURL(blob);\n",
              "      a.download = filename;\n",
              "      div.appendChild(a);\n",
              "      a.click();\n",
              "      div.remove();\n",
              "    }\n",
              "  "
            ]
          },
          "metadata": {}
        },
        {
          "output_type": "display_data",
          "data": {
            "text/plain": [
              "<IPython.core.display.Javascript object>"
            ],
            "application/javascript": [
              "download(\"download_7baaa90d-707a-44a6-8269-90639727c864\", \"requirements_llm_rag.txt\", 11568)"
            ]
          },
          "metadata": {}
        }
      ]
    }
  ],
  "metadata": {
    "kernelspec": {
      "display_name": "Python 3",
      "name": "python3"
    },
    "language_info": {
      "codemirror_mode": {
        "name": "ipython",
        "version": 3
      },
      "file_extension": ".py",
      "mimetype": "text/x-python",
      "name": "python",
      "nbconvert_exporter": "python",
      "pygments_lexer": "ipython3",
      "version": "3.10.13"
    },
    "colab": {
      "provenance": [],
      "gpuType": "T4",
      "include_colab_link": true
    },
    "accelerator": "GPU",
    "widgets": {
      "application/vnd.jupyter.widget-state+json": {
        "609057fc29724ab9b54c9c45760e206f": {
          "model_module": "@jupyter-widgets/controls",
          "model_name": "HBoxModel",
          "model_module_version": "1.5.0",
          "state": {
            "_dom_classes": [],
            "_model_module": "@jupyter-widgets/controls",
            "_model_module_version": "1.5.0",
            "_model_name": "HBoxModel",
            "_view_count": null,
            "_view_module": "@jupyter-widgets/controls",
            "_view_module_version": "1.5.0",
            "_view_name": "HBoxView",
            "box_style": "",
            "children": [
              "IPY_MODEL_811c762d7ff94839af34a10c82637a10",
              "IPY_MODEL_8d76ea47c88b424a94d21d98b6c5b58d",
              "IPY_MODEL_6811a475e9914a0b87436d74c7e0caec"
            ],
            "layout": "IPY_MODEL_381ae8ce1aa846788dae31f71c607d48"
          }
        },
        "811c762d7ff94839af34a10c82637a10": {
          "model_module": "@jupyter-widgets/controls",
          "model_name": "HTMLModel",
          "model_module_version": "1.5.0",
          "state": {
            "_dom_classes": [],
            "_model_module": "@jupyter-widgets/controls",
            "_model_module_version": "1.5.0",
            "_model_name": "HTMLModel",
            "_view_count": null,
            "_view_module": "@jupyter-widgets/controls",
            "_view_module_version": "1.5.0",
            "_view_name": "HTMLView",
            "description": "",
            "description_tooltip": null,
            "layout": "IPY_MODEL_650380f10f374bc999350e0f464c0288",
            "placeholder": "​",
            "style": "IPY_MODEL_e972372d625b4ebcac73eca8b6a4539f",
            "value": "Loading checkpoint shards: 100%"
          }
        },
        "8d76ea47c88b424a94d21d98b6c5b58d": {
          "model_module": "@jupyter-widgets/controls",
          "model_name": "FloatProgressModel",
          "model_module_version": "1.5.0",
          "state": {
            "_dom_classes": [],
            "_model_module": "@jupyter-widgets/controls",
            "_model_module_version": "1.5.0",
            "_model_name": "FloatProgressModel",
            "_view_count": null,
            "_view_module": "@jupyter-widgets/controls",
            "_view_module_version": "1.5.0",
            "_view_name": "ProgressView",
            "bar_style": "success",
            "description": "",
            "description_tooltip": null,
            "layout": "IPY_MODEL_7197e293327340c590cc3d1257c729e3",
            "max": 2,
            "min": 0,
            "orientation": "horizontal",
            "style": "IPY_MODEL_b8cef668943043c4a6706048ecd6831d",
            "value": 2
          }
        },
        "6811a475e9914a0b87436d74c7e0caec": {
          "model_module": "@jupyter-widgets/controls",
          "model_name": "HTMLModel",
          "model_module_version": "1.5.0",
          "state": {
            "_dom_classes": [],
            "_model_module": "@jupyter-widgets/controls",
            "_model_module_version": "1.5.0",
            "_model_name": "HTMLModel",
            "_view_count": null,
            "_view_module": "@jupyter-widgets/controls",
            "_view_module_version": "1.5.0",
            "_view_name": "HTMLView",
            "description": "",
            "description_tooltip": null,
            "layout": "IPY_MODEL_72b29b36bd504af3911bfbe0dd391913",
            "placeholder": "​",
            "style": "IPY_MODEL_4e65a24fe8484765b8133a5087a6bdf0",
            "value": " 2/2 [00:04&lt;00:00,  1.91s/it]"
          }
        },
        "381ae8ce1aa846788dae31f71c607d48": {
          "model_module": "@jupyter-widgets/base",
          "model_name": "LayoutModel",
          "model_module_version": "1.2.0",
          "state": {
            "_model_module": "@jupyter-widgets/base",
            "_model_module_version": "1.2.0",
            "_model_name": "LayoutModel",
            "_view_count": null,
            "_view_module": "@jupyter-widgets/base",
            "_view_module_version": "1.2.0",
            "_view_name": "LayoutView",
            "align_content": null,
            "align_items": null,
            "align_self": null,
            "border": null,
            "bottom": null,
            "display": null,
            "flex": null,
            "flex_flow": null,
            "grid_area": null,
            "grid_auto_columns": null,
            "grid_auto_flow": null,
            "grid_auto_rows": null,
            "grid_column": null,
            "grid_gap": null,
            "grid_row": null,
            "grid_template_areas": null,
            "grid_template_columns": null,
            "grid_template_rows": null,
            "height": null,
            "justify_content": null,
            "justify_items": null,
            "left": null,
            "margin": null,
            "max_height": null,
            "max_width": null,
            "min_height": null,
            "min_width": null,
            "object_fit": null,
            "object_position": null,
            "order": null,
            "overflow": null,
            "overflow_x": null,
            "overflow_y": null,
            "padding": null,
            "right": null,
            "top": null,
            "visibility": null,
            "width": null
          }
        },
        "650380f10f374bc999350e0f464c0288": {
          "model_module": "@jupyter-widgets/base",
          "model_name": "LayoutModel",
          "model_module_version": "1.2.0",
          "state": {
            "_model_module": "@jupyter-widgets/base",
            "_model_module_version": "1.2.0",
            "_model_name": "LayoutModel",
            "_view_count": null,
            "_view_module": "@jupyter-widgets/base",
            "_view_module_version": "1.2.0",
            "_view_name": "LayoutView",
            "align_content": null,
            "align_items": null,
            "align_self": null,
            "border": null,
            "bottom": null,
            "display": null,
            "flex": null,
            "flex_flow": null,
            "grid_area": null,
            "grid_auto_columns": null,
            "grid_auto_flow": null,
            "grid_auto_rows": null,
            "grid_column": null,
            "grid_gap": null,
            "grid_row": null,
            "grid_template_areas": null,
            "grid_template_columns": null,
            "grid_template_rows": null,
            "height": null,
            "justify_content": null,
            "justify_items": null,
            "left": null,
            "margin": null,
            "max_height": null,
            "max_width": null,
            "min_height": null,
            "min_width": null,
            "object_fit": null,
            "object_position": null,
            "order": null,
            "overflow": null,
            "overflow_x": null,
            "overflow_y": null,
            "padding": null,
            "right": null,
            "top": null,
            "visibility": null,
            "width": null
          }
        },
        "e972372d625b4ebcac73eca8b6a4539f": {
          "model_module": "@jupyter-widgets/controls",
          "model_name": "DescriptionStyleModel",
          "model_module_version": "1.5.0",
          "state": {
            "_model_module": "@jupyter-widgets/controls",
            "_model_module_version": "1.5.0",
            "_model_name": "DescriptionStyleModel",
            "_view_count": null,
            "_view_module": "@jupyter-widgets/base",
            "_view_module_version": "1.2.0",
            "_view_name": "StyleView",
            "description_width": ""
          }
        },
        "7197e293327340c590cc3d1257c729e3": {
          "model_module": "@jupyter-widgets/base",
          "model_name": "LayoutModel",
          "model_module_version": "1.2.0",
          "state": {
            "_model_module": "@jupyter-widgets/base",
            "_model_module_version": "1.2.0",
            "_model_name": "LayoutModel",
            "_view_count": null,
            "_view_module": "@jupyter-widgets/base",
            "_view_module_version": "1.2.0",
            "_view_name": "LayoutView",
            "align_content": null,
            "align_items": null,
            "align_self": null,
            "border": null,
            "bottom": null,
            "display": null,
            "flex": null,
            "flex_flow": null,
            "grid_area": null,
            "grid_auto_columns": null,
            "grid_auto_flow": null,
            "grid_auto_rows": null,
            "grid_column": null,
            "grid_gap": null,
            "grid_row": null,
            "grid_template_areas": null,
            "grid_template_columns": null,
            "grid_template_rows": null,
            "height": null,
            "justify_content": null,
            "justify_items": null,
            "left": null,
            "margin": null,
            "max_height": null,
            "max_width": null,
            "min_height": null,
            "min_width": null,
            "object_fit": null,
            "object_position": null,
            "order": null,
            "overflow": null,
            "overflow_x": null,
            "overflow_y": null,
            "padding": null,
            "right": null,
            "top": null,
            "visibility": null,
            "width": null
          }
        },
        "b8cef668943043c4a6706048ecd6831d": {
          "model_module": "@jupyter-widgets/controls",
          "model_name": "ProgressStyleModel",
          "model_module_version": "1.5.0",
          "state": {
            "_model_module": "@jupyter-widgets/controls",
            "_model_module_version": "1.5.0",
            "_model_name": "ProgressStyleModel",
            "_view_count": null,
            "_view_module": "@jupyter-widgets/base",
            "_view_module_version": "1.2.0",
            "_view_name": "StyleView",
            "bar_color": null,
            "description_width": ""
          }
        },
        "72b29b36bd504af3911bfbe0dd391913": {
          "model_module": "@jupyter-widgets/base",
          "model_name": "LayoutModel",
          "model_module_version": "1.2.0",
          "state": {
            "_model_module": "@jupyter-widgets/base",
            "_model_module_version": "1.2.0",
            "_model_name": "LayoutModel",
            "_view_count": null,
            "_view_module": "@jupyter-widgets/base",
            "_view_module_version": "1.2.0",
            "_view_name": "LayoutView",
            "align_content": null,
            "align_items": null,
            "align_self": null,
            "border": null,
            "bottom": null,
            "display": null,
            "flex": null,
            "flex_flow": null,
            "grid_area": null,
            "grid_auto_columns": null,
            "grid_auto_flow": null,
            "grid_auto_rows": null,
            "grid_column": null,
            "grid_gap": null,
            "grid_row": null,
            "grid_template_areas": null,
            "grid_template_columns": null,
            "grid_template_rows": null,
            "height": null,
            "justify_content": null,
            "justify_items": null,
            "left": null,
            "margin": null,
            "max_height": null,
            "max_width": null,
            "min_height": null,
            "min_width": null,
            "object_fit": null,
            "object_position": null,
            "order": null,
            "overflow": null,
            "overflow_x": null,
            "overflow_y": null,
            "padding": null,
            "right": null,
            "top": null,
            "visibility": null,
            "width": null
          }
        },
        "4e65a24fe8484765b8133a5087a6bdf0": {
          "model_module": "@jupyter-widgets/controls",
          "model_name": "DescriptionStyleModel",
          "model_module_version": "1.5.0",
          "state": {
            "_model_module": "@jupyter-widgets/controls",
            "_model_module_version": "1.5.0",
            "_model_name": "DescriptionStyleModel",
            "_view_count": null,
            "_view_module": "@jupyter-widgets/base",
            "_view_module_version": "1.2.0",
            "_view_name": "StyleView",
            "description_width": ""
          }
        }
      }
    }
  },
  "nbformat": 4,
  "nbformat_minor": 0
}