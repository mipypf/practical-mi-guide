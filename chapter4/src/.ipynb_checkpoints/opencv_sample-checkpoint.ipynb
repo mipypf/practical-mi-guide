{
 "cells": [
  {
   "cell_type": "markdown",
   "metadata": {},
   "source": [
    "# OpenCVを用いた画像処理の実施"
   ]
  },
  {
   "cell_type": "markdown",
   "metadata": {},
   "source": [
    "インストールは下記を参照  \n",
    "https://pypi.org/project/opencv-python/"
   ]
  },
  {
   "cell_type": "code",
   "execution_count": null,
   "metadata": {},
   "outputs": [],
   "source": [
    "# 関連パッケージのインポートと設定\n",
    "import cv2\n",
    "import matplotlib.pyplot as plt\n",
    "import numpy as np\n",
    "import seaborn as sns\n",
    "\n",
    "sns.set(font=\"Yu Gothic\")\n",
    "sns.set_style(\"whitegrid\", {\"axes.grid\": False})"
   ]
  },
  {
   "cell_type": "code",
   "execution_count": null,
   "metadata": {},
   "outputs": [],
   "source": [
    "# 画像の読み込み\n",
    "img_gray = cv2.imread(\"test_book.jpg\", flags=cv2.IMREAD_GRAYSCALE)  # グレースケール\n",
    "img_color = cv2.imread(\n",
    "    \"test_book.jpg\", flags=cv2.IMREAD_COLOR\n",
    ")  # カラー BGRの3チャネル　RGBでない"
   ]
  },
  {
   "cell_type": "code",
   "execution_count": null,
   "metadata": {},
   "outputs": [],
   "source": [
    "# 色空間の変換\n",
    "img_rgb = cv2.cvtColor(img_color, cv2.COLOR_BGR2RGB)  # BGRからRGBへの変換\n",
    "img_hsv = cv2.cvtColor(img_color, cv2.COLOR_BGR2HSV_FULL)  # H:色相　S:彩度　V:明度"
   ]
  },
  {
   "cell_type": "code",
   "execution_count": null,
   "metadata": {},
   "outputs": [],
   "source": [
    "# 画像の表示:グレースケール\n",
    "plt.imshow(img_gray, cmap=\"gray\")\n",
    "plt.show()"
   ]
  },
  {
   "cell_type": "code",
   "execution_count": null,
   "metadata": {},
   "outputs": [],
   "source": [
    "# 画像の表示:カラー\n",
    "plt.imshow(\n",
    "    cv2.cvtColor(img_color, cv2.COLOR_BGR2RGB)\n",
    ")  # チャネル順をBGRからRGBに変換する必要がある\n",
    "plt.show()"
   ]
  },
  {
   "cell_type": "markdown",
   "metadata": {},
   "source": []
  }
 ],
 "metadata": {
  "kernelspec": {
   "display_name": "Python 3 (ipykernel)",
   "language": "python",
   "name": "python3"
  },
  "language_info": {
   "codemirror_mode": {
    "name": "ipython",
    "version": 3
   },
   "file_extension": ".py",
   "mimetype": "text/x-python",
   "name": "python",
   "nbconvert_exporter": "python",
   "pygments_lexer": "ipython3",
   "version": "3.8.18"
  }
 },
 "nbformat": 4,
 "nbformat_minor": 4
}
