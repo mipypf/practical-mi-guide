{
 "cells": [
  {
   "cell_type": "markdown",
   "metadata": {},
   "source": [
    "# スペクトルデータの分析を行う"
   ]
  },
  {
   "cell_type": "markdown",
   "metadata": {
    "tags": []
   },
   "source": [
    "## ライブラリをインポート"
   ]
  },
  {
   "cell_type": "code",
   "execution_count": 2,
   "metadata": {},
   "outputs": [],
   "source": [
    "import glob\n",
    "import os\n",
    "import warnings\n",
    "\n",
    "import matplotlib.pyplot as plt\n",
    "import numpy as np\n",
    "import pandas as pd\n",
    "from sklearn.decomposition import PCA\n",
    "from sklearn.metrics import (\n",
    "    confusion_matrix,\n",
    "    f1_score,\n",
    "    precision_score,\n",
    "    recall_score,\n",
    "    roc_auc_score,\n",
    "    roc_curve,\n",
    ")\n",
    "\n",
    "warnings.filterwarnings(\"ignore\")"
   ]
  },
  {
   "cell_type": "markdown",
   "metadata": {},
   "source": [
    "## material_projects_maked_xrd_pattern_cubicに格納されているファイルを確認"
   ]
  },
  {
   "cell_type": "code",
   "execution_count": 3,
   "metadata": {},
   "outputs": [
    {
     "data": {
      "text/plain": [
       "4575"
      ]
     },
     "execution_count": 3,
     "metadata": {},
     "output_type": "execute_result"
    }
   ],
   "source": [
    "files_cubic = glob.glob(\"../input/material_projects_maked_xrd_pattern_cubic/*.csv\")\n",
    "len(files_cubic)"
   ]
  },
  {
   "cell_type": "code",
   "execution_count": 4,
   "metadata": {},
   "outputs": [],
   "source": [
    "# データフレームのリストを作成\n",
    "df_cubic = [pd.read_csv(file_path) for file_path in files_cubic]"
   ]
  },
  {
   "cell_type": "code",
   "execution_count": 5,
   "metadata": {},
   "outputs": [
    {
     "data": {
      "text/html": [
       "<div>\n",
       "<style scoped>\n",
       "    .dataframe tbody tr th:only-of-type {\n",
       "        vertical-align: middle;\n",
       "    }\n",
       "\n",
       "    .dataframe tbody tr th {\n",
       "        vertical-align: top;\n",
       "    }\n",
       "\n",
       "    .dataframe thead th {\n",
       "        text-align: right;\n",
       "    }\n",
       "</style>\n",
       "<table border=\"1\" class=\"dataframe\">\n",
       "  <thead>\n",
       "    <tr style=\"text-align: right;\">\n",
       "      <th></th>\n",
       "      <th>2theta</th>\n",
       "      <th>Intensity</th>\n",
       "    </tr>\n",
       "  </thead>\n",
       "  <tbody>\n",
       "    <tr>\n",
       "      <th>0</th>\n",
       "      <td>5.00</td>\n",
       "      <td>0.003950</td>\n",
       "    </tr>\n",
       "    <tr>\n",
       "      <th>1</th>\n",
       "      <td>5.01</td>\n",
       "      <td>0.003953</td>\n",
       "    </tr>\n",
       "    <tr>\n",
       "      <th>2</th>\n",
       "      <td>5.02</td>\n",
       "      <td>0.003956</td>\n",
       "    </tr>\n",
       "    <tr>\n",
       "      <th>3</th>\n",
       "      <td>5.03</td>\n",
       "      <td>0.003959</td>\n",
       "    </tr>\n",
       "    <tr>\n",
       "      <th>4</th>\n",
       "      <td>5.04</td>\n",
       "      <td>0.003962</td>\n",
       "    </tr>\n",
       "    <tr>\n",
       "      <th>...</th>\n",
       "      <td>...</td>\n",
       "      <td>...</td>\n",
       "    </tr>\n",
       "    <tr>\n",
       "      <th>9495</th>\n",
       "      <td>99.95</td>\n",
       "      <td>0.003178</td>\n",
       "    </tr>\n",
       "    <tr>\n",
       "      <th>9496</th>\n",
       "      <td>99.96</td>\n",
       "      <td>0.003175</td>\n",
       "    </tr>\n",
       "    <tr>\n",
       "      <th>9497</th>\n",
       "      <td>99.97</td>\n",
       "      <td>0.003172</td>\n",
       "    </tr>\n",
       "    <tr>\n",
       "      <th>9498</th>\n",
       "      <td>99.98</td>\n",
       "      <td>0.003169</td>\n",
       "    </tr>\n",
       "    <tr>\n",
       "      <th>9499</th>\n",
       "      <td>99.99</td>\n",
       "      <td>0.003166</td>\n",
       "    </tr>\n",
       "  </tbody>\n",
       "</table>\n",
       "<p>9500 rows × 2 columns</p>\n",
       "</div>"
      ],
      "text/plain": [
       "      2theta  Intensity\n",
       "0       5.00   0.003950\n",
       "1       5.01   0.003953\n",
       "2       5.02   0.003956\n",
       "3       5.03   0.003959\n",
       "4       5.04   0.003962\n",
       "...      ...        ...\n",
       "9495   99.95   0.003178\n",
       "9496   99.96   0.003175\n",
       "9497   99.97   0.003172\n",
       "9498   99.98   0.003169\n",
       "9499   99.99   0.003166\n",
       "\n",
       "[9500 rows x 2 columns]"
      ]
     },
     "execution_count": 5,
     "metadata": {},
     "output_type": "execute_result"
    }
   ],
   "source": [
    "# df_cubicの1つ目を表示\n",
    "df_cubic[0]"
   ]
  },
  {
   "cell_type": "markdown",
   "metadata": {},
   "source": [
    "## material_projects_maked_xrd_pattern_not_cubicに格納されているファイルを確認"
   ]
  },
  {
   "cell_type": "code",
   "execution_count": 6,
   "metadata": {},
   "outputs": [
    {
     "data": {
      "text/plain": [
       "5425"
      ]
     },
     "execution_count": 6,
     "metadata": {},
     "output_type": "execute_result"
    }
   ],
   "source": [
    "# ファイルのリストを取得\n",
    "files_not_cubic = glob.glob(\n",
    "    \"../input/material_projects_maked_xrd_pattern_not_cubic/*.csv\"\n",
    ")\n",
    "len(files_not_cubic)"
   ]
  },
  {
   "cell_type": "code",
   "execution_count": 7,
   "metadata": {},
   "outputs": [],
   "source": [
    "# データフレームのリストを作成\n",
    "df_not_cubic = [pd.read_csv(file_path) for file_path in files_not_cubic]"
   ]
  },
  {
   "cell_type": "code",
   "execution_count": 8,
   "metadata": {},
   "outputs": [
    {
     "data": {
      "text/html": [
       "<div>\n",
       "<style scoped>\n",
       "    .dataframe tbody tr th:only-of-type {\n",
       "        vertical-align: middle;\n",
       "    }\n",
       "\n",
       "    .dataframe tbody tr th {\n",
       "        vertical-align: top;\n",
       "    }\n",
       "\n",
       "    .dataframe thead th {\n",
       "        text-align: right;\n",
       "    }\n",
       "</style>\n",
       "<table border=\"1\" class=\"dataframe\">\n",
       "  <thead>\n",
       "    <tr style=\"text-align: right;\">\n",
       "      <th></th>\n",
       "      <th>2theta</th>\n",
       "      <th>Intensity</th>\n",
       "    </tr>\n",
       "  </thead>\n",
       "  <tbody>\n",
       "    <tr>\n",
       "      <th>0</th>\n",
       "      <td>5.00</td>\n",
       "      <td>0.015479</td>\n",
       "    </tr>\n",
       "    <tr>\n",
       "      <th>1</th>\n",
       "      <td>5.01</td>\n",
       "      <td>0.015492</td>\n",
       "    </tr>\n",
       "    <tr>\n",
       "      <th>2</th>\n",
       "      <td>5.02</td>\n",
       "      <td>0.015505</td>\n",
       "    </tr>\n",
       "    <tr>\n",
       "      <th>3</th>\n",
       "      <td>5.03</td>\n",
       "      <td>0.015518</td>\n",
       "    </tr>\n",
       "    <tr>\n",
       "      <th>4</th>\n",
       "      <td>5.04</td>\n",
       "      <td>0.015531</td>\n",
       "    </tr>\n",
       "    <tr>\n",
       "      <th>...</th>\n",
       "      <td>...</td>\n",
       "      <td>...</td>\n",
       "    </tr>\n",
       "    <tr>\n",
       "      <th>9495</th>\n",
       "      <td>99.95</td>\n",
       "      <td>0.009290</td>\n",
       "    </tr>\n",
       "    <tr>\n",
       "      <th>9496</th>\n",
       "      <td>99.96</td>\n",
       "      <td>0.009283</td>\n",
       "    </tr>\n",
       "    <tr>\n",
       "      <th>9497</th>\n",
       "      <td>99.97</td>\n",
       "      <td>0.009275</td>\n",
       "    </tr>\n",
       "    <tr>\n",
       "      <th>9498</th>\n",
       "      <td>99.98</td>\n",
       "      <td>0.009268</td>\n",
       "    </tr>\n",
       "    <tr>\n",
       "      <th>9499</th>\n",
       "      <td>99.99</td>\n",
       "      <td>0.009260</td>\n",
       "    </tr>\n",
       "  </tbody>\n",
       "</table>\n",
       "<p>9500 rows × 2 columns</p>\n",
       "</div>"
      ],
      "text/plain": [
       "      2theta  Intensity\n",
       "0       5.00   0.015479\n",
       "1       5.01   0.015492\n",
       "2       5.02   0.015505\n",
       "3       5.03   0.015518\n",
       "4       5.04   0.015531\n",
       "...      ...        ...\n",
       "9495   99.95   0.009290\n",
       "9496   99.96   0.009283\n",
       "9497   99.97   0.009275\n",
       "9498   99.98   0.009268\n",
       "9499   99.99   0.009260\n",
       "\n",
       "[9500 rows x 2 columns]"
      ]
     },
     "execution_count": 8,
     "metadata": {},
     "output_type": "execute_result"
    }
   ],
   "source": [
    "# df_not_cubicの1つ目を表示\n",
    "df_not_cubic[0]"
   ]
  },
  {
   "cell_type": "markdown",
   "metadata": {},
   "source": [
    "## cubic構造のデータとnon-cubic構造のデータとで共通の2θ範囲を設定"
   ]
  },
  {
   "cell_type": "code",
   "execution_count": 9,
   "metadata": {},
   "outputs": [],
   "source": [
    "# 同じ2theta範囲を取得\n",
    "theta_min = max(\n",
    "    max(df[\"2theta\"].min() for df in df_cubic),\n",
    "    max(df[\"2theta\"].min() for df in df_not_cubic),\n",
    ")\n",
    "theta_max = min(\n",
    "    min(df[\"2theta\"].max() for df in df_cubic),\n",
    "    min(df[\"2theta\"].max() for df in df_not_cubic),\n",
    ")\n",
    "common_2theta = np.arange(theta_min, theta_max + 0.01, 0.01)"
   ]
  },
  {
   "cell_type": "code",
   "execution_count": 10,
   "metadata": {},
   "outputs": [
    {
     "name": "stdout",
     "output_type": "stream",
     "text": [
      "[ 5.    5.01  5.02 ... 99.97 99.98 99.99]\n"
     ]
    }
   ],
   "source": [
    "# common_2thetaを表示\n",
    "print(common_2theta)"
   ]
  },
  {
   "cell_type": "code",
   "execution_count": 11,
   "metadata": {},
   "outputs": [],
   "source": [
    "# 両方のデータを共通の2theta範囲に内挿\n",
    "interpolated_data_cubic = []\n",
    "for df in df_cubic:\n",
    "    interpolated_intensity = np.interp(common_2theta, df[\"2theta\"], df[\"Intensity\"])\n",
    "    interpolated_data_cubic.append(interpolated_intensity)\n",
    "\n",
    "interpolated_data_not_cubic = []\n",
    "for df in df_not_cubic:\n",
    "    interpolated_intensity = np.interp(common_2theta, df[\"2theta\"], df[\"Intensity\"])\n",
    "    interpolated_data_not_cubic.append(interpolated_intensity)\n",
    "\n",
    "# データを1つの行列に統合\n",
    "data_matrix_cubic = np.array(interpolated_data_cubic)\n",
    "data_matrix_not_cubic = np.array(interpolated_data_not_cubic)"
   ]
  },
  {
   "cell_type": "markdown",
   "metadata": {},
   "source": [
    "## cubic構造のデータとnon-cubic構造のデータとを連結させてPCAを実行"
   ]
  },
  {
   "cell_type": "code",
   "execution_count": 12,
   "metadata": {},
   "outputs": [],
   "source": [
    "# 両方のデータを連結\n",
    "combined_data_matrix = np.vstack([data_matrix_cubic, data_matrix_not_cubic])\n",
    "\n",
    "# PCAを実行\n",
    "pca = PCA(n_components=2)\n",
    "pca_result_combined = pca.fit_transform(combined_data_matrix)\n",
    "\n",
    "# 分割してデータフレームに戻す\n",
    "pca_result_cubic = pca_result_combined[: len(data_matrix_cubic)]\n",
    "pca_result_not_cubic = pca_result_combined[len(data_matrix_cubic) :]\n",
    "\n",
    "pca_df_cubic = pd.DataFrame(pca_result_cubic, columns=[\"PC1\", \"PC2\"])\n",
    "pca_df_not_cubic = pd.DataFrame(pca_result_not_cubic, columns=[\"PC1\", \"PC2\"])"
   ]
  },
  {
   "cell_type": "code",
   "execution_count": 13,
   "metadata": {},
   "outputs": [
    {
     "data": {
      "text/html": [
       "<div>\n",
       "<style scoped>\n",
       "    .dataframe tbody tr th:only-of-type {\n",
       "        vertical-align: middle;\n",
       "    }\n",
       "\n",
       "    .dataframe tbody tr th {\n",
       "        vertical-align: top;\n",
       "    }\n",
       "\n",
       "    .dataframe thead th {\n",
       "        text-align: right;\n",
       "    }\n",
       "</style>\n",
       "<table border=\"1\" class=\"dataframe\">\n",
       "  <thead>\n",
       "    <tr style=\"text-align: right;\">\n",
       "      <th></th>\n",
       "      <th>PC1</th>\n",
       "      <th>PC2</th>\n",
       "    </tr>\n",
       "  </thead>\n",
       "  <tbody>\n",
       "    <tr>\n",
       "      <th>0</th>\n",
       "      <td>-512.796467</td>\n",
       "      <td>16.193906</td>\n",
       "    </tr>\n",
       "    <tr>\n",
       "      <th>1</th>\n",
       "      <td>-473.345166</td>\n",
       "      <td>-25.704070</td>\n",
       "    </tr>\n",
       "    <tr>\n",
       "      <th>2</th>\n",
       "      <td>-336.490319</td>\n",
       "      <td>614.400906</td>\n",
       "    </tr>\n",
       "    <tr>\n",
       "      <th>3</th>\n",
       "      <td>-488.834451</td>\n",
       "      <td>197.831042</td>\n",
       "    </tr>\n",
       "    <tr>\n",
       "      <th>4</th>\n",
       "      <td>-626.725926</td>\n",
       "      <td>43.373456</td>\n",
       "    </tr>\n",
       "    <tr>\n",
       "      <th>...</th>\n",
       "      <td>...</td>\n",
       "      <td>...</td>\n",
       "    </tr>\n",
       "    <tr>\n",
       "      <th>4570</th>\n",
       "      <td>-668.876766</td>\n",
       "      <td>73.881768</td>\n",
       "    </tr>\n",
       "    <tr>\n",
       "      <th>4571</th>\n",
       "      <td>-665.914687</td>\n",
       "      <td>87.926979</td>\n",
       "    </tr>\n",
       "    <tr>\n",
       "      <th>4572</th>\n",
       "      <td>-673.415993</td>\n",
       "      <td>56.590316</td>\n",
       "    </tr>\n",
       "    <tr>\n",
       "      <th>4573</th>\n",
       "      <td>-587.628063</td>\n",
       "      <td>53.369280</td>\n",
       "    </tr>\n",
       "    <tr>\n",
       "      <th>4574</th>\n",
       "      <td>-566.074524</td>\n",
       "      <td>192.365571</td>\n",
       "    </tr>\n",
       "  </tbody>\n",
       "</table>\n",
       "<p>4575 rows × 2 columns</p>\n",
       "</div>"
      ],
      "text/plain": [
       "             PC1         PC2\n",
       "0    -512.796467   16.193906\n",
       "1    -473.345166  -25.704070\n",
       "2    -336.490319  614.400906\n",
       "3    -488.834451  197.831042\n",
       "4    -626.725926   43.373456\n",
       "...          ...         ...\n",
       "4570 -668.876766   73.881768\n",
       "4571 -665.914687   87.926979\n",
       "4572 -673.415993   56.590316\n",
       "4573 -587.628063   53.369280\n",
       "4574 -566.074524  192.365571\n",
       "\n",
       "[4575 rows x 2 columns]"
      ]
     },
     "execution_count": 13,
     "metadata": {},
     "output_type": "execute_result"
    }
   ],
   "source": [
    "pca_df_cubic"
   ]
  },
  {
   "cell_type": "code",
   "execution_count": 14,
   "metadata": {},
   "outputs": [
    {
     "data": {
      "text/html": [
       "<div>\n",
       "<style scoped>\n",
       "    .dataframe tbody tr th:only-of-type {\n",
       "        vertical-align: middle;\n",
       "    }\n",
       "\n",
       "    .dataframe tbody tr th {\n",
       "        vertical-align: top;\n",
       "    }\n",
       "\n",
       "    .dataframe thead th {\n",
       "        text-align: right;\n",
       "    }\n",
       "</style>\n",
       "<table border=\"1\" class=\"dataframe\">\n",
       "  <thead>\n",
       "    <tr style=\"text-align: right;\">\n",
       "      <th></th>\n",
       "      <th>PC1</th>\n",
       "      <th>PC2</th>\n",
       "    </tr>\n",
       "  </thead>\n",
       "  <tbody>\n",
       "    <tr>\n",
       "      <th>0</th>\n",
       "      <td>-116.267050</td>\n",
       "      <td>-121.827760</td>\n",
       "    </tr>\n",
       "    <tr>\n",
       "      <th>1</th>\n",
       "      <td>-586.067984</td>\n",
       "      <td>45.688609</td>\n",
       "    </tr>\n",
       "    <tr>\n",
       "      <th>2</th>\n",
       "      <td>-575.927510</td>\n",
       "      <td>-10.008211</td>\n",
       "    </tr>\n",
       "    <tr>\n",
       "      <th>3</th>\n",
       "      <td>1538.387360</td>\n",
       "      <td>-1067.299223</td>\n",
       "    </tr>\n",
       "    <tr>\n",
       "      <th>4</th>\n",
       "      <td>2098.789429</td>\n",
       "      <td>317.538697</td>\n",
       "    </tr>\n",
       "    <tr>\n",
       "      <th>...</th>\n",
       "      <td>...</td>\n",
       "      <td>...</td>\n",
       "    </tr>\n",
       "    <tr>\n",
       "      <th>5420</th>\n",
       "      <td>-339.245191</td>\n",
       "      <td>697.190989</td>\n",
       "    </tr>\n",
       "    <tr>\n",
       "      <th>5421</th>\n",
       "      <td>-742.996990</td>\n",
       "      <td>125.345948</td>\n",
       "    </tr>\n",
       "    <tr>\n",
       "      <th>5422</th>\n",
       "      <td>-334.064328</td>\n",
       "      <td>13.154626</td>\n",
       "    </tr>\n",
       "    <tr>\n",
       "      <th>5423</th>\n",
       "      <td>-433.697474</td>\n",
       "      <td>-106.289522</td>\n",
       "    </tr>\n",
       "    <tr>\n",
       "      <th>5424</th>\n",
       "      <td>-752.021712</td>\n",
       "      <td>127.535760</td>\n",
       "    </tr>\n",
       "  </tbody>\n",
       "</table>\n",
       "<p>5425 rows × 2 columns</p>\n",
       "</div>"
      ],
      "text/plain": [
       "              PC1          PC2\n",
       "0     -116.267050  -121.827760\n",
       "1     -586.067984    45.688609\n",
       "2     -575.927510   -10.008211\n",
       "3     1538.387360 -1067.299223\n",
       "4     2098.789429   317.538697\n",
       "...           ...          ...\n",
       "5420  -339.245191   697.190989\n",
       "5421  -742.996990   125.345948\n",
       "5422  -334.064328    13.154626\n",
       "5423  -433.697474  -106.289522\n",
       "5424  -752.021712   127.535760\n",
       "\n",
       "[5425 rows x 2 columns]"
      ]
     },
     "execution_count": 14,
     "metadata": {},
     "output_type": "execute_result"
    }
   ],
   "source": [
    "pca_df_not_cubic"
   ]
  },
  {
   "cell_type": "code",
   "execution_count": 15,
   "metadata": {},
   "outputs": [
    {
     "data": {
      "image/png": "[encoded data removed]",
      "text/plain": [
       "<Figure size 1000x800 with 1 Axes>"
      ]
     },
     "metadata": {},
     "output_type": "display_data"
    }
   ],
   "source": [
    "plt.figure(figsize=(10, 8))\n",
    "\n",
    "plt.scatter(\n",
    "    pca_df_not_cubic[\"PC1\"],\n",
    "    pca_df_not_cubic[\"PC2\"],\n",
    "    alpha=0.5,\n",
    "    label=\"Not Cubic\",\n",
    ")\n",
    "\n",
    "plt.scatter(\n",
    "    pca_df_cubic[\"PC1\"],\n",
    "    pca_df_cubic[\"PC2\"],\n",
    "    alpha=0.5,\n",
    "    label=\"Cubic\",\n",
    ")\n",
    "\n",
    "plt.legend()\n",
    "plt.title(\"PCA of XRD Patterns in Shared Space\")\n",
    "plt.xlabel(\"PC1\")\n",
    "plt.ylabel(\"PC2\")\n",
    "plt.grid(True)\n",
    "plt.show()"
   ]
  },
  {
   "cell_type": "markdown",
   "metadata": {},
   "source": [
    "## cubic構造のデータとnon-cubic構造のデータの分類タスクを行う"
   ]
  },
  {
   "cell_type": "code",
   "execution_count": 16,
   "metadata": {},
   "outputs": [],
   "source": [
    "params = {\n",
    "    \"objective\": \"binary\",\n",
    "    \"learning_rate\": 0.01,\n",
    "    \"reg_alpha\": 0.1,\n",
    "    \"reg_lambda\": 0.1,\n",
    "    \"random_state\": 42,\n",
    "    \"max_depth\": 5,\n",
    "    \"n_estimators\": 1000,\n",
    "    \"colsample_bytree\": 0.7,\n",
    "    \"is_unbalance\": True,\n",
    "}"
   ]
  },
  {
   "cell_type": "code",
   "execution_count": 17,
   "metadata": {},
   "outputs": [
    {
     "name": "stdout",
     "output_type": "stream",
     "text": [
      "Training until validation scores don't improve for 10 rounds\n",
      "Early stopping, best iteration is:\n",
      "[779]\tvalid_0's rmse: 0.39618\tvalid_0's binary_logloss: 0.474793\n",
      "正解率: 0.77\n"
     ]
    }
   ],
   "source": [
    "# pca_dfをPositive、pca_df_をNegativeとしてラベルを付与\n",
    "pca_df_cubic[\"Label\"] = \"Positive\"\n",
    "pca_df_not_cubic[\"Label\"] = \"Negative\"\n",
    "\n",
    "# PositiveとNegativeのデータを結合\n",
    "pca_df_all = pd.concat([pca_df_cubic, pca_df_not_cubic], ignore_index=True)\n",
    "\n",
    "# train_test_split関数をインポート\n",
    "from sklearn.model_selection import train_test_split\n",
    "\n",
    "# データを説明変数と目的変数に分割\n",
    "X = pca_df_all[[\"PC1\", \"PC2\"]]\n",
    "y = pca_df_all[\"Label\"]\n",
    "\n",
    "# データを学習用とテスト用に分割\n",
    "X_train, X_test, y_train, y_test = train_test_split(X, y, test_size=0.2, random_state=42)\n",
    "\n",
    "# LightGBMClassifierをインポート\n",
    "import lightgbm as lgbm\n",
    "\n",
    "# モデルを作成\n",
    "model = lgbm.LGBMClassifier(**params, verbose=-1)  # ログ出力を抑制\n",
    "\n",
    "# モデルを学習\n",
    "model.fit(\n",
    "    X_train,\n",
    "    y_train,\n",
    "    eval_set=[(X_test, y_test)],\n",
    "    eval_metric=\"rmse\",\n",
    "    callbacks=[lgbm.early_stopping(stopping_rounds=10)],\n",
    ")\n",
    "\n",
    "# テストデータで予測\n",
    "y_pred = model.predict(X_test)\n",
    "\n",
    "# accuracy_score関数をインポート\n",
    "from sklearn.metrics import accuracy_score\n",
    "\n",
    "# 正解率を計算\n",
    "accuracy = accuracy_score(y_test, y_pred)\n",
    "\n",
    "# 正解率を表示\n",
    "print(f\"正解率: {accuracy:.2f}\")"
   ]
  },
  {
   "cell_type": "code",
   "execution_count": 18,
   "metadata": {},
   "outputs": [
    {
     "name": "stdout",
     "output_type": "stream",
     "text": [
      "F1スコア: 0.77\n",
      "適合率: 0.70\n",
      "再現率: 0.85\n"
     ]
    }
   ],
   "source": [
    "# F1スコア、適合率、再現率を計算\n",
    "f1 = f1_score(y_test, y_pred, pos_label=\"Positive\")\n",
    "precision = precision_score(y_test, y_pred, pos_label=\"Positive\")\n",
    "recall = recall_score(y_test, y_pred, pos_label=\"Positive\")\n",
    "\n",
    "# F1スコア、適合率、再現率を表示\n",
    "print(f\"F1スコア: {f1:.2f}\")\n",
    "print(f\"適合率: {precision:.2f}\")\n",
    "print(f\"再現率: {recall:.2f}\")"
   ]
  },
  {
   "cell_type": "code",
   "execution_count": 19,
   "metadata": {},
   "outputs": [
    {
     "data": {
      "image/png": "[encoded data removed]",
      "text/plain": [
       "<Figure size 640x480 with 1 Axes>"
      ]
     },
     "metadata": {},
     "output_type": "display_data"
    }
   ],
   "source": [
    "# 混同行列を計算\n",
    "cm = confusion_matrix(y_test, y_pred)\n",
    "\n",
    "# 混同行列をmatplotlibでプロット\n",
    "import seaborn as sns\n",
    "\n",
    "# confusion matrixを左上がTrue Positive、右上がFalse Positive、左下がFalse Negative、右下がTrue Negativeになるように可視化\n",
    "sns.heatmap(\n",
    "    cm[::-1, ::-1],\n",
    "    annot=True,\n",
    "    cmap=\"Blues\",\n",
    "    fmt=\"d\",\n",
    "    cbar=False,\n",
    "    annot_kws={\"size\": 16},\n",
    ")\n",
    "plt.xlabel(\"Prediction\")\n",
    "plt.ylabel(\"Target\")\n",
    "plt.xticks([0.5, 1.5], [\"Positive\", \"Negative\"])\n",
    "plt.yticks([0.5, 1.5], [\"Positive\", \"Negative\"])\n",
    "plt.show()"
   ]
  },
  {
   "cell_type": "code",
   "execution_count": 20,
   "metadata": {
    "tags": []
   },
   "outputs": [
    {
     "data": {
      "image/png": "[encoded data removed]",
      "text/plain": [
       "<Figure size 640x480 with 1 Axes>"
      ]
     },
     "metadata": {},
     "output_type": "display_data"
    }
   ],
   "source": [
    "# テストデータで予測\n",
    "y_pred_proba = model.predict_proba(X_test)[:, 1]\n",
    "\n",
    "# ROC曲線を計算\n",
    "fpr, tpr, thresholds = roc_curve(y_test, y_pred_proba, pos_label=\"Positive\")\n",
    "\n",
    "# AUCを計算\n",
    "auc = roc_auc_score(y_test, y_pred_proba)\n",
    "\n",
    "# ROC曲線を表示\n",
    "plt.plot(fpr, tpr, marker=\"o\", color=\"r\")\n",
    "plt.fill_between(fpr, tpr, color=\"r\", alpha=0.3)\n",
    "plt.xlabel(\"FPR: False positive rate\")\n",
    "plt.ylabel(\"TPR: True positive rate\")\n",
    "plt.grid()\n",
    "plt.text(0.6, 0.2, f\"AUC = {auc:.2f}\", fontsize=12)\n",
    "plt.show()"
   ]
  }
 ],
 "metadata": {
  "kernelspec": {
   "display_name": "Python 3 (ipykernel) (Local)",
   "language": "python",
   "name": "python3"
  },
  "language_info": {
   "codemirror_mode": {
    "name": "ipython",
    "version": 3
   },
   "file_extension": ".py",
   "mimetype": "text/x-python",
   "name": "python",
   "nbconvert_exporter": "python",
   "pygments_lexer": "ipython3",
   "version": "3.10.13"
  }
 },
 "nbformat": 4,
 "nbformat_minor": 4
}
